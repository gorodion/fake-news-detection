{
 "cells": [
  {
   "cell_type": "code",
   "execution_count": 1,
   "id": "d9917e17-bcfd-4ec3-9da5-58c897c0e006",
   "metadata": {},
   "outputs": [],
   "source": [
    "import pandas as pd\n",
    "from gensim.models.fasttext import FastText \n",
    "import logging\n",
    "\n",
    "df = pd.read_csv('lenta_tech.csv')\n",
    "\n",
    "logging.basicConfig(format='%(asctime)s : %(levelname)s : %(message)s', level=logging.INFO)"
   ]
  },
  {
   "cell_type": "code",
   "execution_count": 37,
   "id": "5feb58c6-b633-4711-88f4-72fbdaecc01f",
   "metadata": {},
   "outputs": [],
   "source": [
    "def word_averaging(wv, words):\n",
    "    mean = np.zeros((wv.vector_size,))\n",
    "    \n",
    "    for word in words:\n",
    "        mean += wv.get_vector(word)\n",
    "\n",
    "    mean = gensim.matutils.unitvec(mean)\n",
    "    return mean\n",
    "\n",
    "def word_averaging_list(wv, text_list):\n",
    "    return np.vstack([word_averaging(wv, review) for review in tqdm(text_list)])"
   ]
  },
  {
   "cell_type": "code",
   "execution_count": 3,
   "id": "7e7fc720-02f3-4486-a8b1-5337a55b6e97",
   "metadata": {},
   "outputs": [
    {
     "name": "stderr",
     "output_type": "stream",
     "text": [
      "/home/gorodion/go_venv/lib/python3.7/site-packages/ipykernel_launcher.py:2: FutureWarning: The default value of regex will change from True to False in a future version.\n",
      "  \n"
     ]
    }
   ],
   "source": [
    "def normalize_text(ser: pd.Series):\n",
    "    return ser.str.lower().str.replace(r'[\\W_]', ' ')\n",
    "\n",
    "df.text = normalize_text(df.text)"
   ]
  },
  {
   "cell_type": "code",
   "execution_count": 4,
   "id": "459d4ae8-2b75-486c-af32-820479f85c91",
   "metadata": {},
   "outputs": [],
   "source": [
    "df.text = df.text.apply(lambda x: [i for i in x.split() if len(i) > 1])"
   ]
  },
  {
   "cell_type": "code",
   "execution_count": 5,
   "id": "cac08b0a-eff4-43a4-ac2f-852d53a8a675",
   "metadata": {
    "collapsed": true,
    "jupyter": {
     "outputs_hidden": true
    },
    "tags": []
   },
   "outputs": [
    {
     "name": "stderr",
     "output_type": "stream",
     "text": [
      "2022-06-10 16:41:11,863 : INFO : collecting all words and their counts\n",
      "2022-06-10 16:41:11,864 : INFO : PROGRESS: at sentence #0, processed 0 words, keeping 0 word types\n",
      "2022-06-10 16:41:12,434 : INFO : PROGRESS: at sentence #10000, processed 1781619 words, keeping 136469 word types\n",
      "2022-06-10 16:41:12,938 : INFO : collected 190157 word types from a corpus of 3252866 raw words and 18832 sentences\n",
      "2022-06-10 16:41:12,939 : INFO : Creating a fresh vocabulary\n",
      "2022-06-10 16:41:13,345 : INFO : FastText lifecycle event {'msg': 'effective_min_count=3 retains 78657 unique words (41.36424112706869%% of original 190157, drops 111500)', 'datetime': '2022-06-10T16:41:13.344438', 'gensim': '4.1.2', 'python': '3.7.3 (tags/debian/3.7.3-1+xenial1-dirty:e8c58d1, Jun 20 2019, 08:00:00) \\n[GCC 5.4.0 20160609]', 'platform': 'Linux-5.4.111-14-x86_64-with-Ubuntu-16.04-xenial', 'event': 'prepare_vocab'}\n",
      "2022-06-10 16:41:13,345 : INFO : FastText lifecycle event {'msg': 'effective_min_count=3 leaves 3112383 word corpus (95.68125462284644%% of original 3252866, drops 140483)', 'datetime': '2022-06-10T16:41:13.345948', 'gensim': '4.1.2', 'python': '3.7.3 (tags/debian/3.7.3-1+xenial1-dirty:e8c58d1, Jun 20 2019, 08:00:00) \\n[GCC 5.4.0 20160609]', 'platform': 'Linux-5.4.111-14-x86_64-with-Ubuntu-16.04-xenial', 'event': 'prepare_vocab'}\n",
      "2022-06-10 16:41:13,859 : INFO : deleting the raw counts dictionary of 190157 items\n",
      "2022-06-10 16:41:13,866 : INFO : sample=0.001 downsamples 18 most-common words\n",
      "2022-06-10 16:41:13,867 : INFO : FastText lifecycle event {'msg': 'downsampling leaves estimated 2950273.9529806976 word corpus (94.8%% of prior 3112383)', 'datetime': '2022-06-10T16:41:13.867591', 'gensim': '4.1.2', 'python': '3.7.3 (tags/debian/3.7.3-1+xenial1-dirty:e8c58d1, Jun 20 2019, 08:00:00) \\n[GCC 5.4.0 20160609]', 'platform': 'Linux-5.4.111-14-x86_64-with-Ubuntu-16.04-xenial', 'event': 'prepare_vocab'}\n",
      "2022-06-10 16:41:15,618 : INFO : estimated required memory for 78657 words, 400000 buckets and 200 dimensions: 501966260 bytes\n",
      "2022-06-10 16:41:15,619 : INFO : resetting layer weights\n",
      "2022-06-10 16:41:22,255 : INFO : FastText lifecycle event {'update': False, 'trim_rule': 'None', 'datetime': '2022-06-10T16:41:22.255001', 'gensim': '4.1.2', 'python': '3.7.3 (tags/debian/3.7.3-1+xenial1-dirty:e8c58d1, Jun 20 2019, 08:00:00) \\n[GCC 5.4.0 20160609]', 'platform': 'Linux-5.4.111-14-x86_64-with-Ubuntu-16.04-xenial', 'event': 'build_vocab'}\n",
      "2022-06-10 16:41:22,256 : INFO : FastText lifecycle event {'msg': 'training model with 32 workers on 78657 vocabulary and 200 features, using sg=1 hs=0 sample=0.001 negative=5 window=35 shrink_windows=True', 'datetime': '2022-06-10T16:41:22.256284', 'gensim': '4.1.2', 'python': '3.7.3 (tags/debian/3.7.3-1+xenial1-dirty:e8c58d1, Jun 20 2019, 08:00:00) \\n[GCC 5.4.0 20160609]', 'platform': 'Linux-5.4.111-14-x86_64-with-Ubuntu-16.04-xenial', 'event': 'train'}\n",
      "2022-06-10 16:41:24,880 : INFO : EPOCH 1 - PROGRESS: at 0.27% examples, 3404 words/s, in_qsize 63, out_qsize 0\n",
      "2022-06-10 16:41:25,881 : INFO : EPOCH 1 - PROGRESS: at 6.74% examples, 67675 words/s, in_qsize 63, out_qsize 0\n",
      "2022-06-10 16:41:27,475 : INFO : EPOCH 1 - PROGRESS: at 8.24% examples, 57265 words/s, in_qsize 63, out_qsize 0\n",
      "2022-06-10 16:41:28,944 : INFO : EPOCH 1 - PROGRESS: at 15.02% examples, 81144 words/s, in_qsize 63, out_qsize 0\n",
      "2022-06-10 16:41:29,997 : INFO : EPOCH 1 - PROGRESS: at 16.25% examples, 75889 words/s, in_qsize 63, out_qsize 0\n",
      "2022-06-10 16:41:31,036 : INFO : EPOCH 1 - PROGRESS: at 21.28% examples, 85385 words/s, in_qsize 62, out_qsize 1\n",
      "2022-06-10 16:41:32,389 : INFO : EPOCH 1 - PROGRESS: at 24.47% examples, 83759 words/s, in_qsize 63, out_qsize 0\n",
      "2022-06-10 16:41:33,415 : INFO : EPOCH 1 - PROGRESS: at 29.24% examples, 88981 words/s, in_qsize 64, out_qsize 0\n",
      "2022-06-10 16:41:34,536 : INFO : EPOCH 1 - PROGRESS: at 32.56% examples, 88921 words/s, in_qsize 63, out_qsize 0\n",
      "2022-06-10 16:41:35,623 : INFO : EPOCH 1 - PROGRESS: at 36.41% examples, 89764 words/s, in_qsize 63, out_qsize 0\n",
      "2022-06-10 16:41:36,668 : INFO : EPOCH 1 - PROGRESS: at 41.53% examples, 92012 words/s, in_qsize 64, out_qsize 0\n",
      "2022-06-10 16:41:37,777 : INFO : EPOCH 1 - PROGRESS: at 44.74% examples, 90657 words/s, in_qsize 63, out_qsize 0\n",
      "2022-06-10 16:41:38,787 : INFO : EPOCH 1 - PROGRESS: at 49.97% examples, 93252 words/s, in_qsize 63, out_qsize 0\n",
      "2022-06-10 16:41:39,789 : INFO : EPOCH 1 - PROGRESS: at 54.21% examples, 94103 words/s, in_qsize 64, out_qsize 0\n",
      "2022-06-10 16:41:40,808 : INFO : EPOCH 1 - PROGRESS: at 57.06% examples, 92831 words/s, in_qsize 63, out_qsize 0\n",
      "2022-06-10 16:41:41,810 : INFO : EPOCH 1 - PROGRESS: at 62.28% examples, 94948 words/s, in_qsize 63, out_qsize 0\n",
      "2022-06-10 16:41:42,839 : INFO : EPOCH 1 - PROGRESS: at 66.22% examples, 95424 words/s, in_qsize 64, out_qsize 0\n",
      "2022-06-10 16:41:43,924 : INFO : EPOCH 1 - PROGRESS: at 68.48% examples, 93532 words/s, in_qsize 64, out_qsize 0\n",
      "2022-06-10 16:41:44,932 : INFO : EPOCH 1 - PROGRESS: at 74.67% examples, 97269 words/s, in_qsize 64, out_qsize 0\n",
      "2022-06-10 16:41:46,085 : INFO : EPOCH 1 - PROGRESS: at 77.12% examples, 95544 words/s, in_qsize 63, out_qsize 0\n",
      "2022-06-10 16:41:47,092 : INFO : EPOCH 1 - PROGRESS: at 80.98% examples, 96363 words/s, in_qsize 63, out_qsize 0\n",
      "2022-06-10 16:41:48,094 : INFO : EPOCH 1 - PROGRESS: at 84.95% examples, 97130 words/s, in_qsize 50, out_qsize 0\n",
      "2022-06-10 16:41:49,160 : INFO : EPOCH 1 - PROGRESS: at 87.69% examples, 96280 words/s, in_qsize 41, out_qsize 0\n",
      "2022-06-10 16:41:49,801 : INFO : worker thread finished; awaiting finish of 31 more threads\n",
      "2022-06-10 16:41:49,848 : INFO : worker thread finished; awaiting finish of 30 more threads\n",
      "2022-06-10 16:41:49,894 : INFO : worker thread finished; awaiting finish of 29 more threads\n",
      "2022-06-10 16:41:50,018 : INFO : worker thread finished; awaiting finish of 28 more threads\n",
      "2022-06-10 16:41:50,020 : INFO : worker thread finished; awaiting finish of 27 more threads\n",
      "2022-06-10 16:41:50,102 : INFO : worker thread finished; awaiting finish of 26 more threads\n",
      "2022-06-10 16:41:50,113 : INFO : worker thread finished; awaiting finish of 25 more threads\n",
      "2022-06-10 16:41:50,152 : INFO : worker thread finished; awaiting finish of 24 more threads\n",
      "2022-06-10 16:41:50,356 : INFO : EPOCH 1 - PROGRESS: at 93.22% examples, 97929 words/s, in_qsize 23, out_qsize 1\n",
      "2022-06-10 16:41:50,358 : INFO : worker thread finished; awaiting finish of 23 more threads\n",
      "2022-06-10 16:41:50,438 : INFO : worker thread finished; awaiting finish of 22 more threads\n",
      "2022-06-10 16:41:50,501 : INFO : worker thread finished; awaiting finish of 21 more threads\n",
      "2022-06-10 16:41:50,513 : INFO : worker thread finished; awaiting finish of 20 more threads\n",
      "2022-06-10 16:41:50,632 : INFO : worker thread finished; awaiting finish of 19 more threads\n",
      "2022-06-10 16:41:50,637 : INFO : worker thread finished; awaiting finish of 18 more threads\n",
      "2022-06-10 16:41:50,651 : INFO : worker thread finished; awaiting finish of 17 more threads\n",
      "2022-06-10 16:41:50,696 : INFO : worker thread finished; awaiting finish of 16 more threads\n",
      "2022-06-10 16:41:50,700 : INFO : worker thread finished; awaiting finish of 15 more threads\n",
      "2022-06-10 16:41:50,760 : INFO : worker thread finished; awaiting finish of 14 more threads\n",
      "2022-06-10 16:41:50,862 : INFO : worker thread finished; awaiting finish of 13 more threads\n",
      "2022-06-10 16:41:51,040 : INFO : worker thread finished; awaiting finish of 12 more threads\n",
      "2022-06-10 16:41:51,083 : INFO : worker thread finished; awaiting finish of 11 more threads\n",
      "2022-06-10 16:41:51,119 : INFO : worker thread finished; awaiting finish of 10 more threads\n",
      "2022-06-10 16:41:51,129 : INFO : worker thread finished; awaiting finish of 9 more threads\n",
      "2022-06-10 16:41:51,211 : INFO : worker thread finished; awaiting finish of 8 more threads\n",
      "2022-06-10 16:41:51,256 : INFO : worker thread finished; awaiting finish of 7 more threads\n",
      "2022-06-10 16:41:51,303 : INFO : worker thread finished; awaiting finish of 6 more threads\n",
      "2022-06-10 16:41:51,331 : INFO : worker thread finished; awaiting finish of 5 more threads\n",
      "2022-06-10 16:41:51,356 : INFO : worker thread finished; awaiting finish of 4 more threads\n",
      "2022-06-10 16:41:51,379 : INFO : EPOCH 1 - PROGRESS: at 99.13% examples, 100484 words/s, in_qsize 3, out_qsize 1\n",
      "2022-06-10 16:41:51,380 : INFO : worker thread finished; awaiting finish of 3 more threads\n",
      "2022-06-10 16:41:51,396 : INFO : worker thread finished; awaiting finish of 2 more threads\n",
      "2022-06-10 16:41:51,455 : INFO : worker thread finished; awaiting finish of 1 more threads\n",
      "2022-06-10 16:41:51,532 : INFO : worker thread finished; awaiting finish of 0 more threads\n",
      "2022-06-10 16:41:51,533 : INFO : EPOCH - 1 : training on 3252866 raw words (2950724 effective words) took 29.3s, 100878 effective words/s\n",
      "2022-06-10 16:41:54,107 : INFO : EPOCH 2 - PROGRESS: at 0.24% examples, 3450 words/s, in_qsize 63, out_qsize 0\n",
      "2022-06-10 16:41:55,114 : INFO : EPOCH 2 - PROGRESS: at 6.78% examples, 68259 words/s, in_qsize 63, out_qsize 0\n",
      "2022-06-10 16:41:56,663 : INFO : EPOCH 2 - PROGRESS: at 8.28% examples, 58158 words/s, in_qsize 63, out_qsize 0\n",
      "2022-06-10 16:41:57,691 : INFO : EPOCH 2 - PROGRESS: at 13.51% examples, 79179 words/s, in_qsize 63, out_qsize 0\n",
      "2022-06-10 16:41:59,277 : INFO : EPOCH 2 - PROGRESS: at 16.00% examples, 74590 words/s, in_qsize 62, out_qsize 1\n",
      "2022-06-10 16:42:00,375 : INFO : EPOCH 2 - PROGRESS: at 21.36% examples, 85658 words/s, in_qsize 63, out_qsize 0\n",
      "2022-06-10 16:42:01,704 : INFO : EPOCH 2 - PROGRESS: at 24.47% examples, 83338 words/s, in_qsize 63, out_qsize 0\n",
      "2022-06-10 16:42:02,725 : INFO : EPOCH 2 - PROGRESS: at 29.85% examples, 90248 words/s, in_qsize 63, out_qsize 0\n",
      "2022-06-10 16:42:03,865 : INFO : EPOCH 2 - PROGRESS: at 32.26% examples, 87747 words/s, in_qsize 64, out_qsize 0\n",
      "2022-06-10 16:42:04,908 : INFO : EPOCH 2 - PROGRESS: at 36.45% examples, 89621 words/s, in_qsize 63, out_qsize 0\n",
      "2022-06-10 16:42:05,969 : INFO : EPOCH 2 - PROGRESS: at 41.48% examples, 91767 words/s, in_qsize 63, out_qsize 0\n",
      "2022-06-10 16:42:07,122 : INFO : EPOCH 2 - PROGRESS: at 45.00% examples, 90736 words/s, in_qsize 63, out_qsize 0\n",
      "2022-06-10 16:42:08,159 : INFO : EPOCH 2 - PROGRESS: at 50.00% examples, 92650 words/s, in_qsize 63, out_qsize 0\n",
      "2022-06-10 16:42:09,277 : INFO : EPOCH 2 - PROGRESS: at 53.53% examples, 91899 words/s, in_qsize 62, out_qsize 1\n",
      "2022-06-10 16:42:10,404 : INFO : EPOCH 2 - PROGRESS: at 58.83% examples, 93578 words/s, in_qsize 62, out_qsize 1\n",
      "2022-06-10 16:42:11,511 : INFO : EPOCH 2 - PROGRESS: at 62.27% examples, 92884 words/s, in_qsize 63, out_qsize 0\n",
      "2022-06-10 16:42:12,587 : INFO : EPOCH 2 - PROGRESS: at 67.56% examples, 94936 words/s, in_qsize 62, out_qsize 1\n",
      "2022-06-10 16:42:13,595 : INFO : EPOCH 2 - PROGRESS: at 71.02% examples, 95069 words/s, in_qsize 64, out_qsize 0\n",
      "2022-06-10 16:42:15,003 : INFO : EPOCH 2 - PROGRESS: at 75.86% examples, 95448 words/s, in_qsize 63, out_qsize 0\n",
      "2022-06-10 16:42:16,045 : INFO : EPOCH 2 - PROGRESS: at 79.24% examples, 95393 words/s, in_qsize 63, out_qsize 0\n",
      "2022-06-10 16:42:17,094 : INFO : EPOCH 2 - PROGRESS: at 84.65% examples, 97788 words/s, in_qsize 51, out_qsize 0\n",
      "2022-06-10 16:42:18,155 : INFO : EPOCH 2 - PROGRESS: at 86.76% examples, 96251 words/s, in_qsize 44, out_qsize 0\n",
      "2022-06-10 16:42:19,165 : INFO : EPOCH 2 - PROGRESS: at 90.14% examples, 96297 words/s, in_qsize 33, out_qsize 0\n",
      "2022-06-10 16:42:19,213 : INFO : worker thread finished; awaiting finish of 31 more threads\n",
      "2022-06-10 16:42:19,237 : INFO : worker thread finished; awaiting finish of 30 more threads\n",
      "2022-06-10 16:42:19,248 : INFO : worker thread finished; awaiting finish of 29 more threads\n",
      "2022-06-10 16:42:19,398 : INFO : worker thread finished; awaiting finish of 28 more threads\n",
      "2022-06-10 16:42:19,404 : INFO : worker thread finished; awaiting finish of 27 more threads\n",
      "2022-06-10 16:42:19,406 : INFO : worker thread finished; awaiting finish of 26 more threads\n",
      "2022-06-10 16:42:19,409 : INFO : worker thread finished; awaiting finish of 25 more threads\n",
      "2022-06-10 16:42:19,456 : INFO : worker thread finished; awaiting finish of 24 more threads\n",
      "2022-06-10 16:42:19,533 : INFO : worker thread finished; awaiting finish of 23 more threads\n",
      "2022-06-10 16:42:19,577 : INFO : worker thread finished; awaiting finish of 22 more threads\n",
      "2022-06-10 16:42:19,648 : INFO : worker thread finished; awaiting finish of 21 more threads\n",
      "2022-06-10 16:42:19,796 : INFO : worker thread finished; awaiting finish of 20 more threads\n",
      "2022-06-10 16:42:19,861 : INFO : worker thread finished; awaiting finish of 19 more threads\n",
      "2022-06-10 16:42:19,880 : INFO : worker thread finished; awaiting finish of 18 more threads\n",
      "2022-06-10 16:42:19,931 : INFO : worker thread finished; awaiting finish of 17 more threads\n",
      "2022-06-10 16:42:19,933 : INFO : worker thread finished; awaiting finish of 16 more threads\n",
      "2022-06-10 16:42:20,037 : INFO : worker thread finished; awaiting finish of 15 more threads\n",
      "2022-06-10 16:42:20,144 : INFO : worker thread finished; awaiting finish of 14 more threads\n",
      "2022-06-10 16:42:20,208 : INFO : EPOCH 2 - PROGRESS: at 96.13% examples, 98891 words/s, in_qsize 13, out_qsize 1\n",
      "2022-06-10 16:42:20,209 : INFO : worker thread finished; awaiting finish of 13 more threads\n",
      "2022-06-10 16:42:20,258 : INFO : worker thread finished; awaiting finish of 12 more threads\n",
      "2022-06-10 16:42:20,348 : INFO : worker thread finished; awaiting finish of 11 more threads\n",
      "2022-06-10 16:42:20,418 : INFO : worker thread finished; awaiting finish of 10 more threads\n",
      "2022-06-10 16:42:20,525 : INFO : worker thread finished; awaiting finish of 9 more threads\n",
      "2022-06-10 16:42:20,532 : INFO : worker thread finished; awaiting finish of 8 more threads\n",
      "2022-06-10 16:42:20,701 : INFO : worker thread finished; awaiting finish of 7 more threads\n",
      "2022-06-10 16:42:20,713 : INFO : worker thread finished; awaiting finish of 6 more threads\n",
      "2022-06-10 16:42:20,739 : INFO : worker thread finished; awaiting finish of 5 more threads\n",
      "2022-06-10 16:42:20,777 : INFO : worker thread finished; awaiting finish of 4 more threads\n",
      "2022-06-10 16:42:20,781 : INFO : worker thread finished; awaiting finish of 3 more threads\n",
      "2022-06-10 16:42:20,793 : INFO : worker thread finished; awaiting finish of 2 more threads\n",
      "2022-06-10 16:42:20,902 : INFO : worker thread finished; awaiting finish of 1 more threads\n",
      "2022-06-10 16:42:20,915 : INFO : worker thread finished; awaiting finish of 0 more threads\n",
      "2022-06-10 16:42:20,916 : INFO : EPOCH - 2 : training on 3252866 raw words (2950344 effective words) took 29.4s, 100474 effective words/s\n",
      "2022-06-10 16:42:23,454 : INFO : EPOCH 3 - PROGRESS: at 0.26% examples, 3580 words/s, in_qsize 63, out_qsize 0\n",
      "2022-06-10 16:42:24,473 : INFO : EPOCH 3 - PROGRESS: at 6.79% examples, 68642 words/s, in_qsize 63, out_qsize 0\n",
      "2022-06-10 16:42:26,035 : INFO : EPOCH 3 - PROGRESS: at 8.24% examples, 58240 words/s, in_qsize 63, out_qsize 0\n",
      "2022-06-10 16:42:27,044 : INFO : EPOCH 3 - PROGRESS: at 13.02% examples, 76589 words/s, in_qsize 63, out_qsize 0\n",
      "2022-06-10 16:42:28,365 : INFO : EPOCH 3 - PROGRESS: at 16.00% examples, 77544 words/s, in_qsize 63, out_qsize 0\n",
      "2022-06-10 16:42:29,394 : INFO : EPOCH 3 - PROGRESS: at 19.13% examples, 80878 words/s, in_qsize 63, out_qsize 0\n",
      "2022-06-10 16:42:30,460 : INFO : EPOCH 3 - PROGRESS: at 23.89% examples, 86940 words/s, in_qsize 63, out_qsize 0\n",
      "2022-06-10 16:42:31,492 : INFO : EPOCH 3 - PROGRESS: at 25.35% examples, 82693 words/s, in_qsize 63, out_qsize 0\n",
      "2022-06-10 16:42:32,555 : INFO : EPOCH 3 - PROGRESS: at 30.74% examples, 89103 words/s, in_qsize 63, out_qsize 0\n",
      "2022-06-10 16:42:33,599 : INFO : EPOCH 3 - PROGRESS: at 33.14% examples, 87421 words/s, in_qsize 63, out_qsize 0\n",
      "2022-06-10 16:42:34,847 : INFO : EPOCH 3 - PROGRESS: at 37.48% examples, 87978 words/s, in_qsize 63, out_qsize 0\n",
      "2022-06-10 16:42:35,913 : INFO : EPOCH 3 - PROGRESS: at 44.02% examples, 92539 words/s, in_qsize 64, out_qsize 0\n",
      "2022-06-10 16:42:36,998 : INFO : EPOCH 3 - PROGRESS: at 46.46% examples, 90190 words/s, in_qsize 64, out_qsize 0\n",
      "2022-06-10 16:42:38,169 : INFO : EPOCH 3 - PROGRESS: at 53.49% examples, 94501 words/s, in_qsize 63, out_qsize 0\n",
      "2022-06-10 16:42:39,352 : INFO : EPOCH 3 - PROGRESS: at 56.33% examples, 92349 words/s, in_qsize 63, out_qsize 0\n",
      "2022-06-10 16:42:40,365 : INFO : EPOCH 3 - PROGRESS: at 60.88% examples, 93551 words/s, in_qsize 64, out_qsize 1\n",
      "2022-06-10 16:42:41,406 : INFO : EPOCH 3 - PROGRESS: at 65.26% examples, 94480 words/s, in_qsize 64, out_qsize 0\n",
      "2022-06-10 16:42:42,441 : INFO : EPOCH 3 - PROGRESS: at 68.53% examples, 94088 words/s, in_qsize 63, out_qsize 0\n",
      "2022-06-10 16:42:43,645 : INFO : EPOCH 3 - PROGRESS: at 72.75% examples, 94625 words/s, in_qsize 63, out_qsize 0\n",
      "2022-06-10 16:42:44,656 : INFO : EPOCH 3 - PROGRESS: at 76.76% examples, 95473 words/s, in_qsize 64, out_qsize 0\n",
      "2022-06-10 16:42:45,661 : INFO : EPOCH 3 - PROGRESS: at 80.66% examples, 96280 words/s, in_qsize 62, out_qsize 1\n",
      "2022-06-10 16:42:46,704 : INFO : EPOCH 3 - PROGRESS: at 84.02% examples, 96206 words/s, in_qsize 53, out_qsize 0\n",
      "2022-06-10 16:42:47,804 : INFO : EPOCH 3 - PROGRESS: at 87.12% examples, 95614 words/s, in_qsize 43, out_qsize 0\n",
      "2022-06-10 16:42:48,613 : INFO : worker thread finished; awaiting finish of 31 more threads\n",
      "2022-06-10 16:42:48,651 : INFO : worker thread finished; awaiting finish of 30 more threads\n",
      "2022-06-10 16:42:48,796 : INFO : worker thread finished; awaiting finish of 29 more threads\n",
      "2022-06-10 16:42:48,860 : INFO : EPOCH 3 - PROGRESS: at 91.64% examples, 96822 words/s, in_qsize 28, out_qsize 1\n",
      "2022-06-10 16:42:48,861 : INFO : worker thread finished; awaiting finish of 28 more threads\n",
      "2022-06-10 16:42:48,874 : INFO : worker thread finished; awaiting finish of 27 more threads\n",
      "2022-06-10 16:42:48,900 : INFO : worker thread finished; awaiting finish of 26 more threads\n",
      "2022-06-10 16:42:48,920 : INFO : worker thread finished; awaiting finish of 25 more threads\n",
      "2022-06-10 16:42:48,922 : INFO : worker thread finished; awaiting finish of 24 more threads\n",
      "2022-06-10 16:42:49,069 : INFO : worker thread finished; awaiting finish of 23 more threads\n",
      "2022-06-10 16:42:49,129 : INFO : worker thread finished; awaiting finish of 22 more threads\n",
      "2022-06-10 16:42:49,137 : INFO : worker thread finished; awaiting finish of 21 more threads\n",
      "2022-06-10 16:42:49,171 : INFO : worker thread finished; awaiting finish of 20 more threads\n",
      "2022-06-10 16:42:49,283 : INFO : worker thread finished; awaiting finish of 19 more threads\n",
      "2022-06-10 16:42:49,340 : INFO : worker thread finished; awaiting finish of 18 more threads\n",
      "2022-06-10 16:42:49,400 : INFO : worker thread finished; awaiting finish of 17 more threads\n",
      "2022-06-10 16:42:49,571 : INFO : worker thread finished; awaiting finish of 16 more threads\n",
      "2022-06-10 16:42:49,611 : INFO : worker thread finished; awaiting finish of 15 more threads\n",
      "2022-06-10 16:42:49,689 : INFO : worker thread finished; awaiting finish of 14 more threads\n",
      "2022-06-10 16:42:49,806 : INFO : worker thread finished; awaiting finish of 13 more threads\n",
      "2022-06-10 16:42:49,858 : INFO : worker thread finished; awaiting finish of 12 more threads\n",
      "2022-06-10 16:42:49,896 : INFO : EPOCH 3 - PROGRESS: at 96.74% examples, 98457 words/s, in_qsize 11, out_qsize 1\n",
      "2022-06-10 16:42:49,898 : INFO : worker thread finished; awaiting finish of 11 more threads\n",
      "2022-06-10 16:42:49,899 : INFO : worker thread finished; awaiting finish of 10 more threads\n",
      "2022-06-10 16:42:49,949 : INFO : worker thread finished; awaiting finish of 9 more threads\n",
      "2022-06-10 16:42:50,042 : INFO : worker thread finished; awaiting finish of 8 more threads\n",
      "2022-06-10 16:42:50,138 : INFO : worker thread finished; awaiting finish of 7 more threads\n",
      "2022-06-10 16:42:50,145 : INFO : worker thread finished; awaiting finish of 6 more threads\n",
      "2022-06-10 16:42:50,200 : INFO : worker thread finished; awaiting finish of 5 more threads\n",
      "2022-06-10 16:42:50,257 : INFO : worker thread finished; awaiting finish of 4 more threads\n",
      "2022-06-10 16:42:50,270 : INFO : worker thread finished; awaiting finish of 3 more threads\n",
      "2022-06-10 16:42:50,278 : INFO : worker thread finished; awaiting finish of 2 more threads\n",
      "2022-06-10 16:42:50,286 : INFO : worker thread finished; awaiting finish of 1 more threads\n",
      "2022-06-10 16:42:50,345 : INFO : worker thread finished; awaiting finish of 0 more threads\n",
      "2022-06-10 16:42:50,346 : INFO : EPOCH - 3 : training on 3252866 raw words (2950023 effective words) took 29.4s, 100301 effective words/s\n",
      "2022-06-10 16:42:52,963 : INFO : EPOCH 4 - PROGRESS: at 0.26% examples, 3429 words/s, in_qsize 63, out_qsize 0\n",
      "2022-06-10 16:42:54,131 : INFO : EPOCH 4 - PROGRESS: at 6.72% examples, 64488 words/s, in_qsize 62, out_qsize 1\n",
      "2022-06-10 16:42:55,487 : INFO : EPOCH 4 - PROGRESS: at 8.28% examples, 58040 words/s, in_qsize 63, out_qsize 0\n",
      "2022-06-10 16:42:56,538 : INFO : EPOCH 4 - PROGRESS: at 13.76% examples, 80241 words/s, in_qsize 63, out_qsize 0\n",
      "2022-06-10 16:42:57,570 : INFO : EPOCH 4 - PROGRESS: at 15.28% examples, 76233 words/s, in_qsize 63, out_qsize 0\n",
      "2022-06-10 16:42:58,575 : INFO : EPOCH 4 - PROGRESS: at 18.57% examples, 81053 words/s, in_qsize 63, out_qsize 0\n",
      "2022-06-10 16:42:59,747 : INFO : EPOCH 4 - PROGRESS: at 23.22% examples, 86317 words/s, in_qsize 63, out_qsize 0\n",
      "2022-06-10 16:43:00,751 : INFO : EPOCH 4 - PROGRESS: at 25.10% examples, 83207 words/s, in_qsize 63, out_qsize 0\n",
      "2022-06-10 16:43:01,803 : INFO : EPOCH 4 - PROGRESS: at 29.57% examples, 87364 words/s, in_qsize 63, out_qsize 0\n",
      "2022-06-10 16:43:02,840 : INFO : EPOCH 4 - PROGRESS: at 32.82% examples, 88046 words/s, in_qsize 63, out_qsize 0\n",
      "2022-06-10 16:43:03,919 : INFO : EPOCH 4 - PROGRESS: at 37.13% examples, 89642 words/s, in_qsize 63, out_qsize 0\n",
      "2022-06-10 16:43:04,946 : INFO : EPOCH 4 - PROGRESS: at 41.48% examples, 90742 words/s, in_qsize 63, out_qsize 0\n",
      "2022-06-10 16:43:05,992 : INFO : EPOCH 4 - PROGRESS: at 44.76% examples, 89845 words/s, in_qsize 64, out_qsize 1\n",
      "2022-06-10 16:43:07,026 : INFO : EPOCH 4 - PROGRESS: at 50.39% examples, 92886 words/s, in_qsize 64, out_qsize 0\n",
      "2022-06-10 16:43:08,161 : INFO : EPOCH 4 - PROGRESS: at 53.84% examples, 92047 words/s, in_qsize 63, out_qsize 0\n",
      "2022-06-10 16:43:09,205 : INFO : EPOCH 4 - PROGRESS: at 59.16% examples, 94127 words/s, in_qsize 63, out_qsize 0\n",
      "2022-06-10 16:43:10,237 : INFO : EPOCH 4 - PROGRESS: at 62.60% examples, 93746 words/s, in_qsize 64, out_qsize 0\n",
      "2022-06-10 16:43:11,250 : INFO : EPOCH 4 - PROGRESS: at 66.24% examples, 93905 words/s, in_qsize 63, out_qsize 0\n",
      "2022-06-10 16:43:12,293 : INFO : EPOCH 4 - PROGRESS: at 70.66% examples, 95161 words/s, in_qsize 63, out_qsize 0\n",
      "2022-06-10 16:43:13,426 : INFO : EPOCH 4 - PROGRESS: at 74.33% examples, 95134 words/s, in_qsize 63, out_qsize 0\n",
      "2022-06-10 16:43:14,449 : INFO : EPOCH 4 - PROGRESS: at 77.35% examples, 94790 words/s, in_qsize 63, out_qsize 0\n",
      "2022-06-10 16:43:15,484 : INFO : EPOCH 4 - PROGRESS: at 82.16% examples, 96573 words/s, in_qsize 59, out_qsize 0\n",
      "2022-06-10 16:43:16,571 : INFO : EPOCH 4 - PROGRESS: at 85.24% examples, 95985 words/s, in_qsize 49, out_qsize 0\n",
      "2022-06-10 16:43:17,580 : INFO : EPOCH 4 - PROGRESS: at 88.56% examples, 96065 words/s, in_qsize 38, out_qsize 0\n",
      "2022-06-10 16:43:18,076 : INFO : worker thread finished; awaiting finish of 31 more threads\n",
      "2022-06-10 16:43:18,171 : INFO : worker thread finished; awaiting finish of 30 more threads\n",
      "2022-06-10 16:43:18,320 : INFO : worker thread finished; awaiting finish of 29 more threads\n",
      "2022-06-10 16:43:18,533 : INFO : worker thread finished; awaiting finish of 28 more threads\n",
      "2022-06-10 16:43:18,601 : INFO : EPOCH 4 - PROGRESS: at 92.00% examples, 96087 words/s, in_qsize 27, out_qsize 1\n",
      "2022-06-10 16:43:18,602 : INFO : worker thread finished; awaiting finish of 27 more threads\n",
      "2022-06-10 16:43:18,643 : INFO : worker thread finished; awaiting finish of 26 more threads\n",
      "2022-06-10 16:43:18,651 : INFO : worker thread finished; awaiting finish of 25 more threads\n",
      "2022-06-10 16:43:18,672 : INFO : worker thread finished; awaiting finish of 24 more threads\n",
      "2022-06-10 16:43:18,694 : INFO : worker thread finished; awaiting finish of 23 more threads\n",
      "2022-06-10 16:43:18,698 : INFO : worker thread finished; awaiting finish of 22 more threads\n",
      "2022-06-10 16:43:18,754 : INFO : worker thread finished; awaiting finish of 21 more threads\n",
      "2022-06-10 16:43:18,774 : INFO : worker thread finished; awaiting finish of 20 more threads\n",
      "2022-06-10 16:43:18,827 : INFO : worker thread finished; awaiting finish of 19 more threads\n",
      "2022-06-10 16:43:18,906 : INFO : worker thread finished; awaiting finish of 18 more threads\n",
      "2022-06-10 16:43:18,937 : INFO : worker thread finished; awaiting finish of 17 more threads\n",
      "2022-06-10 16:43:18,969 : INFO : worker thread finished; awaiting finish of 16 more threads\n",
      "2022-06-10 16:43:18,991 : INFO : worker thread finished; awaiting finish of 15 more threads\n",
      "2022-06-10 16:43:19,062 : INFO : worker thread finished; awaiting finish of 14 more threads\n",
      "2022-06-10 16:43:19,169 : INFO : worker thread finished; awaiting finish of 13 more threads\n",
      "2022-06-10 16:43:19,231 : INFO : worker thread finished; awaiting finish of 12 more threads\n",
      "2022-06-10 16:43:19,264 : INFO : worker thread finished; awaiting finish of 11 more threads\n",
      "2022-06-10 16:43:19,440 : INFO : worker thread finished; awaiting finish of 10 more threads\n",
      "2022-06-10 16:43:19,491 : INFO : worker thread finished; awaiting finish of 9 more threads\n",
      "2022-06-10 16:43:19,514 : INFO : worker thread finished; awaiting finish of 8 more threads\n",
      "2022-06-10 16:43:19,530 : INFO : worker thread finished; awaiting finish of 7 more threads\n",
      "2022-06-10 16:43:19,534 : INFO : worker thread finished; awaiting finish of 6 more threads\n",
      "2022-06-10 16:43:19,653 : INFO : EPOCH 4 - PROGRESS: at 98.49% examples, 99208 words/s, in_qsize 5, out_qsize 1\n",
      "2022-06-10 16:43:19,654 : INFO : worker thread finished; awaiting finish of 5 more threads\n",
      "2022-06-10 16:43:19,741 : INFO : worker thread finished; awaiting finish of 4 more threads\n",
      "2022-06-10 16:43:19,772 : INFO : worker thread finished; awaiting finish of 3 more threads\n",
      "2022-06-10 16:43:19,779 : INFO : worker thread finished; awaiting finish of 2 more threads\n",
      "2022-06-10 16:43:19,862 : INFO : worker thread finished; awaiting finish of 1 more threads\n",
      "2022-06-10 16:43:19,876 : INFO : worker thread finished; awaiting finish of 0 more threads\n",
      "2022-06-10 16:43:19,877 : INFO : EPOCH - 4 : training on 3252866 raw words (2950358 effective words) took 29.5s, 99976 effective words/s\n",
      "2022-06-10 16:43:22,490 : INFO : EPOCH 5 - PROGRESS: at 0.24% examples, 3399 words/s, in_qsize 64, out_qsize 0\n",
      "2022-06-10 16:43:23,538 : INFO : EPOCH 5 - PROGRESS: at 6.99% examples, 69193 words/s, in_qsize 64, out_qsize 1\n",
      "2022-06-10 16:43:24,980 : INFO : EPOCH 5 - PROGRESS: at 8.25% examples, 58456 words/s, in_qsize 63, out_qsize 0\n",
      "2022-06-10 16:43:26,013 : INFO : EPOCH 5 - PROGRESS: at 12.77% examples, 75065 words/s, in_qsize 64, out_qsize 0\n",
      "2022-06-10 16:43:27,408 : INFO : EPOCH 5 - PROGRESS: at 15.51% examples, 74321 words/s, in_qsize 63, out_qsize 0\n",
      "2022-06-10 16:43:28,440 : INFO : EPOCH 5 - PROGRESS: at 19.94% examples, 83184 words/s, in_qsize 63, out_qsize 0\n",
      "2022-06-10 16:43:29,474 : INFO : EPOCH 5 - PROGRESS: at 23.53% examples, 85504 words/s, in_qsize 63, out_qsize 0\n",
      "2022-06-10 16:43:30,494 : INFO : EPOCH 5 - PROGRESS: at 26.57% examples, 85789 words/s, in_qsize 63, out_qsize 0\n",
      "2022-06-10 16:43:31,495 : INFO : EPOCH 5 - PROGRESS: at 29.86% examples, 86938 words/s, in_qsize 63, out_qsize 0\n",
      "2022-06-10 16:43:32,602 : INFO : EPOCH 5 - PROGRESS: at 32.83% examples, 86450 words/s, in_qsize 63, out_qsize 0\n",
      "2022-06-10 16:43:33,604 : INFO : EPOCH 5 - PROGRESS: at 37.42% examples, 89289 words/s, in_qsize 63, out_qsize 0\n",
      "2022-06-10 16:43:34,640 : INFO : EPOCH 5 - PROGRESS: at 42.21% examples, 90962 words/s, in_qsize 63, out_qsize 0\n",
      "2022-06-10 16:43:35,654 : INFO : EPOCH 5 - PROGRESS: at 46.14% examples, 91388 words/s, in_qsize 63, out_qsize 0\n",
      "2022-06-10 16:43:36,850 : INFO : EPOCH 5 - PROGRESS: at 51.06% examples, 92342 words/s, in_qsize 63, out_qsize 0\n",
      "2022-06-10 16:43:37,957 : INFO : EPOCH 5 - PROGRESS: at 54.95% examples, 92192 words/s, in_qsize 63, out_qsize 0\n",
      "2022-06-10 16:43:39,008 : INFO : EPOCH 5 - PROGRESS: at 59.45% examples, 93243 words/s, in_qsize 63, out_qsize 0\n",
      "2022-06-10 16:43:40,046 : INFO : EPOCH 5 - PROGRESS: at 63.61% examples, 93783 words/s, in_qsize 63, out_qsize 0\n",
      "2022-06-10 16:43:41,105 : INFO : EPOCH 5 - PROGRESS: at 66.89% examples, 93309 words/s, in_qsize 63, out_qsize 0\n",
      "2022-06-10 16:43:42,305 : INFO : EPOCH 5 - PROGRESS: at 71.94% examples, 94728 words/s, in_qsize 63, out_qsize 0\n",
      "2022-06-10 16:43:43,501 : INFO : EPOCH 5 - PROGRESS: at 75.25% examples, 94071 words/s, in_qsize 63, out_qsize 0\n",
      "2022-06-10 16:43:44,603 : INFO : EPOCH 5 - PROGRESS: at 80.10% examples, 95649 words/s, in_qsize 64, out_qsize 1\n",
      "2022-06-10 16:43:45,845 : INFO : EPOCH 5 - PROGRESS: at 83.72% examples, 95217 words/s, in_qsize 53, out_qsize 1\n",
      "2022-06-10 16:43:46,938 : INFO : EPOCH 5 - PROGRESS: at 87.71% examples, 95695 words/s, in_qsize 40, out_qsize 1\n",
      "2022-06-10 16:43:47,514 : INFO : worker thread finished; awaiting finish of 31 more threads\n",
      "2022-06-10 16:43:47,771 : INFO : worker thread finished; awaiting finish of 30 more threads\n",
      "2022-06-10 16:43:47,800 : INFO : worker thread finished; awaiting finish of 29 more threads\n",
      "2022-06-10 16:43:47,866 : INFO : worker thread finished; awaiting finish of 28 more threads\n",
      "2022-06-10 16:43:47,972 : INFO : EPOCH 5 - PROGRESS: at 91.96% examples, 96628 words/s, in_qsize 27, out_qsize 1\n",
      "2022-06-10 16:43:47,975 : INFO : worker thread finished; awaiting finish of 27 more threads\n",
      "2022-06-10 16:43:48,049 : INFO : worker thread finished; awaiting finish of 26 more threads\n",
      "2022-06-10 16:43:48,092 : INFO : worker thread finished; awaiting finish of 25 more threads\n",
      "2022-06-10 16:43:48,200 : INFO : worker thread finished; awaiting finish of 24 more threads\n",
      "2022-06-10 16:43:48,266 : INFO : worker thread finished; awaiting finish of 23 more threads\n",
      "2022-06-10 16:43:48,290 : INFO : worker thread finished; awaiting finish of 22 more threads\n",
      "2022-06-10 16:43:48,351 : INFO : worker thread finished; awaiting finish of 21 more threads\n",
      "2022-06-10 16:43:48,480 : INFO : worker thread finished; awaiting finish of 20 more threads\n",
      "2022-06-10 16:43:48,493 : INFO : worker thread finished; awaiting finish of 19 more threads\n",
      "2022-06-10 16:43:48,548 : INFO : worker thread finished; awaiting finish of 18 more threads\n",
      "2022-06-10 16:43:48,578 : INFO : worker thread finished; awaiting finish of 17 more threads\n",
      "2022-06-10 16:43:48,673 : INFO : worker thread finished; awaiting finish of 16 more threads\n",
      "2022-06-10 16:43:48,760 : INFO : worker thread finished; awaiting finish of 15 more threads\n",
      "2022-06-10 16:43:48,788 : INFO : worker thread finished; awaiting finish of 14 more threads\n",
      "2022-06-10 16:43:48,889 : INFO : worker thread finished; awaiting finish of 13 more threads\n",
      "2022-06-10 16:43:48,900 : INFO : worker thread finished; awaiting finish of 12 more threads\n",
      "2022-06-10 16:43:48,982 : INFO : EPOCH 5 - PROGRESS: at 96.75% examples, 98059 words/s, in_qsize 11, out_qsize 1\n",
      "2022-06-10 16:43:48,985 : INFO : worker thread finished; awaiting finish of 11 more threads\n",
      "2022-06-10 16:43:48,990 : INFO : worker thread finished; awaiting finish of 10 more threads\n",
      "2022-06-10 16:43:49,006 : INFO : worker thread finished; awaiting finish of 9 more threads\n",
      "2022-06-10 16:43:49,024 : INFO : worker thread finished; awaiting finish of 8 more threads\n",
      "2022-06-10 16:43:49,116 : INFO : worker thread finished; awaiting finish of 7 more threads\n",
      "2022-06-10 16:43:49,219 : INFO : worker thread finished; awaiting finish of 6 more threads\n",
      "2022-06-10 16:43:49,266 : INFO : worker thread finished; awaiting finish of 5 more threads\n",
      "2022-06-10 16:43:49,272 : INFO : worker thread finished; awaiting finish of 4 more threads\n",
      "2022-06-10 16:43:49,303 : INFO : worker thread finished; awaiting finish of 3 more threads\n",
      "2022-06-10 16:43:49,361 : INFO : worker thread finished; awaiting finish of 2 more threads\n",
      "2022-06-10 16:43:49,382 : INFO : worker thread finished; awaiting finish of 1 more threads\n",
      "2022-06-10 16:43:49,409 : INFO : worker thread finished; awaiting finish of 0 more threads\n",
      "2022-06-10 16:43:49,410 : INFO : EPOCH - 5 : training on 3252866 raw words (2950696 effective words) took 29.5s, 99975 effective words/s\n",
      "2022-06-10 16:43:49,411 : INFO : FastText lifecycle event {'msg': 'training on 16264330 raw words (14752145 effective words) took 147.2s, 100249 effective words/s', 'datetime': '2022-06-10T16:43:49.411592', 'gensim': '4.1.2', 'python': '3.7.3 (tags/debian/3.7.3-1+xenial1-dirty:e8c58d1, Jun 20 2019, 08:00:00) \\n[GCC 5.4.0 20160609]', 'platform': 'Linux-5.4.111-14-x86_64-with-Ubuntu-16.04-xenial', 'event': 'train'}\n",
      "2022-06-10 16:43:54,219 : INFO : FastText lifecycle event {'params': 'FastText(vocab=78657, vector_size=200, alpha=0.025)', 'datetime': '2022-06-10T16:43:54.219665', 'gensim': '4.1.2', 'python': '3.7.3 (tags/debian/3.7.3-1+xenial1-dirty:e8c58d1, Jun 20 2019, 08:00:00) \\n[GCC 5.4.0 20160609]', 'platform': 'Linux-5.4.111-14-x86_64-with-Ubuntu-16.04-xenial', 'event': 'created'}\n"
     ]
    }
   ],
   "source": [
    "model = FastText(\n",
    "    df.text, \n",
    "    vector_size=200, \n",
    "    window=35, \n",
    "    min_count=3, \n",
    "    workers=32, \n",
    "    epochs=5, \n",
    "    sg=1, \n",
    "    bucket=400_000\n",
    ")"
   ]
  },
  {
   "cell_type": "code",
   "execution_count": 7,
   "id": "70ad5850-5f85-4b08-b2e7-a6f5cc54184a",
   "metadata": {},
   "outputs": [],
   "source": [
    "mkdir ft"
   ]
  },
  {
   "cell_type": "code",
   "execution_count": 8,
   "id": "1d44460a-ac3f-4976-bf5d-01c97f3e48cd",
   "metadata": {},
   "outputs": [
    {
     "name": "stderr",
     "output_type": "stream",
     "text": [
      "2022-06-10 17:11:45,813 : INFO : FastText lifecycle event {'fname_or_handle': 'ft/ft.model', 'separately': 'None', 'sep_limit': 10485760, 'ignore': frozenset(), 'datetime': '2022-06-10T17:11:45.813146', 'gensim': '4.1.2', 'python': '3.7.3 (tags/debian/3.7.3-1+xenial1-dirty:e8c58d1, Jun 20 2019, 08:00:00) \\n[GCC 5.4.0 20160609]', 'platform': 'Linux-5.4.111-14-x86_64-with-Ubuntu-16.04-xenial', 'event': 'saving'}\n",
      "2022-06-10 17:11:45,815 : INFO : not storing attribute vectors\n",
      "2022-06-10 17:11:45,816 : INFO : storing np array 'vectors_vocab' to ft/ft.model.wv.vectors_vocab.npy\n",
      "2022-06-10 17:11:45,884 : INFO : storing np array 'vectors_ngrams' to ft/ft.model.wv.vectors_ngrams.npy\n",
      "2022-06-10 17:11:46,126 : INFO : not storing attribute buckets_word\n",
      "2022-06-10 17:11:46,127 : INFO : storing np array 'syn1neg' to ft/ft.model.syn1neg.npy\n",
      "2022-06-10 17:11:46,175 : INFO : not storing attribute cum_table\n",
      "2022-06-10 17:11:46,245 : INFO : saved ft/ft.model\n"
     ]
    }
   ],
   "source": [
    "model.save('ft/ft.model')"
   ]
  },
  {
   "cell_type": "markdown",
   "id": "3753cb7b-e2a1-4d86-bded-15ac41e53fbc",
   "metadata": {},
   "source": [
    "embeds"
   ]
  },
  {
   "cell_type": "code",
   "execution_count": 10,
   "id": "9963ac94-5139-4bcd-9805-ee8ae2dc56f1",
   "metadata": {},
   "outputs": [
    {
     "data": {
      "text/plain": [
       "<gensim.models.fasttext.FastText at 0x7f251efd4ac8>"
      ]
     },
     "execution_count": 10,
     "metadata": {},
     "output_type": "execute_result"
    }
   ],
   "source": [
    "model"
   ]
  },
  {
   "cell_type": "code",
   "execution_count": 12,
   "id": "7c491d84-45ef-4bf6-b384-6fa6bae679d4",
   "metadata": {},
   "outputs": [],
   "source": [
    "df = pd.read_csv('lenta_tech.csv')"
   ]
  },
  {
   "cell_type": "code",
   "execution_count": 13,
   "id": "1007b680-6a0a-4b72-919f-c31cf2337f7e",
   "metadata": {},
   "outputs": [
    {
     "name": "stderr",
     "output_type": "stream",
     "text": [
      "/home/gorodion/go_venv/lib/python3.7/site-packages/pyforest/__init__.py:2: FutureWarning: The default value of regex will change from True to False in a future version.\n",
      "  from ._imports import *\n"
     ]
    }
   ],
   "source": [
    "df.text = normalize_text(df.text)\n",
    "df.text = df.text.apply(lambda x: [i for i in x.split() if len(i) > 1])"
   ]
  },
  {
   "cell_type": "code",
   "execution_count": 38,
   "id": "6a601163-7cb9-44ca-a30d-2daeab08b5c7",
   "metadata": {
    "tags": []
   },
   "outputs": [
    {
     "data": {
      "application/vnd.jupyter.widget-view+json": {
       "model_id": "7b620ff89e314c8e957a33a2cab9de02",
       "version_major": 2,
       "version_minor": 0
      },
      "text/plain": [
       "  0%|          | 0/18832 [00:00<?, ?it/s]"
      ]
     },
     "metadata": {},
     "output_type": "display_data"
    }
   ],
   "source": [
    "embeds = word_averaging_list(model.wv, df.text)"
   ]
  },
  {
   "cell_type": "code",
   "execution_count": 40,
   "id": "d0563d72-593d-4b9d-b802-5e50639fc595",
   "metadata": {},
   "outputs": [],
   "source": [
    "np.save('ft_embeds.npy', embeds)"
   ]
  },
  {
   "cell_type": "markdown",
   "id": "85c13421-54c9-4dd8-b93d-adbc0ede0da7",
   "metadata": {},
   "source": [
    "gen_embeds"
   ]
  },
  {
   "cell_type": "code",
   "execution_count": 41,
   "id": "577a4f14-f854-49b0-b03f-6635a694f8cc",
   "metadata": {},
   "outputs": [],
   "source": [
    "generated = pd.read_csv('generated.txt', header=None, squeeze=True)"
   ]
  },
  {
   "cell_type": "code",
   "execution_count": 42,
   "id": "8aeb36ff-e5e2-4703-9d60-5f7e12cb17b4",
   "metadata": {},
   "outputs": [
    {
     "name": "stderr",
     "output_type": "stream",
     "text": [
      "/home/gorodion/go_venv/lib/python3.7/site-packages/pyforest/__init__.py:2: FutureWarning: The default value of regex will change from True to False in a future version.\n",
      "  from ._imports import *\n"
     ]
    }
   ],
   "source": [
    "generated = normalize_text(generated)\n",
    "generated = generated.apply(lambda x: [i for i in x.split() if len(i) > 1])"
   ]
  },
  {
   "cell_type": "code",
   "execution_count": 43,
   "id": "397c9c2f-f35e-4001-aa3f-01df14d3df2e",
   "metadata": {},
   "outputs": [
    {
     "data": {
      "application/vnd.jupyter.widget-view+json": {
       "model_id": "32289ba6cbc440ccaaeaef5c2f5c480f",
       "version_major": 2,
       "version_minor": 0
      },
      "text/plain": [
       "  0%|          | 0/2000 [00:00<?, ?it/s]"
      ]
     },
     "metadata": {},
     "output_type": "display_data"
    }
   ],
   "source": [
    "gen_embeds = word_averaging_list(model.wv, generated)"
   ]
  },
  {
   "cell_type": "code",
   "execution_count": 44,
   "id": "86b0d238-c186-4f60-b56b-dbcf91afac14",
   "metadata": {},
   "outputs": [],
   "source": [
    "np.save('ft_gen_embeds.npy', embeds)"
   ]
  },
  {
   "cell_type": "code",
   "execution_count": null,
   "id": "ba44fcd9-cab1-45eb-aef0-9eacf59a7949",
   "metadata": {},
   "outputs": [],
   "source": []
  }
 ],
 "metadata": {
  "kernelspec": {
   "display_name": "Python 3",
   "language": "python",
   "name": "python3"
  },
  "language_info": {
   "codemirror_mode": {
    "name": "ipython",
    "version": 3
   },
   "file_extension": ".py",
   "mimetype": "text/x-python",
   "name": "python",
   "nbconvert_exporter": "python",
   "pygments_lexer": "ipython3",
   "version": "3.7.3"
  }
 },
 "nbformat": 4,
 "nbformat_minor": 5
}
