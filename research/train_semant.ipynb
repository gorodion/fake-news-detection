{
 "cells": [
  {
   "cell_type": "markdown",
   "id": "9bf7fd43-41e6-4ee0-85f9-f58eec86dd62",
   "metadata": {},
   "source": [
    "TODO:\n",
    "- брать максимально в котором не уверен\n",
    "- анализ дубликатов по максимальным косинусам"
   ]
  },
  {
   "cell_type": "code",
   "execution_count": 1,
   "id": "33155208-ce07-46b2-b696-0af87fb1205f",
   "metadata": {},
   "outputs": [
    {
     "name": "stdout",
     "output_type": "stream",
     "text": [
      "env: CUDA_VISIBLE_DEVICES=2,3\n"
     ]
    }
   ],
   "source": [
    "%env CUDA_VISIBLE_DEVICES=2,3"
   ]
  },
  {
   "cell_type": "code",
   "execution_count": 225,
   "id": "cfd13eff-1924-442c-8dfc-12059af7324f",
   "metadata": {
    "collapsed": true,
    "jupyter": {
     "outputs_hidden": true
    },
    "tags": []
   },
   "outputs": [
    {
     "data": {
      "text/plain": [
       "[0,\n",
       " 2,\n",
       " 4,\n",
       " 17,\n",
       " 22,\n",
       " 23,\n",
       " 25,\n",
       " 26,\n",
       " 29,\n",
       " 32,\n",
       " 33,\n",
       " 36,\n",
       " 37,\n",
       " 40,\n",
       " 42,\n",
       " 44,\n",
       " 49,\n",
       " 50,\n",
       " 53,\n",
       " 59,\n",
       " 63,\n",
       " 65,\n",
       " 70,\n",
       " 72,\n",
       " 74,\n",
       " 76,\n",
       " 78,\n",
       " 81,\n",
       " 85,\n",
       " 88,\n",
       " 89,\n",
       " 94,\n",
       " 97,\n",
       " 98,\n",
       " 100,\n",
       " 107,\n",
       " 113,\n",
       " 115,\n",
       " 116,\n",
       " 117,\n",
       " 119,\n",
       " 128,\n",
       " 130,\n",
       " 131,\n",
       " 138,\n",
       " 139,\n",
       " 141,\n",
       " 142,\n",
       " 147,\n",
       " 148,\n",
       " 154,\n",
       " 155,\n",
       " 158,\n",
       " 160,\n",
       " 162,\n",
       " 165,\n",
       " 171,\n",
       " 172,\n",
       " 177,\n",
       " 180,\n",
       " 181,\n",
       " 189,\n",
       " 190,\n",
       " 194,\n",
       " 195,\n",
       " 197,\n",
       " 199,\n",
       " 210,\n",
       " 212,\n",
       " 223,\n",
       " 227,\n",
       " 228,\n",
       " 231,\n",
       " 232,\n",
       " 234,\n",
       " 240,\n",
       " 242,\n",
       " 245,\n",
       " 252,\n",
       " 255,\n",
       " 259,\n",
       " 260,\n",
       " 261,\n",
       " 262,\n",
       " 269,\n",
       " 275,\n",
       " 278,\n",
       " 282,\n",
       " 283,\n",
       " 288,\n",
       " 292,\n",
       " 294,\n",
       " 297,\n",
       " 299,\n",
       " 303,\n",
       " 307,\n",
       " 309,\n",
       " 310,\n",
       " 314,\n",
       " 317,\n",
       " 318,\n",
       " 321,\n",
       " 325,\n",
       " 327,\n",
       " 328,\n",
       " 330,\n",
       " 332,\n",
       " 333,\n",
       " 336,\n",
       " 338,\n",
       " 343,\n",
       " 349,\n",
       " 350,\n",
       " 351,\n",
       " 353,\n",
       " 357,\n",
       " 364,\n",
       " 365,\n",
       " 375,\n",
       " 378,\n",
       " 381,\n",
       " 382,\n",
       " 386,\n",
       " 389,\n",
       " 392,\n",
       " 393,\n",
       " 396,\n",
       " 400,\n",
       " 407,\n",
       " 409,\n",
       " 417,\n",
       " 419,\n",
       " 425,\n",
       " 433,\n",
       " 435,\n",
       " 441,\n",
       " 442,\n",
       " 444,\n",
       " 445,\n",
       " 451,\n",
       " 452,\n",
       " 463,\n",
       " 464,\n",
       " 468,\n",
       " 471,\n",
       " 472,\n",
       " 473,\n",
       " 477,\n",
       " 479,\n",
       " 486,\n",
       " 488,\n",
       " 493,\n",
       " 496,\n",
       " 500,\n",
       " 501,\n",
       " 505,\n",
       " 508,\n",
       " 510,\n",
       " 511,\n",
       " 513,\n",
       " 519,\n",
       " 522,\n",
       " 525,\n",
       " 532,\n",
       " 533,\n",
       " 534,\n",
       " 535,\n",
       " 536,\n",
       " 543,\n",
       " 545,\n",
       " 546,\n",
       " 551,\n",
       " 552,\n",
       " 555,\n",
       " 556,\n",
       " 559,\n",
       " 560,\n",
       " 563,\n",
       " 564,\n",
       " 569,\n",
       " 570,\n",
       " 572,\n",
       " 575,\n",
       " 576,\n",
       " 586,\n",
       " 587,\n",
       " 589,\n",
       " 590,\n",
       " 593,\n",
       " 594,\n",
       " 597,\n",
       " 599,\n",
       " 600,\n",
       " 601,\n",
       " 602,\n",
       " 603,\n",
       " 604,\n",
       " 605,\n",
       " 606,\n",
       " 609,\n",
       " 611,\n",
       " 612,\n",
       " 615,\n",
       " 622,\n",
       " 624,\n",
       " 625,\n",
       " 627,\n",
       " 632,\n",
       " 635,\n",
       " 641,\n",
       " 642,\n",
       " 644,\n",
       " 645,\n",
       " 646,\n",
       " 651,\n",
       " 656,\n",
       " 668,\n",
       " 673,\n",
       " 676,\n",
       " 677,\n",
       " 681,\n",
       " 683,\n",
       " 687,\n",
       " 689,\n",
       " 691,\n",
       " 693,\n",
       " 696,\n",
       " 697,\n",
       " 698,\n",
       " 700,\n",
       " 701,\n",
       " 703,\n",
       " 712,\n",
       " 718,\n",
       " 719,\n",
       " 722,\n",
       " 724,\n",
       " 725,\n",
       " 731,\n",
       " 733,\n",
       " 738,\n",
       " 739,\n",
       " 740,\n",
       " 741,\n",
       " 745,\n",
       " 754,\n",
       " 758,\n",
       " 759,\n",
       " 762,\n",
       " 763,\n",
       " 764,\n",
       " 767,\n",
       " 768,\n",
       " 771,\n",
       " 773,\n",
       " 776,\n",
       " 777,\n",
       " 778,\n",
       " 781,\n",
       " 787,\n",
       " 793,\n",
       " 794,\n",
       " 796,\n",
       " 798,\n",
       " 800,\n",
       " 802,\n",
       " 808,\n",
       " 811,\n",
       " 817,\n",
       " 823,\n",
       " 827,\n",
       " 831,\n",
       " 847,\n",
       " 852,\n",
       " 854,\n",
       " 856,\n",
       " 857,\n",
       " 863,\n",
       " 865,\n",
       " 868,\n",
       " 870,\n",
       " 874,\n",
       " 876,\n",
       " 882,\n",
       " 884,\n",
       " 886,\n",
       " 888,\n",
       " 890,\n",
       " 892,\n",
       " 893,\n",
       " 895,\n",
       " 899,\n",
       " 901,\n",
       " 902,\n",
       " 905,\n",
       " 907,\n",
       " 910,\n",
       " 914,\n",
       " 923,\n",
       " 926,\n",
       " 928,\n",
       " 929,\n",
       " 932,\n",
       " 938,\n",
       " 940,\n",
       " 946,\n",
       " 950,\n",
       " 951,\n",
       " 954,\n",
       " 956,\n",
       " 957,\n",
       " 959,\n",
       " 963,\n",
       " 965,\n",
       " 972,\n",
       " 976,\n",
       " 984,\n",
       " 990,\n",
       " 998,\n",
       " 1002,\n",
       " 1007,\n",
       " 1013,\n",
       " 1015,\n",
       " 1017,\n",
       " 1019,\n",
       " 1021,\n",
       " 1022,\n",
       " 1026,\n",
       " 1028,\n",
       " 1031,\n",
       " 1036,\n",
       " 1037,\n",
       " 1038,\n",
       " 1045,\n",
       " 1046,\n",
       " 1052,\n",
       " 1053,\n",
       " 1055,\n",
       " 1062,\n",
       " 1064,\n",
       " 1065,\n",
       " 1066,\n",
       " 1067,\n",
       " 1069,\n",
       " 1071,\n",
       " 1073,\n",
       " 1077,\n",
       " 1083,\n",
       " 1084,\n",
       " 1085,\n",
       " 1086,\n",
       " 1090,\n",
       " 1094,\n",
       " 1095,\n",
       " 1103,\n",
       " 1104,\n",
       " 1106,\n",
       " 1109,\n",
       " 1110,\n",
       " 1111,\n",
       " 1113,\n",
       " 1118,\n",
       " 1119,\n",
       " 1120,\n",
       " 1123,\n",
       " 1132,\n",
       " 1141,\n",
       " 1143,\n",
       " 1144,\n",
       " 1145,\n",
       " 1147,\n",
       " 1156,\n",
       " 1158,\n",
       " 1160,\n",
       " 1169,\n",
       " 1178,\n",
       " 1181,\n",
       " 1182,\n",
       " 1183,\n",
       " 1185,\n",
       " 1187,\n",
       " 1189,\n",
       " 1193,\n",
       " 1195,\n",
       " 1199,\n",
       " 1202,\n",
       " 1204,\n",
       " 1207,\n",
       " 1208,\n",
       " 1218,\n",
       " 1219,\n",
       " 1222,\n",
       " 1223,\n",
       " 1224,\n",
       " 1226,\n",
       " 1229,\n",
       " 1235,\n",
       " 1239,\n",
       " 1240,\n",
       " 1241,\n",
       " 1243,\n",
       " 1244,\n",
       " 1245,\n",
       " 1248,\n",
       " 1260,\n",
       " 1262,\n",
       " 1263,\n",
       " 1267,\n",
       " 1271,\n",
       " 1272,\n",
       " 1279,\n",
       " 1281,\n",
       " 1283,\n",
       " 1294,\n",
       " 1295,\n",
       " 1307,\n",
       " 1308,\n",
       " 1313,\n",
       " 1314,\n",
       " 1322,\n",
       " 1325,\n",
       " 1328,\n",
       " 1329,\n",
       " 1330,\n",
       " 1337,\n",
       " 1338,\n",
       " 1339,\n",
       " 1341,\n",
       " 1349,\n",
       " 1350,\n",
       " 1355,\n",
       " 1358,\n",
       " 1360,\n",
       " 1361,\n",
       " 1364,\n",
       " 1366,\n",
       " 1370,\n",
       " 1371,\n",
       " 1373,\n",
       " 1374,\n",
       " 1376,\n",
       " 1385,\n",
       " 1386,\n",
       " 1387,\n",
       " 1388,\n",
       " 1389,\n",
       " 1395,\n",
       " 1402,\n",
       " 1404,\n",
       " 1406,\n",
       " 1407,\n",
       " 1413,\n",
       " 1414,\n",
       " 1417,\n",
       " 1420,\n",
       " 1429,\n",
       " 1430,\n",
       " 1431,\n",
       " 1435,\n",
       " 1436,\n",
       " 1439,\n",
       " 1445,\n",
       " 1449,\n",
       " 1451,\n",
       " 1453,\n",
       " 1454,\n",
       " 1459,\n",
       " 1462,\n",
       " 1465,\n",
       " 1467,\n",
       " 1474,\n",
       " 1475,\n",
       " 1479,\n",
       " 1480,\n",
       " 1484,\n",
       " 1485,\n",
       " 1487,\n",
       " 1488,\n",
       " 1491,\n",
       " 1492,\n",
       " 1493,\n",
       " 1497,\n",
       " 1501,\n",
       " 1502,\n",
       " 1509,\n",
       " 1512,\n",
       " 1525,\n",
       " 1528,\n",
       " 1530,\n",
       " 1535,\n",
       " 1536,\n",
       " 1537,\n",
       " 1540,\n",
       " 1542,\n",
       " 1545,\n",
       " 1547,\n",
       " 1549,\n",
       " 1555,\n",
       " 1561,\n",
       " 1563,\n",
       " 1565,\n",
       " 1566,\n",
       " 1567,\n",
       " 1568,\n",
       " 1575,\n",
       " 1581,\n",
       " 1582,\n",
       " 1584,\n",
       " 1586,\n",
       " 1587,\n",
       " 1596,\n",
       " 1600,\n",
       " 1602,\n",
       " 1603,\n",
       " 1604,\n",
       " 1606,\n",
       " 1608,\n",
       " 1612,\n",
       " 1614,\n",
       " 1619,\n",
       " 1620,\n",
       " 1629,\n",
       " 1632,\n",
       " 1636,\n",
       " 1637,\n",
       " 1642,\n",
       " 1646,\n",
       " 1647,\n",
       " 1650,\n",
       " 1655,\n",
       " 1657,\n",
       " 1667,\n",
       " 1668,\n",
       " 1674,\n",
       " 1683,\n",
       " 1684,\n",
       " 1689,\n",
       " 1692,\n",
       " 1695,\n",
       " 1696,\n",
       " 1700,\n",
       " 1701,\n",
       " 1702,\n",
       " 1703,\n",
       " 1705,\n",
       " 1710,\n",
       " 1712,\n",
       " 1713,\n",
       " 1714,\n",
       " 1718,\n",
       " 1720,\n",
       " 1724,\n",
       " 1725,\n",
       " 1732,\n",
       " 1735,\n",
       " 1736,\n",
       " 1747,\n",
       " 1748,\n",
       " 1754,\n",
       " 1757,\n",
       " 1759,\n",
       " 1768,\n",
       " 1770,\n",
       " 1771,\n",
       " 1775,\n",
       " 1776,\n",
       " 1777,\n",
       " 1778,\n",
       " 1780,\n",
       " 1787,\n",
       " 1791,\n",
       " 1794,\n",
       " 1795,\n",
       " 1799,\n",
       " 1807,\n",
       " 1812,\n",
       " 1821,\n",
       " 1825,\n",
       " 1829,\n",
       " 1830,\n",
       " 1832,\n",
       " 1838,\n",
       " 1839,\n",
       " 1850,\n",
       " 1855,\n",
       " 1857,\n",
       " 1858,\n",
       " 1859,\n",
       " 1863,\n",
       " 1865,\n",
       " 1869,\n",
       " 1876,\n",
       " 1877,\n",
       " 1881,\n",
       " 1889,\n",
       " 1892,\n",
       " 1894,\n",
       " 1896,\n",
       " 1897,\n",
       " 1898,\n",
       " 1900,\n",
       " 1901,\n",
       " 1905,\n",
       " 1907,\n",
       " 1910,\n",
       " 1916,\n",
       " 1918,\n",
       " 1920,\n",
       " 1925,\n",
       " 1929,\n",
       " 1932,\n",
       " 1933,\n",
       " 1935,\n",
       " 1940,\n",
       " 1945,\n",
       " 1947,\n",
       " 1951,\n",
       " 1956,\n",
       " 1957,\n",
       " 1963,\n",
       " 1968,\n",
       " 1971,\n",
       " 1974,\n",
       " 1979,\n",
       " 1983,\n",
       " 1985,\n",
       " 1988,\n",
       " 1989,\n",
       " 1990,\n",
       " 1993,\n",
       " 1995,\n",
       " 1999,\n",
       " 2005,\n",
       " 2010,\n",
       " 2014,\n",
       " 2018,\n",
       " 2021,\n",
       " 2022,\n",
       " 2024,\n",
       " 2026,\n",
       " 2028,\n",
       " 2031,\n",
       " 2034,\n",
       " 2037,\n",
       " 2041,\n",
       " 2043,\n",
       " 2050,\n",
       " 2052,\n",
       " 2058,\n",
       " 2061,\n",
       " 2069,\n",
       " 2073,\n",
       " 2077,\n",
       " 2078,\n",
       " 2082,\n",
       " 2084,\n",
       " 2085,\n",
       " 2088,\n",
       " 2096,\n",
       " 2097,\n",
       " 2104,\n",
       " 2107,\n",
       " 2111,\n",
       " 2114,\n",
       " 2117,\n",
       " 2123,\n",
       " 2124,\n",
       " 2126,\n",
       " 2127,\n",
       " 2128,\n",
       " 2132,\n",
       " 2134,\n",
       " 2136,\n",
       " 2137,\n",
       " 2140,\n",
       " 2141,\n",
       " 2143,\n",
       " 2157,\n",
       " 2160,\n",
       " 2175,\n",
       " 2176,\n",
       " 2178,\n",
       " 2186,\n",
       " 2187,\n",
       " 2188,\n",
       " 2191,\n",
       " 2198,\n",
       " 2206,\n",
       " 2208,\n",
       " 2210,\n",
       " 2211,\n",
       " 2215,\n",
       " 2217,\n",
       " 2223,\n",
       " 2224,\n",
       " 2231,\n",
       " 2239,\n",
       " 2244,\n",
       " 2247,\n",
       " 2252,\n",
       " 2254,\n",
       " 2256,\n",
       " 2263,\n",
       " 2275,\n",
       " 2283,\n",
       " 2284,\n",
       " 2285,\n",
       " 2292,\n",
       " 2293,\n",
       " 2294,\n",
       " 2297,\n",
       " 2300,\n",
       " 2301,\n",
       " 2302,\n",
       " 2308,\n",
       " 2318,\n",
       " 2326,\n",
       " 2327,\n",
       " 2328,\n",
       " 2339,\n",
       " 2343,\n",
       " 2345,\n",
       " 2348,\n",
       " 2350,\n",
       " 2357,\n",
       " 2358,\n",
       " 2363,\n",
       " 2368,\n",
       " 2369,\n",
       " 2371,\n",
       " 2376,\n",
       " 2380,\n",
       " 2382,\n",
       " 2385,\n",
       " 2386,\n",
       " 2387,\n",
       " 2388,\n",
       " 2394,\n",
       " 2395,\n",
       " 2397,\n",
       " 2399,\n",
       " 2403,\n",
       " 2405,\n",
       " 2420,\n",
       " 2427,\n",
       " 2430,\n",
       " 2432,\n",
       " 2435,\n",
       " 2443,\n",
       " 2446,\n",
       " 2453,\n",
       " 2458,\n",
       " 2463,\n",
       " 2466,\n",
       " 2467,\n",
       " 2468,\n",
       " 2469,\n",
       " 2470,\n",
       " 2474,\n",
       " 2475,\n",
       " 2478,\n",
       " 2479,\n",
       " 2480,\n",
       " 2482,\n",
       " 2483,\n",
       " 2485,\n",
       " 2489,\n",
       " 2492,\n",
       " 2500,\n",
       " 2510,\n",
       " 2511,\n",
       " 2516,\n",
       " 2517,\n",
       " 2520,\n",
       " 2521,\n",
       " 2523,\n",
       " 2525,\n",
       " 2527,\n",
       " 2529,\n",
       " 2531,\n",
       " 2540,\n",
       " 2542,\n",
       " 2543,\n",
       " 2545,\n",
       " 2549,\n",
       " 2550,\n",
       " 2551,\n",
       " 2552,\n",
       " 2554,\n",
       " 2559,\n",
       " 2562,\n",
       " 2564,\n",
       " 2567,\n",
       " 2571,\n",
       " 2572,\n",
       " 2573,\n",
       " 2574,\n",
       " 2583,\n",
       " 2585,\n",
       " 2586,\n",
       " 2587,\n",
       " 2588,\n",
       " 2591,\n",
       " 2596,\n",
       " 2598,\n",
       " 2600,\n",
       " 2601,\n",
       " 2603,\n",
       " 2604,\n",
       " 2605,\n",
       " 2611,\n",
       " 2613,\n",
       " 2614,\n",
       " 2626,\n",
       " 2627,\n",
       " 2629,\n",
       " 2631,\n",
       " 2632,\n",
       " 2633,\n",
       " 2634,\n",
       " 2636,\n",
       " 2638,\n",
       " 2642,\n",
       " 2643,\n",
       " 2644,\n",
       " 2646,\n",
       " 2651,\n",
       " 2653,\n",
       " 2655,\n",
       " 2663,\n",
       " 2664,\n",
       " 2665,\n",
       " 2671,\n",
       " 2672,\n",
       " 2677,\n",
       " 2678,\n",
       " 2680,\n",
       " 2681,\n",
       " 2683,\n",
       " 2685,\n",
       " 2686,\n",
       " 2688,\n",
       " 2689,\n",
       " 2690,\n",
       " 2692,\n",
       " 2693,\n",
       " 2696,\n",
       " 2697,\n",
       " 2699,\n",
       " 2703,\n",
       " 2704,\n",
       " 2706,\n",
       " 2712,\n",
       " 2714,\n",
       " 2717,\n",
       " 2719,\n",
       " 2723,\n",
       " 2725,\n",
       " 2728,\n",
       " 2730,\n",
       " 2736,\n",
       " 2741,\n",
       " 2742,\n",
       " 2748,\n",
       " 2751,\n",
       " 2755,\n",
       " 2756,\n",
       " 2758,\n",
       " 2764,\n",
       " 2767,\n",
       " 2770,\n",
       " 2772,\n",
       " 2774,\n",
       " 2780,\n",
       " 2781,\n",
       " 2783,\n",
       " 2786,\n",
       " 2788,\n",
       " 2789,\n",
       " 2790,\n",
       " 2796,\n",
       " 2798,\n",
       " 2804,\n",
       " 2807,\n",
       " 2811,\n",
       " 2816,\n",
       " 2817,\n",
       " 2818,\n",
       " 2819,\n",
       " 2820,\n",
       " 2821,\n",
       " 2828,\n",
       " 2829,\n",
       " 2831,\n",
       " 2832,\n",
       " 2839,\n",
       " 2840,\n",
       " 2843,\n",
       " 2845,\n",
       " 2849,\n",
       " 2851,\n",
       " 2853,\n",
       " 2855,\n",
       " 2857,\n",
       " 2859,\n",
       " 2860,\n",
       " 2862,\n",
       " 2864,\n",
       " 2865,\n",
       " 2866,\n",
       " 2869,\n",
       " 2873,\n",
       " 2875,\n",
       " 2876,\n",
       " 2878,\n",
       " 2879,\n",
       " 2884,\n",
       " 2889,\n",
       " 2893,\n",
       " 2895,\n",
       " 2898,\n",
       " 2899,\n",
       " 2900,\n",
       " 2901,\n",
       " 2905,\n",
       " 2906,\n",
       " 2907,\n",
       " 2908,\n",
       " 2910,\n",
       " 2914,\n",
       " 2920,\n",
       " 2921,\n",
       " 2922,\n",
       " 2924,\n",
       " 2927,\n",
       " 2928,\n",
       " 2929,\n",
       " 2934,\n",
       " 2936,\n",
       " 2937,\n",
       " 2943,\n",
       " 2952,\n",
       " 2957,\n",
       " 2958,\n",
       " 2959,\n",
       " 2960,\n",
       " 2961,\n",
       " 2964,\n",
       " 2965,\n",
       " 2966,\n",
       " 2973,\n",
       " 2974,\n",
       " 2975,\n",
       " 2976,\n",
       " 2978,\n",
       " 2982,\n",
       " 2999,\n",
       " 3000,\n",
       " 3003,\n",
       " 3004,\n",
       " 3009,\n",
       " 3010,\n",
       " 3011,\n",
       " 3012,\n",
       " 3015,\n",
       " 3017,\n",
       " 3020,\n",
       " 3022,\n",
       " 3027,\n",
       " 3028,\n",
       " 3029,\n",
       " 3030,\n",
       " 3031,\n",
       " 3038,\n",
       " 3041,\n",
       " 3042,\n",
       " 3046,\n",
       " 3048,\n",
       " 3050,\n",
       " 3052,\n",
       " 3053,\n",
       " 3054,\n",
       " 3055,\n",
       " 3060,\n",
       " 3061,\n",
       " 3062,\n",
       " 3064,\n",
       " 3066,\n",
       " 3067,\n",
       " 3069,\n",
       " 3070,\n",
       " 3071,\n",
       " 3072,\n",
       " 3073,\n",
       " 3077,\n",
       " 3078,\n",
       " 3081,\n",
       " 3085,\n",
       " 3087,\n",
       " 3089,\n",
       " ...]"
      ]
     },
     "execution_count": 225,
     "metadata": {},
     "output_type": "execute_result"
    }
   ],
   "source": [
    "cat_indexes['Наука']"
   ]
  },
  {
   "cell_type": "code",
   "execution_count": 223,
   "id": "bf5794ae-c81f-4789-a045-dfaef501c4bf",
   "metadata": {},
   "outputs": [
    {
     "data": {
      "text/plain": [
       "array([[0.        , 0.5057014 , 0.54351556, ..., 0.6073546 , 0.5141828 ,\n",
       "        0.4409703 ],\n",
       "       [0.        , 0.        , 0.45361722, ..., 0.5581305 , 0.51054776,\n",
       "        0.4785182 ],\n",
       "       [0.        , 0.        , 0.        , ..., 0.5721685 , 0.61522615,\n",
       "        0.5172246 ],\n",
       "       ...,\n",
       "       [0.        , 0.        , 0.        , ..., 0.        , 0.649635  ,\n",
       "        0.57409024],\n",
       "       [0.        , 0.        , 0.        , ..., 0.        , 0.        ,\n",
       "        0.60490334],\n",
       "       [0.        , 0.        , 0.        , ..., 0.        , 0.        ,\n",
       "        0.        ]], dtype=float32)"
      ]
     },
     "execution_count": 223,
     "metadata": {},
     "output_type": "execute_result"
    }
   ],
   "source": [
    "cat_cosine['Наука']"
   ]
  },
  {
   "cell_type": "code",
   "execution_count": 8,
   "id": "98d38e4f-845c-4778-988d-bf899993f160",
   "metadata": {},
   "outputs": [],
   "source": [
    "from config import cfg\n",
    "\n",
    "cfg.text_encoder_model = 'cointegrated/rubert-tiny2'\n",
    "cfg.text_tokenizer = 'cointegrated/rubert-tiny2'\n",
    "cfg.batch_size = 128"
   ]
  },
  {
   "cell_type": "code",
   "execution_count": 230,
   "id": "fed4cb8b-9af3-4f85-85f1-9d60bb775928",
   "metadata": {
    "collapsed": true,
    "jupyter": {
     "outputs_hidden": true
    },
    "tags": []
   },
   "outputs": [
    {
     "data": {
      "text/plain": [
       "{'text1': {'input_ids': tensor([[    2,  4470,   320,  ...,     0,     0,     0],\n",
       "          [    2, 71799, 25188,  ...,     0,     0,     0],\n",
       "          [    2,  4470, 31945,  ...,     0,     0,     0],\n",
       "          ...,\n",
       "          [    2, 34945, 83373,  ...,  8278,   619,     3],\n",
       "          [    2, 39835,  3995,  ...,     0,     0,     0],\n",
       "          [    2, 76630, 32580,  ...,     0,     0,     0]]),\n",
       "  'token_type_ids': tensor([[0, 0, 0,  ..., 0, 0, 0],\n",
       "          [0, 0, 0,  ..., 0, 0, 0],\n",
       "          [0, 0, 0,  ..., 0, 0, 0],\n",
       "          ...,\n",
       "          [0, 0, 0,  ..., 0, 0, 0],\n",
       "          [0, 0, 0,  ..., 0, 0, 0],\n",
       "          [0, 0, 0,  ..., 0, 0, 0]]),\n",
       "  'attention_mask': tensor([[1, 1, 1,  ..., 0, 0, 0],\n",
       "          [1, 1, 1,  ..., 0, 0, 0],\n",
       "          [1, 1, 1,  ..., 0, 0, 0],\n",
       "          ...,\n",
       "          [1, 1, 1,  ..., 1, 1, 1],\n",
       "          [1, 1, 1,  ..., 0, 0, 0],\n",
       "          [1, 1, 1,  ..., 0, 0, 0]])},\n",
       " 'text2': {'input_ids': tensor([[    2,  1499, 13483,  ..., 40009,   733,     3],\n",
       "          [    2, 64837, 15671,  ...,  8134,    17,     3],\n",
       "          [    2,  4470, 31945,  ...,     0,     0,     0],\n",
       "          ...,\n",
       "          [    2, 34945, 83373,  ...,  8278,   619,     3],\n",
       "          [    2,   282,  8160,  ..., 35544,  3583,     3],\n",
       "          [    2, 34945, 36670,  ..., 40045, 33443,     3]]),\n",
       "  'token_type_ids': tensor([[0, 0, 0,  ..., 0, 0, 0],\n",
       "          [0, 0, 0,  ..., 0, 0, 0],\n",
       "          [0, 0, 0,  ..., 0, 0, 0],\n",
       "          ...,\n",
       "          [0, 0, 0,  ..., 0, 0, 0],\n",
       "          [0, 0, 0,  ..., 0, 0, 0],\n",
       "          [0, 0, 0,  ..., 0, 0, 0]]),\n",
       "  'attention_mask': tensor([[1, 1, 1,  ..., 1, 1, 1],\n",
       "          [1, 1, 1,  ..., 1, 1, 1],\n",
       "          [1, 1, 1,  ..., 0, 0, 0],\n",
       "          ...,\n",
       "          [1, 1, 1,  ..., 1, 1, 1],\n",
       "          [1, 1, 1,  ..., 1, 1, 1],\n",
       "          [1, 1, 1,  ..., 1, 1, 1]])}}"
      ]
     },
     "execution_count": 230,
     "metadata": {},
     "output_type": "execute_result"
    }
   ],
   "source": [
    "next(iter(train_loader))"
   ]
  },
  {
   "cell_type": "code",
   "execution_count": 369,
   "id": "0e1b8965-39cf-4daa-a698-109a7f4c72ac",
   "metadata": {},
   "outputs": [],
   "source": [
    "import os\n",
    "import random\n",
    "import numpy as np\n",
    "import torch\n",
    "from torch.utils.data import IterableDataset, DataLoader\n",
    "import torch\n",
    "\n",
    "# from config import logger\n",
    "from config import cfg\n",
    "\n",
    "\n",
    "class Dataset(IterableDataset):\n",
    "    def __init__(self, titles, contents, categories, tokenizer, mode=None):\n",
    "        self.titles = titles\n",
    "        self.contents = contents\n",
    "        self.categories = categories\n",
    "        self.tokenizer = tokenizer\n",
    "        \n",
    "        self.batch_size = 128\n",
    "\n",
    "        self.titles_enc = tokenizer(\n",
    "            list(self.titles),\n",
    "            padding=True,\n",
    "            truncation=True,\n",
    "            max_length=200,\n",
    "            # pad_to_multiple_of=200,\n",
    "            return_tensors=\"pt\"\n",
    "        )\n",
    "        \n",
    "        self.contents_enc = tokenizer(\n",
    "            list(self.contents),\n",
    "            padding=True,\n",
    "            truncation=True,\n",
    "            max_length=200,\n",
    "            # pad_to_multiple_of=200,\n",
    "            return_tensors=\"pt\"\n",
    "        )\n",
    "    def iter_batch(self):\n",
    "        while True:\n",
    "            perm_idx = np.random.permutation(len(self.titles))\n",
    "            # while True:\n",
    "    #             cat = random.choice(list(cat_indexes.keys())) # TODO\n",
    "    #             indexes = cat_indexes[cat]\n",
    "    #             cosines = cat_cosine[cat]\n",
    "\n",
    "    #             pick = random.randint(0, len(indexes)-1)\n",
    "    #             max_indexes = cosines[pick].argsort()[-self.batch_size:]\n",
    "    #             real_indexes = [indexes[i] for i in max_indexes]\n",
    "            for i in range(0, len(self.titles), self.batch_size):\n",
    "                real_indexes = perm_idx[i:i+self.batch_size]\n",
    "                titles_batch = {\n",
    "                    k: v[real_indexes] for k, v in self.titles_enc.items()\n",
    "                }\n",
    "                contents_batch = {\n",
    "                    k: v[real_indexes] for k, v in self.contents_enc.items()\n",
    "                }\n",
    "\n",
    "                # for i in range(len(real_indexes)):\n",
    "                #     rand = random.random()\n",
    "                #     for k in self.titles_enc.keys():\n",
    "                #         if k == 'Софт':\n",
    "                #             continue\n",
    "                    #     if rand > 0.75:\n",
    "                    #         titles_batch[k][i], contents_batch[k][i] = contents_batch[k][i], titles_batch[k][i]\n",
    "    #                     if rand > 0.8:\n",
    "    #                         titles_batch[k][i] = contents_batch[k][i]\n",
    "    #                     elif rand > 0.6:\n",
    "    #                         contents_batch[k][i] = titles_batch[k][i]\n",
    "\n",
    "\n",
    "                yield dict(text1=titles_batch, text2=contents_batch)\n",
    "\n",
    "    def __iter__(self):\n",
    "        for item in self.iter_batch():\n",
    "            yield item"
   ]
  },
  {
   "cell_type": "code",
   "execution_count": 10,
   "id": "8abc14d2-a38f-4819-9255-7a1797b7d5cb",
   "metadata": {},
   "outputs": [],
   "source": [
    "ds = iter(Dataset(titles, contents, tags, tokenizer))"
   ]
  },
  {
   "cell_type": "code",
   "execution_count": 9,
   "id": "6abde680-c16c-4476-bb5c-49afaef1ec96",
   "metadata": {},
   "outputs": [],
   "source": [
    "tokenizer = AutoTokenizer.from_pretrained('cointegrated/rubert-tiny2', cache_dir='rubert')"
   ]
  },
  {
   "cell_type": "raw",
   "id": "d0516c1f-66cb-4eac-bfb5-4ddd2aa50970",
   "metadata": {},
   "source": [
    "!pip install catalyst -i https://pypi.org/simple"
   ]
  },
  {
   "cell_type": "code",
   "execution_count": 7,
   "id": "aefd50df-c236-4bfa-a95a-f8b0d0589402",
   "metadata": {},
   "outputs": [],
   "source": [
    "ds = Dataset(titles, contents, tokenizer)"
   ]
  },
  {
   "cell_type": "code",
   "execution_count": 8,
   "id": "9bd8f412-d851-4a04-8e0e-329260da6d9c",
   "metadata": {},
   "outputs": [],
   "source": [
    "item = next(iter(ds))"
   ]
  },
  {
   "cell_type": "code",
   "execution_count": 3,
   "id": "fd3b3ffb-20f5-4fb3-bf88-e69a0856fc07",
   "metadata": {
    "collapsed": true,
    "jupyter": {
     "outputs_hidden": true
    },
    "tags": []
   },
   "outputs": [
    {
     "name": "stdout",
     "output_type": "stream",
     "text": [
      "Looking in indexes: https://pypi.yandex-team.ru/simple/\n",
      "Collecting timm\n",
      "  Downloading https://pypi.yandex-team.ru/repo/default/download/timm/931528/timm-0.5.4-py3-none-any.whl (431 kB)\n",
      "\u001b[2K     \u001b[90m━━━━━━━━━━━━━━━━━━━━━━━━━━━━━━━━━━━━━━\u001b[0m \u001b[32m431.5/431.5 kB\u001b[0m \u001b[31m46.4 MB/s\u001b[0m eta \u001b[36m0:00:00\u001b[0m\n",
      "\u001b[?25hCollecting omegaconf\n",
      "  Downloading https://pypi.yandex-team.ru/repo/default/download/omegaconf/721629/omegaconf-2.1.1-py3-none-any.whl (74 kB)\n",
      "\u001b[2K     \u001b[90m━━━━━━━━━━━━━━━━━━━━━━━━━━━━━━━━━━━━━━━━\u001b[0m \u001b[32m74.7/74.7 kB\u001b[0m \u001b[31m46.9 MB/s\u001b[0m eta \u001b[36m0:00:00\u001b[0m\n",
      "\u001b[?25hRequirement already satisfied: torchvision in ./go_venv/lib/python3.7/site-packages (from timm) (0.12.0)\n",
      "Requirement already satisfied: torch>=1.4 in ./go_venv/lib/python3.7/site-packages (from timm) (1.11.0)\n",
      "Collecting antlr4-python3-runtime==4.8\n",
      "  Downloading https://pypi.yandex-team.ru/repo/default/download/antlr4-python3-runtime/448329/antlr4-python3-runtime-4.8.tar.gz (112 kB)\n",
      "\u001b[2K     \u001b[90m━━━━━━━━━━━━━━━━━━━━━━━━━━━━━━━━━━━━━━\u001b[0m \u001b[32m112.4/112.4 kB\u001b[0m \u001b[31m53.8 MB/s\u001b[0m eta \u001b[36m0:00:00\u001b[0m\n",
      "\u001b[?25h  Preparing metadata (setup.py) ... \u001b[?25ldone\n",
      "\u001b[?25hRequirement already satisfied: PyYAML>=5.1.0 in ./go_venv/lib/python3.7/site-packages (from omegaconf) (5.1.2)\n",
      "Requirement already satisfied: typing-extensions in ./go_venv/lib/python3.7/site-packages (from torch>=1.4->timm) (4.1.1)\n",
      "Requirement already satisfied: pillow!=8.3.*,>=5.3.0 in ./go_venv/lib/python3.7/site-packages (from torchvision->timm) (9.0.1)\n",
      "Requirement already satisfied: requests in ./go_venv/lib/python3.7/site-packages (from torchvision->timm) (2.27.1)\n",
      "Requirement already satisfied: numpy in ./go_venv/lib/python3.7/site-packages (from torchvision->timm) (1.21.5)\n",
      "Requirement already satisfied: certifi>=2017.4.17 in ./go_venv/lib/python3.7/site-packages (from requests->torchvision->timm) (2019.9.11)\n",
      "Requirement already satisfied: charset-normalizer~=2.0.0 in ./go_venv/lib/python3.7/site-packages (from requests->torchvision->timm) (2.0.12)\n",
      "Requirement already satisfied: urllib3<1.27,>=1.21.1 in ./go_venv/lib/python3.7/site-packages (from requests->torchvision->timm) (1.23)\n",
      "Requirement already satisfied: idna<4,>=2.5 in ./go_venv/lib/python3.7/site-packages (from requests->torchvision->timm) (3.3)\n",
      "Building wheels for collected packages: antlr4-python3-runtime\n",
      "  Building wheel for antlr4-python3-runtime (setup.py) ... \u001b[?25ldone\n",
      "\u001b[?25h  Created wheel for antlr4-python3-runtime: filename=antlr4_python3_runtime-4.8-py3-none-any.whl size=141231 sha256=02108ec9629a163712a1c20e26a1647cc48e397f956964fe8c719068baa8075a\n",
      "  Stored in directory: /home/gorodion/.cache/pip/wheels/28/c3/f4/c3162a876604b2fdca3464abe01eea20a57aca8244ecf1709f\n",
      "Successfully built antlr4-python3-runtime\n",
      "Installing collected packages: antlr4-python3-runtime, omegaconf, timm\n",
      "Successfully installed antlr4-python3-runtime-4.8 omegaconf-2.1.1 timm-0.5.4\n"
     ]
    }
   ],
   "source": [
    "!pip install omegaconf"
   ]
  },
  {
   "cell_type": "code",
   "execution_count": 33,
   "id": "535305b6-e92d-4e02-85dc-59862bb7e83e",
   "metadata": {},
   "outputs": [
    {
     "ename": "NameError",
     "evalue": "name 'TextEncoder' is not defined",
     "output_type": "error",
     "traceback": [
      "\u001b[0;31m---------------------------------------------------------------------------\u001b[0m",
      "\u001b[0;31mNameError\u001b[0m                                 Traceback (most recent call last)",
      "\u001b[0;32m<ipython-input-33-7e4dd59c9044>\u001b[0m in \u001b[0;36m<module>\u001b[0;34m()\u001b[0m\n\u001b[0;32m----> 1\u001b[0;31m \u001b[0mencoder\u001b[0m \u001b[0;34m=\u001b[0m \u001b[0mTextEncoder\u001b[0m\u001b[0;34m(\u001b[0m\u001b[0;34m)\u001b[0m\u001b[0;34m\u001b[0m\u001b[0;34m\u001b[0m\u001b[0m\n\u001b[0m",
      "\u001b[0;31mNameError\u001b[0m: name 'TextEncoder' is not defined"
     ]
    }
   ],
   "source": [
    "encoder = TextEncoder()"
   ]
  },
  {
   "cell_type": "code",
   "execution_count": 145,
   "id": "bf9c8203-2927-4a30-b6cc-49be6ef52301",
   "metadata": {},
   "outputs": [],
   "source": [
    "df = pd.read_csv('lenta_tech.csv')"
   ]
  },
  {
   "cell_type": "code",
   "execution_count": 158,
   "id": "f9005a55-fc90-4d41-9168-01cfc6d0d324",
   "metadata": {},
   "outputs": [],
   "source": [
    "titles = df.title.values\n",
    "contents = df.text.values\n",
    "tags = df.tags.values"
   ]
  },
  {
   "cell_type": "code",
   "execution_count": 159,
   "id": "56b2019b-dcb8-4019-a416-77169a0bedda",
   "metadata": {
    "tags": []
   },
   "outputs": [],
   "source": [
    "from sklearn.model_selection import train_test_split"
   ]
  },
  {
   "cell_type": "code",
   "execution_count": 160,
   "id": "2daad11e-68e3-4651-9751-4cb61701615a",
   "metadata": {},
   "outputs": [],
   "source": [
    "titles, titles_val, contents, contents_val, tags, tags_val = train_test_split(titles, contents, tags, stratify=tags, test_size=0.2)\n"
   ]
  },
  {
   "cell_type": "code",
   "execution_count": 161,
   "id": "de935894-e292-4f50-a1ec-88afa47bee98",
   "metadata": {},
   "outputs": [],
   "source": [
    "from collections import defaultdict"
   ]
  },
  {
   "cell_type": "code",
   "execution_count": 185,
   "id": "a8fa50ca-973f-45eb-a7d0-716fcfdd1a83",
   "metadata": {},
   "outputs": [
    {
     "data": {
      "text/plain": [
       "15065"
      ]
     },
     "execution_count": 185,
     "metadata": {},
     "output_type": "execute_result"
    }
   ],
   "source": [
    "len(contents)"
   ]
  },
  {
   "cell_type": "code",
   "execution_count": 184,
   "id": "c3e04572-85fe-45d8-8908-c33ae931ffe9",
   "metadata": {},
   "outputs": [
    {
     "data": {
      "text/plain": [
       "15065"
      ]
     },
     "execution_count": 184,
     "metadata": {},
     "output_type": "execute_result"
    }
   ],
   "source": [
    "len(titles)"
   ]
  },
  {
   "cell_type": "code",
   "execution_count": 183,
   "id": "aa4a4165-1e8f-47e0-8f42-a6f5c3161287",
   "metadata": {
    "tags": []
   },
   "outputs": [
    {
     "data": {
      "text/plain": [
       "15065"
      ]
     },
     "execution_count": 183,
     "metadata": {},
     "output_type": "execute_result"
    }
   ],
   "source": [
    "len(tags)"
   ]
  },
  {
   "cell_type": "code",
   "execution_count": 192,
   "id": "248c1a4f-1776-40d9-a69c-b2be6638f9a2",
   "metadata": {},
   "outputs": [
    {
     "data": {
      "text/plain": [
       "15064"
      ]
     },
     "execution_count": 192,
     "metadata": {},
     "output_type": "execute_result"
    }
   ],
   "source": [
    "max(cat_indexes['Техника'])"
   ]
  },
  {
   "cell_type": "code",
   "execution_count": 189,
   "id": "b5741459-a1f7-4839-b826-9e1c6e89e641",
   "metadata": {},
   "outputs": [
    {
     "data": {
      "text/plain": [
       "dict_keys(['Интернет', 'Наука', 'Космос', 'Техника', 'Гаджеты', 'Софт'])"
      ]
     },
     "execution_count": 189,
     "metadata": {},
     "output_type": "execute_result"
    }
   ],
   "source": [
    "cat_indexes.keys()"
   ]
  },
  {
   "cell_type": "code",
   "execution_count": 162,
   "id": "f74dba53-9261-485c-8776-db7a8abb14b0",
   "metadata": {},
   "outputs": [],
   "source": [
    "cat_indexes = defaultdict(list)\n",
    "for i, tag in enumerate(tags):\n",
    "    cat_indexes[tag].append(i)"
   ]
  },
  {
   "cell_type": "code",
   "execution_count": 163,
   "id": "90ca5f83-140f-4b36-82d5-406d48e0c348",
   "metadata": {},
   "outputs": [],
   "source": [
    "cat_indexes_val = defaultdict(list)\n",
    "for i, tag in enumerate(tags_val):\n",
    "    cat_indexes_val[tag].append(i)"
   ]
  },
  {
   "cell_type": "code",
   "execution_count": null,
   "id": "dfba5553-f31e-4b79-b155-0a04961b0120",
   "metadata": {},
   "outputs": [],
   "source": []
  },
  {
   "cell_type": "code",
   "execution_count": 219,
   "id": "831e8f73-b9a1-4542-ae83-aefc430b0e30",
   "metadata": {},
   "outputs": [
    {
     "data": {
      "text/plain": [
       "'Наука'"
      ]
     },
     "execution_count": 219,
     "metadata": {},
     "output_type": "execute_result"
    }
   ],
   "source": [
    "random.choice(list(cat.keys()))"
   ]
  },
  {
   "cell_type": "code",
   "execution_count": 229,
   "id": "41f470d8-3d08-4207-9e9e-8caa3d02ea88",
   "metadata": {},
   "outputs": [
    {
     "data": {
      "text/plain": [
       "5785"
      ]
     },
     "execution_count": 229,
     "metadata": {},
     "output_type": "execute_result"
    }
   ],
   "source": [
    "len(cat_indexes['Наука'])"
   ]
  },
  {
   "cell_type": "code",
   "execution_count": 164,
   "id": "8566b0bb-96ab-49af-900f-ecfed8e5f583",
   "metadata": {},
   "outputs": [],
   "source": [
    "def get_embedding(text, model, tokenizer, device=cfg.device):\n",
    "    t = tokenizer(text, padding=True, truncation=True, return_tensors='pt')\n",
    "    with torch.no_grad():\n",
    "        inputs = {k: v.to(device) for k, v in t.items()}\n",
    "        model_output = model(inputs)\n",
    "    embeddings = torch.nn.functional.normalize(model_output)\n",
    "    return embeddings[0].cpu().numpy()"
   ]
  },
  {
   "cell_type": "code",
   "execution_count": 165,
   "id": "3a857431-f0a3-4ecc-b1f5-552d001a4470",
   "metadata": {},
   "outputs": [],
   "source": [
    "def get_embeddings(texts, model, tokenizer):\n",
    "    return np.array([get_embedding(text, model, tokenizer) for text in tqdm(texts)])"
   ]
  },
  {
   "cell_type": "code",
   "execution_count": 240,
   "id": "e0187c9b-cd41-4871-a1f1-0e7eece1c7cc",
   "metadata": {
    "collapsed": true,
    "jupyter": {
     "outputs_hidden": true
    },
    "tags": []
   },
   "outputs": [
    {
     "data": {
      "text/html": [
       "<div>\n",
       "<style scoped>\n",
       "    .dataframe tbody tr th:only-of-type {\n",
       "        vertical-align: middle;\n",
       "    }\n",
       "\n",
       "    .dataframe tbody tr th {\n",
       "        vertical-align: top;\n",
       "    }\n",
       "\n",
       "    .dataframe thead th {\n",
       "        text-align: right;\n",
       "    }\n",
       "</style>\n",
       "<table border=\"1\" class=\"dataframe\">\n",
       "  <thead>\n",
       "    <tr style=\"text-align: right;\">\n",
       "      <th></th>\n",
       "      <th>url</th>\n",
       "      <th>title</th>\n",
       "      <th>text</th>\n",
       "      <th>topic</th>\n",
       "      <th>tags</th>\n",
       "      <th>date</th>\n",
       "    </tr>\n",
       "  </thead>\n",
       "  <tbody>\n",
       "    <tr>\n",
       "      <th>17087</th>\n",
       "      <td>https://lenta.ru/news/2019/06/28/signal/</td>\n",
       "      <td>Раскрыта загадка «инопланетных» сигналов из ко...</td>\n",
       "      <td>Международная группа ученых впервые выявила ис...</td>\n",
       "      <td>NaN</td>\n",
       "      <td>Космос</td>\n",
       "      <td>2019-06-28</td>\n",
       "    </tr>\n",
       "    <tr>\n",
       "      <th>17860</th>\n",
       "      <td>https://lenta.ru/news/2019/09/11/mmbh/</td>\n",
       "      <td>Найдены следы загадочного объекта в Млечном Пути</td>\n",
       "      <td>Международная группа астрономов обнаружила убе...</td>\n",
       "      <td>NaN</td>\n",
       "      <td>Космос</td>\n",
       "      <td>2019-09-11</td>\n",
       "    </tr>\n",
       "    <tr>\n",
       "      <th>18422</th>\n",
       "      <td>https://lenta.ru/news/2019/11/11/universe/</td>\n",
       "      <td>Раскрыта главная тайна Вселенной</td>\n",
       "      <td>Американские астрономы получили новое значение...</td>\n",
       "      <td>NaN</td>\n",
       "      <td>Космос</td>\n",
       "      <td>2019-11-11</td>\n",
       "    </tr>\n",
       "    <tr>\n",
       "      <th>10791</th>\n",
       "      <td>https://lenta.ru/news/2017/08/09/big_bang/</td>\n",
       "      <td>Обнаружены самые быстрые воронки во Вселенной</td>\n",
       "      <td>Физики, работающие в Брукхейвенской национальн...</td>\n",
       "      <td>Наука и техника</td>\n",
       "      <td>Космос</td>\n",
       "      <td>2017-08-09</td>\n",
       "    </tr>\n",
       "    <tr>\n",
       "      <th>14379</th>\n",
       "      <td>https://lenta.ru/news/2018/08/10/galaxy/</td>\n",
       "      <td>Объяснено появление загадочного объекта рядом ...</td>\n",
       "      <td>Международная группа астрономов из США и Испан...</td>\n",
       "      <td>Наука и техника</td>\n",
       "      <td>Космос</td>\n",
       "      <td>2018-08-10</td>\n",
       "    </tr>\n",
       "    <tr>\n",
       "      <th>...</th>\n",
       "      <td>...</td>\n",
       "      <td>...</td>\n",
       "      <td>...</td>\n",
       "      <td>...</td>\n",
       "      <td>...</td>\n",
       "      <td>...</td>\n",
       "    </tr>\n",
       "    <tr>\n",
       "      <th>18823</th>\n",
       "      <td>https://lenta.ru/news/2019/12/13/blackhole/</td>\n",
       "      <td>Раскрыта правда о невозможной черной дыре</td>\n",
       "      <td>Независимые группы ученых выяснили, что обнару...</td>\n",
       "      <td>NaN</td>\n",
       "      <td>Космос</td>\n",
       "      <td>2019-12-13</td>\n",
       "    </tr>\n",
       "    <tr>\n",
       "      <th>18180</th>\n",
       "      <td>https://lenta.ru/news/2019/10/15/hole/</td>\n",
       "      <td>Названа неожиданная угроза от черных дыр</td>\n",
       "      <td>Астрофизик Джереми Шнитман (Jeremy Schnittman)...</td>\n",
       "      <td>NaN</td>\n",
       "      <td>Космос</td>\n",
       "      <td>2019-10-15</td>\n",
       "    </tr>\n",
       "    <tr>\n",
       "      <th>18352</th>\n",
       "      <td>https://lenta.ru/news/2019/11/01/blackhole/</td>\n",
       "      <td>Открыта загадочная разновидность черных дыр</td>\n",
       "      <td>Ученые Университета штата Огайо в США обнаружи...</td>\n",
       "      <td>NaN</td>\n",
       "      <td>Космос</td>\n",
       "      <td>2019-11-01</td>\n",
       "    </tr>\n",
       "    <tr>\n",
       "      <th>17111</th>\n",
       "      <td>https://lenta.ru/news/2019/07/01/hole/</td>\n",
       "      <td>Раскрыта тайна появления необъяснимых черных дыр</td>\n",
       "      <td>Астрономы Западного университета в Онтарио (Ка...</td>\n",
       "      <td>NaN</td>\n",
       "      <td>Космос</td>\n",
       "      <td>2019-07-01</td>\n",
       "    </tr>\n",
       "    <tr>\n",
       "      <th>9202</th>\n",
       "      <td>https://lenta.ru/news/2017/03/14/black_hole/</td>\n",
       "      <td>Раскрыта причина появления гигантских черных дыр</td>\n",
       "      <td>Международная группа астрофизиков из США, Финл...</td>\n",
       "      <td>Наука и техника</td>\n",
       "      <td>Космос</td>\n",
       "      <td>2017-03-14</td>\n",
       "    </tr>\n",
       "  </tbody>\n",
       "</table>\n",
       "<p>128 rows × 6 columns</p>\n",
       "</div>"
      ],
      "text/plain": [
       "                                                url  \\\n",
       "17087      https://lenta.ru/news/2019/06/28/signal/   \n",
       "17860        https://lenta.ru/news/2019/09/11/mmbh/   \n",
       "18422    https://lenta.ru/news/2019/11/11/universe/   \n",
       "10791    https://lenta.ru/news/2017/08/09/big_bang/   \n",
       "14379      https://lenta.ru/news/2018/08/10/galaxy/   \n",
       "...                                             ...   \n",
       "18823   https://lenta.ru/news/2019/12/13/blackhole/   \n",
       "18180        https://lenta.ru/news/2019/10/15/hole/   \n",
       "18352   https://lenta.ru/news/2019/11/01/blackhole/   \n",
       "17111        https://lenta.ru/news/2019/07/01/hole/   \n",
       "9202   https://lenta.ru/news/2017/03/14/black_hole/   \n",
       "\n",
       "                                                   title  \\\n",
       "17087  Раскрыта загадка «инопланетных» сигналов из ко...   \n",
       "17860   Найдены следы загадочного объекта в Млечном Пути   \n",
       "18422                   Раскрыта главная тайна Вселенной   \n",
       "10791      Обнаружены самые быстрые воронки во Вселенной   \n",
       "14379  Объяснено появление загадочного объекта рядом ...   \n",
       "...                                                  ...   \n",
       "18823          Раскрыта правда о невозможной черной дыре   \n",
       "18180           Названа неожиданная угроза от черных дыр   \n",
       "18352        Открыта загадочная разновидность черных дыр   \n",
       "17111   Раскрыта тайна появления необъяснимых черных дыр   \n",
       "9202    Раскрыта причина появления гигантских черных дыр   \n",
       "\n",
       "                                                    text            topic  \\\n",
       "17087  Международная группа ученых впервые выявила ис...              NaN   \n",
       "17860  Международная группа астрономов обнаружила убе...              NaN   \n",
       "18422  Американские астрономы получили новое значение...              NaN   \n",
       "10791  Физики, работающие в Брукхейвенской национальн...  Наука и техника   \n",
       "14379  Международная группа астрономов из США и Испан...  Наука и техника   \n",
       "...                                                  ...              ...   \n",
       "18823  Независимые группы ученых выяснили, что обнару...              NaN   \n",
       "18180  Астрофизик Джереми Шнитман (Jeremy Schnittman)...              NaN   \n",
       "18352  Ученые Университета штата Огайо в США обнаружи...              NaN   \n",
       "17111  Астрономы Западного университета в Онтарио (Ка...              NaN   \n",
       "9202   Международная группа астрофизиков из США, Финл...  Наука и техника   \n",
       "\n",
       "         tags        date  \n",
       "17087  Космос  2019-06-28  \n",
       "17860  Космос  2019-09-11  \n",
       "18422  Космос  2019-11-11  \n",
       "10791  Космос  2017-08-09  \n",
       "14379  Космос  2018-08-10  \n",
       "...       ...         ...  \n",
       "18823  Космос  2019-12-13  \n",
       "18180  Космос  2019-10-15  \n",
       "18352  Космос  2019-11-01  \n",
       "17111  Космос  2019-07-01  \n",
       "9202   Космос  2017-03-14  \n",
       "\n",
       "[128 rows x 6 columns]"
      ]
     },
     "execution_count": 240,
     "metadata": {},
     "output_type": "execute_result"
    }
   ],
   "source": [
    "df.iloc[real_indexes]"
   ]
  },
  {
   "cell_type": "code",
   "execution_count": 166,
   "id": "11d74599-671a-4f06-ad1c-29a0459308d9",
   "metadata": {},
   "outputs": [
    {
     "data": {
      "application/vnd.jupyter.widget-view+json": {
       "model_id": "617df3822b0e4d2f9914221a3ee444d0",
       "version_major": 2,
       "version_minor": 0
      },
      "text/plain": [
       "  0%|          | 0/3767 [00:00<?, ?it/s]"
      ]
     },
     "metadata": {},
     "output_type": "display_data"
    },
    {
     "data": {
      "application/vnd.jupyter.widget-view+json": {
       "model_id": "09fb4180f8ae46d0a7fff81a9939dc7c",
       "version_major": 2,
       "version_minor": 0
      },
      "text/plain": [
       "  0%|          | 0/3767 [00:00<?, ?it/s]"
      ]
     },
     "metadata": {},
     "output_type": "display_data"
    },
    {
     "data": {
      "text/plain": [
       "{'Интернет_acc': 0.5987482614742698,\n",
       " 'Наука_acc': 0.43042350907519444,\n",
       " 'Гаджеты_acc': 0.6244897959183674,\n",
       " 'Космос_acc': 0.428169014084507,\n",
       " 'Техника_acc': 0.7258064516129032,\n",
       " 'Софт_acc': 0.8387096774193549,\n",
       " 'accuracy': 0.4908415184496947}"
      ]
     },
     "execution_count": 166,
     "metadata": {},
     "output_type": "execute_result"
    }
   ],
   "source": [
    "calc_acc()"
   ]
  },
  {
   "cell_type": "raw",
   "id": "aa031aad-f8cb-4ec8-994e-dc22e2a234cd",
   "metadata": {},
   "source": [
    "cat = random.choice(list(cat_indexes.keys())) # TODO\n",
    "indexes = cat_indexes[cat]\n",
    "cosines = cat_cosine[cat]\n",
    "\n",
    "pick = random.randint(0, len(indexes)-1)\n",
    "max_indexes = cosines[pick].argsort()[-128:]\n",
    "real_indexes = [indexes[i] for i in max_indexes]"
   ]
  },
  {
   "cell_type": "code",
   "execution_count": 211,
   "id": "c6c26097-71dd-4de9-9b67-ef137666cfb7",
   "metadata": {
    "collapsed": true,
    "jupyter": {
     "outputs_hidden": true
    },
    "tags": []
   },
   "outputs": [
    {
     "name": "stdout",
     "output_type": "stream",
     "text": [
      "SpaceX представила анимацию полета тяжелой ракеты Falcon Heavy\n",
      "SpaceX показала готовую к пуску сверхтяжелую ракету Falcon Heavy\n",
      "\n",
      "\n",
      "Частный космический корабль Dragon отстыковался от МКС\n",
      "Космический грузовик Dragon отстыковался от МКС\n",
      "\n",
      "\n",
      "НАСА показало видео вращающихся Плутона и Харона\n",
      "НАСА показало видео вращения Плутона и Харона\n",
      "\n",
      "\n",
      "Планетологи объяснили темный цвет Меркурия\n",
      "Планетологи объяснили аномально темный цвет Меркурия\n",
      "\n",
      "\n",
      "Первая ступень Falcon 9 опрокинулась при посадке на морскую платформу\n",
      "Первая ступень Falcon 9 успешно приземлилась на плавучую платформу\n",
      "\n",
      "\n",
      "Первая ступень Falcon 9 опрокинулась при посадке на морскую платформу\n",
      "Первая ступень Falcon 9 жестко приземлилась на плавучую платформу\n",
      "\n",
      "\n",
      "SpaceX показала видео взрыва первой ступени Falcon 9\n",
      "Компания SpaceX показала полную запись взрыва первой ступени Falcon 9\n",
      "\n",
      "\n",
      "SpaceX показала видео взрыва первой ступени Falcon 9\n",
      "SpaceX показала видео приземления ступени Falcon 9\n",
      "\n",
      "\n",
      "Спутник на солнечных парусах сделал первые фотографии\n",
      "Спутник на солнечных парусах сделал первое селфи\n",
      "\n",
      "\n",
      "Станция Cassini показала фотографию сатурнианской Тефии\n",
      "Станция Cassini показала фотографию кратеров сатурнианской Тефии\n",
      "\n",
      "\n",
      "Ракета Vega с украинским двигателем  в пятый раз стартовала с космодрома Куру\n",
      "Ракета Vega с украинским двигателем в шестой раз стартовала с космодрома Куру\n",
      "\n",
      "\n",
      "«Прогресс» c грузом успешно пристыковался к МКС\n",
      "«Прогресс-МС» успешно пристыковался к МКС\n",
      "\n",
      "\n",
      "НАСА показало предпролетный снимок «сердца» Плутона\n",
      "НАСА показало снимок «затонувшего» сердца Плутона\n",
      "\n",
      "\n",
      "Станция New Horizons обнаружила на Плутоне гигантскую ледяную гору\n",
      "Станция New Horizons обнаружила на Плутоне движение ледников\n",
      "\n",
      "\n",
      "МКС избежала угрозы столкновения с космическим мусором\n",
      "МКС избежала столкновения с космическим мусором\n",
      "\n",
      "\n",
      "В компании SpaceX назвали причину крушения ракеты Falcon 9\n",
      "SpaceX назвала причину взрыва ракеты Falcon 9\n",
      "\n",
      "\n",
      "МКС сфотографировали на фоне убывающей Луны \n",
      "МКС сфотографировали на фоне Солнца\n",
      "\n",
      "\n",
      "НАСА испытало двигатель ракеты для полетов к Марсу\n",
      "НАСА успешно испытало двигатель для полетов к Марсу\n",
      "\n",
      "\n",
      "Ракета Ariane 5 стартовала с парой телекоммуникационных спутников\n",
      "Ракета Ariane 5 стартовала с телекоммуникационным спутником Intelsat\n",
      "\n",
      "\n",
      "К МКС запущен пилотируемый корабль «Союз ТМА-18М»\n",
      "Пилотируемый корабль «Союз ТМА-18М» пристыковался к МКС\n",
      "\n",
      "\n",
      "На космодром Восточный доставили ракету для первого старта\n",
      "На космодроме Восточный установили ракету для первого запуска\n",
      "\n",
      "\n",
      "К МКС отправился последний «Прогресс М-М»\n",
      "К МКС пристыковался последний «Прогресс М-М»\n",
      "\n",
      "\n",
      "Станция New Horizons сделала снимок голубого неба Плутона\n",
      "Станция New Horizons сделала снимок висячих долин Плутона\n",
      "\n",
      "\n",
      "Марсоход Curiosity сделал послебуровое селфи\n",
      "Марсоход Curiosity сделал селфи на фоне дюны\n",
      "\n",
      "\n",
      "Китай запустил спутник дистанционного зондирования Земли\n",
      "Китай запустил очередной спутник дистанционного зондирования Земли\n",
      "\n",
      "\n",
      "Названа дата первого пуска с космодрома Восточный\n",
      "Названа дата первого запуска с космодрома Восточный\n",
      "\n",
      "\n",
      "Российская ракета вывела на орбиту европейский спутник связи\n",
      "Российская ракета успешно вывела европейский спутник на орбиту\n",
      "\n",
      "\n",
      "НАСА показало снимок айсбергов Плутона\n",
      "НАСА показало снимок облаков Плутона\n",
      "\n",
      "\n",
      "В Солнечной системе нашли новую карликовую планету\n",
      "В Солнечной системе нашли новую планету\n",
      "\n",
      "\n",
      "В Солнечной системе нашли новую карликовую планету\n",
      "В Солнечной системе нашли новую планету\n",
      "\n",
      "\n",
      "В Солнечной системе нашли новую карликовую планету\n",
      "В Солнечной системе нашли новую карликовую планету\n",
      "\n",
      "\n",
      "Экипаж МКС успешно вернулся на Землю\n",
      "Экипаж МКС вернулся на Землю\n",
      "\n",
      "\n",
      "Экипаж МКС успешно вернулся на Землю\n",
      "Экипаж МКС вернулся на Землю\n",
      "\n",
      "\n",
      "Астрофизики вновь обнаружили «инопланетный» сигнал\n",
      "Астрономы вновь обнаружили «инопланетный» сигнал \n",
      "\n",
      "\n",
      "НАСА показало снимок облаков Плутона\n",
      "НАСА показало снимок «светящихся» кратеров Плутона\n",
      "\n",
      "\n",
      "НАСА показало снимок шумерского кратера на Церере\n",
      "НАСА показало цветной снимок загадочного кратера на Церере\n",
      "\n",
      "\n",
      "НАСА показало снимок шумерского кратера на Церере\n",
      "НАСА показало снимок абхазского кратера на Церере\n",
      "\n",
      "\n",
      "На Марсе нашли кипящую воду\n",
      "На Марсе нашли исчезнувшую воду\n",
      "\n",
      "\n",
      "Первая ступень Falcon 9 успешно приземлилась на плавучую платформу\n",
      "Первая ступень Falcon 9 жестко приземлилась на плавучую платформу\n",
      "\n",
      "\n",
      "Названы самые подходящие для жизни звезды\n",
      "Названы самые пригодные для жизни звезды\n",
      "\n",
      "\n",
      "В США запущена ракета с секретным разведывательным спутником\n",
      "США запустили ракету с секретным спутником для разведки\n",
      "\n",
      "\n",
      "НАСА показало видео испытаний ускорителя для сверхтяжелой ракеты\n",
      "НАСА показало видео испытаний двигателя сверхтяжелой ракеты\n",
      "\n",
      "\n",
      "В Солнечной системе нашли новую планету\n",
      "В Солнечной системе нашли новую планету\n",
      "\n",
      "\n",
      "В Солнечной системе нашли новую планету\n",
      "В Солнечной системе нашли новую карликовую планету\n",
      "\n",
      "\n",
      "SpaceX отправила корабль Dragon к МКС\n",
      "SpaceX запустила корабль Dragon к МКС\n",
      "\n",
      "\n",
      "Корабль Dragon вернулся на Землю\n",
      "Космический грузовик Dragon вернулся на Землю\n",
      "\n",
      "\n",
      "В Солнечной системе нашли новую планету\n",
      "В Солнечной системе нашли новую карликовую планету\n",
      "\n",
      "\n",
      "США испытали двигатель сверхтяжелой ракеты\n",
      "США испытали двигатель сверхтяжелой ракеты\n",
      "\n",
      "\n",
      "США испытали новый космический корабль\n",
      "В США испытали новейший космический корабль\n",
      "\n",
      "\n",
      "В космосе нашли аномальный объект\n",
      "В космосе нашли гигантский аномальный объект\n",
      "\n",
      "\n",
      "Запущенный российской компанией ангольский спутник перестал выходить на связь\n",
      "Запущенный российской компанией ангольский спутник вышел на связь\n",
      "\n",
      "\n",
      "Запущенный Россией ангольский спутник вышел на связь\n",
      "Запущенный российской компанией ангольский спутник вышел на связь\n",
      "\n",
      "\n",
      "Экипаж МКС вернулся на Землю\n",
      "Экипаж МКС вернулся на Землю\n",
      "\n",
      "\n",
      "«Роскосмос» уличили во лжи\n",
      "«Роскосмос» уличили в обмане\n",
      "\n",
      "\n",
      "На Марсе нашли признаки существования жизни\n",
      "На Марсе обнаружили признаки жизни\n",
      "\n",
      "\n",
      "НАСА ответило на угрозу прекращения поставок РД-180\n",
      "Глава НАСА отреагировал на угрозу прекращения поставок РД-180\n",
      "\n",
      "\n",
      "Названа новая опасность полета на Марс\n",
      "Названа новая смертельная опасность полета на Марс\n",
      "\n",
      "\n",
      "Названа причина аварии «Союза»\n",
      "Названа причина аварии «Союза»\n",
      "\n",
      "\n",
      "Выявлена новая опасность космических полетов\n",
      "Названа новая опасность для космических полетов\n",
      "\n",
      "\n",
      "Получены загадочные радиосигналы из космоса\n",
      "Перехвачены загадочные радиосигналы из далекого космоса\n",
      "\n",
      "\n",
      "«Российский Falcon 9» стал дороже американского\n",
      "«Российский Falcon 9» оказался дешевле американского\n",
      "\n",
      "\n",
      "Найдена новая звезда с «инопланетными мегаструктурами»\n",
      "Открыта новая звезда с «инопланетными мегаструктурами»\n",
      "\n",
      "\n",
      "Найдена новая звезда с «инопланетными мегаструктурами»\n",
      "Обнаружена новая звезда с инопланетными мегаструктурами\n",
      "\n",
      "\n",
      "Найдена новая звезда с «инопланетными мегаструктурами»\n",
      "Найдены новые звезды с инопланетными мегаструктурами\n",
      "\n",
      "\n",
      "НАСА предупредило о приближающемся к Земле астероиде\n",
      "НАСА предупредило о приближающемся к Земле астероиде\n",
      "\n",
      "\n",
      "Обнаружена новая звезда с инопланетными мегаструктурами\n",
      "Найдены новые звезды с инопланетными мегаструктурами\n",
      "\n",
      "\n",
      "Объяснена главная тайна Вселенной\n",
      "Объяснена главная загадка Вселенной\n",
      "\n",
      "\n",
      "Объяснена главная тайна Вселенной\n",
      "Раскрыта главная тайна Вселенной\n",
      "\n",
      "\n"
     ]
    }
   ],
   "source": [
    "for i,j in zip(*np.where(spam > 0.95)):\n",
    "    print(titles[cat['Космос']][i])\n",
    "    print(titles[cat['Космос']][j])\n",
    "    print();print()"
   ]
  },
  {
   "cell_type": "code",
   "execution_count": null,
   "id": "3256e63c-3f7c-493c-8d46-b9c3b5f56fac",
   "metadata": {},
   "outputs": [],
   "source": [
    "def on_new_epoch():\n",
    "    "
   ]
  },
  {
   "cell_type": "code",
   "execution_count": 46,
   "id": "2c78527a-47e0-4fbe-ab90-9f9d1242b439",
   "metadata": {},
   "outputs": [
    {
     "data": {
      "text/plain": [
       "torch.Size([18832, 200])"
      ]
     },
     "execution_count": 46,
     "metadata": {},
     "output_type": "execute_result"
    }
   ],
   "source": [
    "contents_enc['input_ids'].shape"
   ]
  },
  {
   "cell_type": "code",
   "execution_count": 35,
   "id": "330a8d40-df5b-488e-b4be-10956c8fd2c8",
   "metadata": {},
   "outputs": [],
   "source": []
  },
  {
   "cell_type": "code",
   "execution_count": 138,
   "id": "c3c2eb36-cbeb-4809-852e-6daf8770e851",
   "metadata": {},
   "outputs": [
    {
     "data": {
      "text/plain": [
       "'cointegrated/rubert-tiny2'"
      ]
     },
     "execution_count": 138,
     "metadata": {},
     "output_type": "execute_result"
    }
   ],
   "source": [
    "cfg.text_encoder_model"
   ]
  },
  {
   "cell_type": "code",
   "execution_count": 288,
   "id": "1cb065b6-8425-4c62-86ed-1b19c9c55715",
   "metadata": {},
   "outputs": [],
   "source": [
    "class TextEncoder(nn.Module):\n",
    "    def __init__(self, model_name=cfg.text_encoder_model, trainable=cfg.trainable, cache_dir=cfg.cache_dir, text_embedding=cfg.text_embedding):\n",
    "        super().__init__()\n",
    "        self.model = AutoModel.from_pretrained(model_name, cache_dir=cache_dir)\n",
    "        self.layer_norm = nn.LayerNorm(text_embedding)\n",
    "        for p in self.model.parameters():\n",
    "            p.requires_grad = trainable\n",
    "\n",
    "        self.target_token_idx = 0\n",
    "\n",
    "    def forward(self, inputs: dict):\n",
    "        output = self.model(**inputs)\n",
    "        last_hidden_state = output.last_hidden_state[:, self.target_token_idx, :]\n",
    "        return self.layer_norm(last_hidden_state)\n"
   ]
  },
  {
   "cell_type": "code",
   "execution_count": 140,
   "id": "7743d37d-3069-4b21-ac62-500b40d7ab4b",
   "metadata": {},
   "outputs": [
    {
     "name": "stderr",
     "output_type": "stream",
     "text": [
      "Some weights of the model checkpoint at cointegrated/rubert-tiny2 were not used when initializing BertModel: ['cls.predictions.transform.LayerNorm.bias', 'cls.seq_relationship.bias', 'cls.predictions.decoder.weight', 'cls.predictions.transform.LayerNorm.weight', 'cls.predictions.bias', 'cls.seq_relationship.weight', 'cls.predictions.decoder.bias', 'cls.predictions.transform.dense.bias', 'cls.predictions.transform.dense.weight']\n",
      "- This IS expected if you are initializing BertModel from the checkpoint of a model trained on another task or with another architecture (e.g. initializing a BertForSequenceClassification model from a BertForPreTraining model).\n",
      "- This IS NOT expected if you are initializing BertModel from the checkpoint of a model that you expect to be exactly identical (initializing a BertForSequenceClassification model from a BertForSequenceClassification model).\n"
     ]
    }
   ],
   "source": [
    "model = AutoModel.from_pretrained('cointegrated/rubert-tiny2', cache_dir='rubert')"
   ]
  },
  {
   "cell_type": "code",
   "execution_count": 142,
   "id": "61f56a6f-5b62-4e8e-ae74-ecd2d5de0773",
   "metadata": {},
   "outputs": [],
   "source": [
    "tokenizer = AutoTokenizer.from_pretrained('cointegrated/rubert-tiny2', cache_dir='rubert')"
   ]
  },
  {
   "cell_type": "code",
   "execution_count": 148,
   "id": "646e884c-9f05-449e-b2fa-48cd106531e7",
   "metadata": {},
   "outputs": [
    {
     "name": "stderr",
     "output_type": "stream",
     "text": [
      "Some weights of the model checkpoint at cointegrated/rubert-tiny2 were not used when initializing BertModel: ['cls.predictions.transform.LayerNorm.bias', 'cls.seq_relationship.bias', 'cls.predictions.decoder.weight', 'cls.predictions.transform.LayerNorm.weight', 'cls.predictions.bias', 'cls.seq_relationship.weight', 'cls.predictions.decoder.bias', 'cls.predictions.transform.dense.bias', 'cls.predictions.transform.dense.weight']\n",
      "- This IS expected if you are initializing BertModel from the checkpoint of a model trained on another task or with another architecture (e.g. initializing a BertForSequenceClassification model from a BertForPreTraining model).\n",
      "- This IS NOT expected if you are initializing BertModel from the checkpoint of a model that you expect to be exactly identical (initializing a BertForSequenceClassification model from a BertForSequenceClassification model).\n"
     ]
    }
   ],
   "source": [
    "model = TextEncoder('cointegrated/rubert-tiny2', cache_dir='rubert')"
   ]
  },
  {
   "cell_type": "raw",
   "id": "c689c9de-19b4-479e-945d-f5e43df3ea3b",
   "metadata": {},
   "source": [
    "model.cuda()"
   ]
  },
  {
   "cell_type": "code",
   "execution_count": 171,
   "id": "60b41ba4-3c6a-4e83-ab89-6803e7e316fc",
   "metadata": {},
   "outputs": [
    {
     "data": {
      "text/plain": [
       "(5, 312)"
      ]
     },
     "execution_count": 171,
     "metadata": {},
     "output_type": "execute_result"
    }
   ],
   "source": [
    "get_embeddings(titles[:5], model, tokenizer).shape"
   ]
  },
  {
   "cell_type": "code",
   "execution_count": 12,
   "id": "a9f0556f-52ce-46f2-b219-931a14b36c6f",
   "metadata": {},
   "outputs": [],
   "source": [
    "titles_enc_batch = {\n",
    "    k: v[indexes] for k, v in titles_enc.items()\n",
    "}\n",
    "\n",
    "titles_pred = model(titles_enc_batch)"
   ]
  },
  {
   "cell_type": "code",
   "execution_count": 14,
   "id": "d5bb53a2-a010-4d5b-ae03-deb9206445a6",
   "metadata": {},
   "outputs": [],
   "source": [
    "contents_enc_batch = {\n",
    "        k: v[indexes] for k, v in contents_enc.items()\n",
    "    }\n",
    "\n",
    "contents_pred = model(contents_enc_batch)"
   ]
  },
  {
   "cell_type": "code",
   "execution_count": 274,
   "id": "39b8557f-92f7-4612-8d08-b70086587050",
   "metadata": {},
   "outputs": [],
   "source": [
    "def cross_entropy(preds, targets, reduction='none'):\n",
    "    log_softmax = nn.LogSoftmax(dim=-1)\n",
    "    loss = (-targets * log_softmax(preds)).sum(1)\n",
    "    if reduction == \"none\":\n",
    "        return loss\n",
    "    elif reduction == \"mean\":\n",
    "        return loss.mean()\n",
    "\n",
    "def CosLoss(model, batch, temperature=cfg.temperature):\n",
    "    titles_pred = model(batch['text1'])\n",
    "    contents_pred = model(batch['text2'])\n",
    "    \n",
    "    logits = (titles_pred @ contents_pred.T) / temperature\n",
    "    targets = torch.eye(len(titles_pred)).cuda()\n",
    "    # titles_similarity = titles_pred @ titles_pred.T\n",
    "    # contents_similarity = contents_pred @ contents_pred.T\n",
    "    # targets = F.softmax(\n",
    "    #     (titles_similarity + contents_similarity) / 2 * temperature, dim=-1\n",
    "    # )\n",
    "    texts_loss1 = cross_entropy(logits, targets, reduction='none')\n",
    "    texts_loss2 = cross_entropy(logits.T, targets.T, reduction='none')\n",
    "    # texts_loss2 = cross_entropy(logits.T, targets.T, reduction='none')\n",
    "    loss = (texts_loss1 + texts_loss2) / 2.0  # shape: (batch_size)\n",
    "    return loss.mean()"
   ]
  },
  {
   "cell_type": "code",
   "execution_count": 20,
   "id": "7c3479e6-675a-48d8-801d-4dea83e24051",
   "metadata": {},
   "outputs": [
    {
     "name": "stderr",
     "output_type": "stream",
     "text": [
      "Some weights of the model checkpoint at cointegrated/rubert-tiny2 were not used when initializing BertModel: ['cls.predictions.bias', 'cls.predictions.decoder.bias', 'cls.predictions.transform.dense.bias', 'cls.predictions.transform.LayerNorm.bias', 'cls.seq_relationship.weight', 'cls.predictions.transform.dense.weight', 'cls.predictions.transform.LayerNorm.weight', 'cls.predictions.decoder.weight', 'cls.seq_relationship.bias']\n",
      "- This IS expected if you are initializing BertModel from the checkpoint of a model trained on another task or with another architecture (e.g. initializing a BertForSequenceClassification model from a BertForPreTraining model).\n",
      "- This IS NOT expected if you are initializing BertModel from the checkpoint of a model that you expect to be exactly identical (initializing a BertForSequenceClassification model from a BertForSequenceClassification model).\n"
     ]
    }
   ],
   "source": [
    "model = Model()"
   ]
  },
  {
   "cell_type": "code",
   "execution_count": 21,
   "id": "d0975429-3896-4867-ac30-93945e5db8f8",
   "metadata": {},
   "outputs": [
    {
     "data": {
      "text/plain": [
       "tensor(2.7003, grad_fn=<MeanBackward0>)"
      ]
     },
     "execution_count": 21,
     "metadata": {},
     "output_type": "execute_result"
    }
   ],
   "source": [
    "model(titles_enc_batch, contents_enc_batch)"
   ]
  },
  {
   "cell_type": "code",
   "execution_count": 27,
   "id": "88cbd66a-2ea1-437e-bdef-f446ae7cb182",
   "metadata": {},
   "outputs": [],
   "source": [
    "title_embeds = np.load('title_embeds.npy')\n",
    "embeds = np.load('embeds.npy')"
   ]
  },
  {
   "cell_type": "code",
   "execution_count": 30,
   "id": "9b46ae84-afd6-42d8-b593-6320a9f5c0f0",
   "metadata": {},
   "outputs": [
    {
     "data": {
      "text/plain": [
       "0.266089634664401"
      ]
     },
     "execution_count": 30,
     "metadata": {},
     "output_type": "execute_result"
    }
   ],
   "source": [
    "np.mean().argmax(1) == np.arange(len(title_embeds)))"
   ]
  },
  {
   "cell_type": "code",
   "execution_count": 268,
   "id": "5f23728f-ee84-435e-a44a-c75910dc7609",
   "metadata": {
    "tags": []
   },
   "outputs": [],
   "source": [
    "from sklearn.metrics.pairwise import cosine_similarity\n",
    "\n",
    "\n",
    "def calc_cosine_metrix():\n",
    "    global cat_cosine\n",
    "    cat_cosine = {\n",
    "        cat: cosine_similarity(\n",
    "            get_embeddings(\n",
    "                titles[indexes], \n",
    "                model, \n",
    "                tokenizer\n",
    "            ),\n",
    "            get_embeddings(\n",
    "                contents[indexes],\n",
    "                model,\n",
    "                tokenizer\n",
    "            )\n",
    "        )\n",
    "            for cat, indexes in cat_indexes.items()\n",
    "    }"
   ]
  },
  {
   "cell_type": "code",
   "execution_count": null,
   "id": "23486450-9436-49d2-b54a-d86ff9f07ef0",
   "metadata": {},
   "outputs": [],
   "source": [
    "cosine = cosine_similarity(title_embeds, embeds)"
   ]
  },
  {
   "cell_type": "code",
   "execution_count": 33,
   "id": "f6933967-58b1-4b28-9465-08d504cd1c7d",
   "metadata": {},
   "outputs": [
    {
     "name": "stdout",
     "output_type": "stream",
     "text": [
      "Наука\n",
      "0.22523768366464997\n",
      "\n",
      "Софт\n",
      "0.6282051282051282\n",
      "\n",
      "Интернет\n",
      "0.3740086266870739\n",
      "\n",
      "Гаджеты\n",
      "0.35918367346938773\n",
      "\n",
      "Космос\n",
      "0.213641488162345\n",
      "\n",
      "Техника\n",
      "0.4597207303974221\n",
      "\n"
     ]
    }
   ],
   "source": [
    "for k, v in cat_indexes.items():\n",
    "    print(k)\n",
    "    cosine = cosine_similarity(title_embeds[v], embeds[v])\n",
    "    print((cosine.argmax(1) == np.arange(len(cosine))).mean())\n",
    "    print()"
   ]
  },
  {
   "cell_type": "code",
   "execution_count": null,
   "id": "e84dda22-4024-4631-92b9-faf9bdaab1fa",
   "metadata": {},
   "outputs": [],
   "source": [
    "cfg.num_steps = 10000"
   ]
  },
  {
   "cell_type": "code",
   "execution_count": 356,
   "id": "1565004f-531e-4078-ab11-8e0df2cc8ffd",
   "metadata": {},
   "outputs": [],
   "source": [
    "from tqdm.notebook import tqdm\n",
    "import torch\n",
    "import logging\n",
    "import sys\n",
    "import matplotlib.pyplot as plt\n",
    "import numpy as np\n",
    "from IPython.display import clear_output\n",
    "    \n",
    "# TODO accuracy -> metric\n",
    "class Trainer:\n",
    "    def __init__(self, model, loss_fn, opt, scheduler=None, device='cuda', metric_callback=lambda x,y:np.nan, plot_callback=None, ckpt=None, log_file=sys.stdout):\n",
    "        self.model = model.to(device)\n",
    "        self.loss_fn = loss_fn\n",
    "        self.opt = opt\n",
    "        self.scheduler = scheduler\n",
    "        self.device = device\n",
    "        self.plot_callback = plot_callback\n",
    "        self.metric_callback = metric_callback # TODO as class with accumulating\n",
    "        self.ckpt = ckpt\n",
    "        self.log_file = open(log_file, 'w') if type(log_file)==str else log_file\n",
    "        \n",
    "        self.metrics = ['loss', 'accuracy'] + ['Наука_acc', 'Софт_acc', 'Интернет_acc', 'Гаджеты_acc', 'Космос_acc', 'Техника_acc']\n",
    "        self.history = None\n",
    "\n",
    "\n",
    "\n",
    "    def train(self, train_dl, num_epoch=1, train_steps=None, val_steps=None, plot_interval=None, save_path=None, resume=False):\n",
    "        if not resume or self.history is None:\n",
    "            self.history = {stat: {'train': [], 'val': []} for stat in self.metrics}\n",
    "\n",
    "        # if train_steps is not None:\n",
    "        #     logging.info(f'The number of iterations to go through the entire dataset : {len(train_dl) // train_steps}')\n",
    "        # if val_steps is not None:\n",
    "        #     logging.info(f'The number of iterations to go through the entire dataset : {len(val_dl) // val_steps}')\n",
    "\n",
    "        try:\n",
    "            for epoch in trange(num_epoch):\n",
    "                print(f'EPOCH {epoch}/{num_epoch}', file=self.log_file, flush=True)\n",
    "                epoch_loss = 0.\n",
    "                for step, batch in zip(trange(train_steps),train_dl):\n",
    "                    for key in ['text1', 'text2']:\n",
    "                        batch[key] = {k: v.to(self.device) for k, v in batch[key].items() if k not in ('caption',)}\n",
    "                    loss = self.loss_fn(model, batch)\n",
    "                    optimizer.zero_grad()\n",
    "                    loss.backward()\n",
    "                    optimizer.step()\n",
    "                    epoch_loss += loss.item()\n",
    "                    print(f'{step}/{train_steps} steps. Loss: {loss.item():.3f}', end='\\r', file=self.log_file, flush=True)\n",
    "                print(' '*50, end='\\r', file=self.log_file, flush=True)\n",
    "                self.history['loss']['train'].append(epoch_loss / train_steps)\n",
    "                metrics = self.metric_callback()\n",
    "                for metric, val in metrics.items():\n",
    "                    self.history[metric]['val'].append(val)\n",
    "                \n",
    "                # logging\n",
    "                clear_output()\n",
    "                self.print_stats()\n",
    "\n",
    "                # visualizations\n",
    "                if self.plot_callback is not None and epoch != 1:\n",
    "                    self.plot_callback(self.history)\n",
    "\n",
    "                # scheduler\n",
    "                if self.scheduler is not None:\n",
    "                    self.scheduler.step(self.history['loss']['val'][-1])\n",
    "\n",
    "                # checkpoint\n",
    "                if self.ckpt is not None:\n",
    "                    if self.ckpt(self.history['accuracy']['val'][-1]):\n",
    "                        print(f'Metric improved: {self.ckpt.best:.2%}. Model saved', file=self.log_file, flush=True)\n",
    "                \n",
    "                # calc_cosine_metrix()\n",
    "                print(file=self.log_file, flush=True)\n",
    "                # additional functions\n",
    "                # func(self, val_dl)\n",
    "        except KeyboardInterrupt:\n",
    "            # TODO align history\n",
    "            print('Keyboard interrupt')\n",
    "\n",
    "    @torch.no_grad()\n",
    "    def evaluate(self, loader, steps=None):\n",
    "        y_pred_all = None\n",
    "        y_all = None\n",
    "        total_steps = len(loader) if steps is None else steps\n",
    "        \n",
    "        for step, (X, y) in enumerate(loader, 1):\n",
    "            y_pred = self.model(X.to(self.device)).cpu()\n",
    "            \n",
    "            y_pred_all = torch.cat([y_pred_all, y_pred]) if y_pred_all is not None else y_pred\n",
    "                \n",
    "            y_all = torch.cat([y_all, y]) if y_all is not None else y\n",
    "            \n",
    "            print(f'{step}/{total_steps} valid steps', end='\\r', file=self.log_file, flush=True)\n",
    "            if step == total_steps: break\n",
    "        print(' '*50, end='\\r', file=self.log_file, flush=True)\n",
    "        \n",
    "        return self.loss_fn(y_pred_all, y_all), \\\n",
    "                self.metric_callback(y_pred_all, y_all)\n",
    "            \n",
    "    def print_stats(self):\n",
    "        history = self.history\n",
    "        for phase in ('train', 'val'):\n",
    "            print(f'---{phase.upper()}---', file=self.log_file, flush=True)\n",
    "            for metric in self.metrics:\n",
    "                stat = history[metric][phase]\n",
    "                if stat:\n",
    "                    print(f'{metric}: {stat[-1]:.2f}', file=self.log_file, flush=True)"
   ]
  },
  {
   "cell_type": "code",
   "execution_count": 357,
   "id": "92680fe0-fc30-4531-8abf-2cfa050fdef2",
   "metadata": {},
   "outputs": [],
   "source": [
    "def plot_lc(history): # TODO with/without metric and train/val mode\n",
    "    fig, axes = plt.subplots(ncols=len(history), figsize=(8*len(history), 6))\n",
    "    for ax, (name, vals) in zip(axes, history.items()):\n",
    "        ax.plot(vals['train'], label=f'Train {name}')\n",
    "        ax.plot(vals['val'], label=f'Val {name}')\n",
    "        ax.set_xlabel('Num epoch')\n",
    "        ax.set_ylabel(name)\n",
    "        ax.set_title(name + ' graph')\n",
    "        plt.axis('on')\n",
    "        ax.legend()\n",
    "    plt.show()\n",
    "    fig.savefig('learning_curves.png')\n",
    "    plt.close()"
   ]
  },
  {
   "cell_type": "code",
   "execution_count": 358,
   "id": "3520872e-65b3-4977-b63b-953ea015fa94",
   "metadata": {},
   "outputs": [],
   "source": [
    "class CheckPointer:\n",
    "    def __init__(self, model, mode='max', save_path='model.pth', best=None):\n",
    "        self.model = model\n",
    "        self.save_path = save_path\n",
    "        \n",
    "        if mode == 'min':\n",
    "            self.monitor_op = np.less\n",
    "            self.best = np.Inf if best is None else best\n",
    "        elif mode == 'max':\n",
    "            self.monitor_op = np.greater\n",
    "            self.best = -np.Inf if best is None else best\n",
    "        else:\n",
    "            raise ValueError(f'Invalid `mode` \"{mode}\"')\n",
    "            \n",
    "    def __call__(self, curr):\n",
    "        if self.monitor_op(curr, self.best):\n",
    "            self.best = curr\n",
    "            torch.save(self.model.state_dict(), self.save_path)\n",
    "            return True\n",
    "        return False"
   ]
  },
  {
   "cell_type": "code",
   "execution_count": 360,
   "id": "270b00f8-5153-47aa-a00c-905fb26e5d5c",
   "metadata": {},
   "outputs": [],
   "source": [
    "def calc_acc():\n",
    "    text_embeddings1 = get_embeddings(titles_val, model, tokenizer)\n",
    "    text_embeddings2 = get_embeddings(contents_val, model, tokenizer)\n",
    "    \n",
    "    metrics = {\n",
    "        cat + '_acc': ((text_embeddings1[index] @ text_embeddings2[index].T).argmax(1) == np.arange(len(text_embeddings1[index]))).mean()\n",
    "        for cat, index in cat_indexes_val.items()\n",
    "    }\n",
    "    metrics['accuracy'] = ((text_embeddings1 @ text_embeddings2.T).argmax(1) == np.arange(len(text_embeddings1))).mean()\n",
    "    # metrics['accuracy'] = np.mean(list(metrics.values()))\n",
    "    return metrics"
   ]
  },
  {
   "cell_type": "code",
   "execution_count": 377,
   "id": "139724cf-db8e-4a0b-8b91-408429ae6d4f",
   "metadata": {},
   "outputs": [
    {
     "name": "stderr",
     "output_type": "stream",
     "text": [
      "Some weights of the model checkpoint at cointegrated/rubert-tiny2 were not used when initializing BertModel: ['cls.predictions.transform.dense.bias', 'cls.predictions.transform.LayerNorm.weight', 'cls.predictions.decoder.bias', 'cls.predictions.transform.LayerNorm.bias', 'cls.predictions.transform.dense.weight', 'cls.seq_relationship.bias', 'cls.predictions.bias', 'cls.predictions.decoder.weight', 'cls.seq_relationship.weight']\n",
      "- This IS expected if you are initializing BertModel from the checkpoint of a model trained on another task or with another architecture (e.g. initializing a BertForSequenceClassification model from a BertForPreTraining model).\n",
      "- This IS NOT expected if you are initializing BertModel from the checkpoint of a model that you expect to be exactly identical (initializing a BertForSequenceClassification model from a BertForSequenceClassification model).\n"
     ]
    }
   ],
   "source": [
    "tokenizer = AutoTokenizer.from_pretrained(cfg.text_tokenizer, cache_dir=cfg.cache_dir)\n",
    "model = TextEncoder().to(cfg.device)\n",
    "\n",
    "train_loader = Dataset(titles, contents, tags, tokenizer)"
   ]
  },
  {
   "cell_type": "code",
   "execution_count": 362,
   "id": "23c1d27e-df13-4f86-bdf8-2731840537c9",
   "metadata": {},
   "outputs": [
    {
     "data": {
      "application/vnd.jupyter.widget-view+json": {
       "model_id": "b1190e73272c4d0f898cdf4db5033251",
       "version_major": 2,
       "version_minor": 0
      },
      "text/plain": [
       "  0%|          | 0/3767 [00:00<?, ?it/s]"
      ]
     },
     "metadata": {},
     "output_type": "display_data"
    },
    {
     "data": {
      "application/vnd.jupyter.widget-view+json": {
       "model_id": "5def04c1e2a046c8a7f83a7bd63866f0",
       "version_major": 2,
       "version_minor": 0
      },
      "text/plain": [
       "  0%|          | 0/3767 [00:00<?, ?it/s]"
      ]
     },
     "metadata": {},
     "output_type": "display_data"
    },
    {
     "data": {
      "text/plain": [
       "{'Интернет_acc': 0.5709318497913769,\n",
       " 'Наука_acc': 0.35695764909248057,\n",
       " 'Гаджеты_acc': 0.6040816326530613,\n",
       " 'Космос_acc': 0.3873239436619718,\n",
       " 'Техника_acc': 0.6881720430107527,\n",
       " 'Софт_acc': 0.8387096774193549,\n",
       " 'accuracy': 0.4345633129811521}"
      ]
     },
     "execution_count": 362,
     "metadata": {},
     "output_type": "execute_result"
    }
   ],
   "source": [
    "calc_acc()"
   ]
  },
  {
   "cell_type": "code",
   "execution_count": 378,
   "id": "17169baf-9bdf-41a7-922c-9ef93bdcd020",
   "metadata": {},
   "outputs": [],
   "source": [
    "optimizer = torch.optim.AdamW(model.parameters(), lr=1e-5)\n",
    "lr_scheduler = torch.optim.lr_scheduler.ReduceLROnPlateau(\n",
    "    optimizer, mode=\"max\", patience=cfg.patience, factor=cfg.factor\n",
    ")\n",
    "ckpt = CheckPointer(model, save_path='best_e-5.pt', best=0.22)"
   ]
  },
  {
   "cell_type": "code",
   "execution_count": 311,
   "id": "86890931-d5c3-4ff3-93a9-7fa95cb5f4f2",
   "metadata": {
    "tags": []
   },
   "outputs": [
    {
     "name": "stderr",
     "output_type": "stream",
     "text": [
      "Some weights of the model checkpoint at cointegrated/rubert-tiny2 were not used when initializing BertModel: ['cls.predictions.transform.dense.bias', 'cls.predictions.transform.LayerNorm.weight', 'cls.predictions.decoder.bias', 'cls.predictions.transform.LayerNorm.bias', 'cls.predictions.transform.dense.weight', 'cls.seq_relationship.bias', 'cls.predictions.bias', 'cls.predictions.decoder.weight', 'cls.seq_relationship.weight']\n",
      "- This IS expected if you are initializing BertModel from the checkpoint of a model trained on another task or with another architecture (e.g. initializing a BertForSequenceClassification model from a BertForPreTraining model).\n",
      "- This IS NOT expected if you are initializing BertModel from the checkpoint of a model that you expect to be exactly identical (initializing a BertForSequenceClassification model from a BertForSequenceClassification model).\n"
     ]
    },
    {
     "data": {
      "text/plain": [
       "<All keys matched successfully>"
      ]
     },
     "execution_count": 311,
     "metadata": {},
     "output_type": "execute_result"
    }
   ],
   "source": [
    "model0 = TextEncoder()\n",
    "model0.load_state_dict(torch.load('best75.pt'))"
   ]
  },
  {
   "cell_type": "code",
   "execution_count": 312,
   "id": "da98d948-9787-4bc4-b822-ed3bc5733530",
   "metadata": {},
   "outputs": [],
   "source": [
    "torch.save(model0.model.state_dict(), 'best75_enc.pt')"
   ]
  },
  {
   "cell_type": "code",
   "execution_count": 314,
   "id": "9d3e0862-fba9-4b38-bbf7-912eac620340",
   "metadata": {},
   "outputs": [
    {
     "data": {
      "text/plain": [
       "<All keys matched successfully>"
      ]
     },
     "execution_count": 314,
     "metadata": {},
     "output_type": "execute_result"
    }
   ],
   "source": [
    "model.load_state_dict(torch.load('best75_enc.pt'))"
   ]
  },
  {
   "cell_type": "code",
   "execution_count": 334,
   "id": "c7aae13b-444b-4cc3-a6b8-560df518f199",
   "metadata": {},
   "outputs": [],
   "source": [
    "from scipy.spatial.distance import cosine\n",
    "\n",
    "class SemanticModel:\n",
    "    def __init__(self, model_path, model_name=cfg.text_encoder_model, device=cfg.device):\n",
    "        self.model = AutoModel.from_pretrained(model_path, config=AutoConfig.from_pretrained(model_name))\n",
    "        self.tokenizer = AutoTokenizer.from_pretrained(model_name)\n",
    "        \n",
    "        self.model.to(device)\n",
    "        self.model.eval()\n",
    "        self.device = device\n",
    "        \n",
    "    def __call__(self, text1: str, text2: str):\n",
    "        emb1 = self.get_embedding(text1)\n",
    "        emb2 = self.get_embedding(text2)\n",
    "        \n",
    "        sim = 1 - cosine(emb1, emb2)\n",
    "        return sim\n",
    "    \n",
    "    def get_embedding(self, text):\n",
    "        t = self.tokenizer(text, padding=True, truncation=True, return_tensors='pt')\n",
    "        with torch.no_grad():\n",
    "            inputs = {k: v.to(self.device) for k, v in t.items()}\n",
    "            model_output = self.model(**inputs)\n",
    "        embeddings = model_output.last_hidden_state[:, 0, :]\n",
    "        embeddings = torch.nn.functional.normalize(embeddings)\n",
    "        return embeddings[0].cpu().numpy()"
   ]
  },
  {
   "cell_type": "code",
   "execution_count": 350,
   "id": "5b7db106-a02a-4ac3-807d-cc4995ee22d3",
   "metadata": {},
   "outputs": [],
   "source": [
    "model = SemanticModel('best75_enc.pt')"
   ]
  },
  {
   "cell_type": "code",
   "execution_count": 345,
   "id": "029a74c9-7900-4ceb-a3a2-0d1210c61ad1",
   "metadata": {},
   "outputs": [
    {
     "name": "stderr",
     "output_type": "stream",
     "text": [
      "Some weights of the model checkpoint at cointegrated/rubert-tiny2 were not used when initializing BertModel: ['cls.predictions.transform.dense.bias', 'cls.predictions.transform.LayerNorm.weight', 'cls.predictions.decoder.bias', 'cls.predictions.transform.LayerNorm.bias', 'cls.predictions.transform.dense.weight', 'cls.seq_relationship.bias', 'cls.predictions.bias', 'cls.predictions.decoder.weight', 'cls.seq_relationship.weight']\n",
      "- This IS expected if you are initializing BertModel from the checkpoint of a model trained on another task or with another architecture (e.g. initializing a BertForSequenceClassification model from a BertForPreTraining model).\n",
      "- This IS NOT expected if you are initializing BertModel from the checkpoint of a model that you expect to be exactly identical (initializing a BertForSequenceClassification model from a BertForSequenceClassification model).\n"
     ]
    }
   ],
   "source": [
    "model.model = AutoModel.from_pretrained(cfg.text_encoder_model, cache_dir=cfg.cache_dir)"
   ]
  },
  {
   "cell_type": "code",
   "execution_count": 336,
   "id": "c00145ef-cae1-4de3-bf62-c510b693fd48",
   "metadata": {
    "collapsed": true,
    "jupyter": {
     "outputs_hidden": true
    },
    "tags": []
   },
   "outputs": [
    {
     "data": {
      "text/plain": [
       "array([-1.25678763e-01, -2.54373848e-02,  8.35844222e-03, -1.16889648e-01,\n",
       "       -5.92478514e-02, -1.70727782e-02, -4.93552499e-02, -4.95266952e-02,\n",
       "       -5.69983125e-02, -5.51043078e-03,  4.01953310e-02,  5.52434996e-02,\n",
       "        3.21429633e-02,  7.93742463e-02,  3.42684574e-02, -1.71202663e-02,\n",
       "        2.12214030e-02, -3.23861055e-02, -1.53070083e-02,  5.30452169e-02,\n",
       "       -3.58004197e-02,  2.87305359e-02,  2.99022477e-02,  1.55278752e-02,\n",
       "        1.17172144e-01,  2.99404152e-02, -5.80185559e-03,  4.89398539e-02,\n",
       "       -9.79513396e-03, -5.11294231e-02,  7.56416842e-03,  3.63361165e-02,\n",
       "        2.84112021e-02, -9.67139751e-03, -1.18235350e-01,  2.79204883e-02,\n",
       "        5.93362795e-03,  1.27586909e-02, -3.18049304e-02,  2.45072367e-03,\n",
       "        1.78631544e-02,  1.18686430e-01,  1.32853150e-01, -7.58410338e-03,\n",
       "       -3.24528292e-02, -1.51510816e-02,  5.10478625e-03,  6.36045961e-03,\n",
       "       -2.30923817e-02, -2.98824199e-02, -2.03945469e-02,  3.43805775e-02,\n",
       "        2.92570293e-02, -3.28883044e-02, -4.58857918e-04, -4.24767807e-02,\n",
       "        5.25973551e-02, -2.71415822e-02, -9.17701423e-03,  1.44603550e-02,\n",
       "        2.47616749e-02,  4.88238819e-02,  2.87520494e-02, -1.31787434e-02,\n",
       "        9.65300724e-02,  6.01186864e-02, -5.23907468e-02, -1.83055270e-02,\n",
       "        5.84902614e-03,  4.37002592e-02,  4.09855507e-02,  4.60475162e-02,\n",
       "       -6.65581450e-02, -5.51328510e-02,  3.48033048e-02, -8.41332301e-02,\n",
       "        2.15330180e-02,  2.63198651e-02,  7.45116314e-03, -2.08904613e-02,\n",
       "       -3.09696402e-02,  6.44062981e-02, -1.94790307e-02,  6.08251337e-03,\n",
       "       -6.48710877e-02,  1.13569750e-02, -4.62083220e-02,  5.15131280e-02,\n",
       "        4.59771231e-03, -7.57222548e-02,  4.04788926e-02, -5.49381273e-03,\n",
       "        5.53596914e-02,  6.24130853e-02, -1.63821913e-02, -4.47705714e-03,\n",
       "        5.03257439e-02,  1.00220516e-02, -3.08800302e-02,  3.23609449e-02,\n",
       "       -6.81551620e-02, -3.18168290e-02,  2.58653685e-02, -1.07215635e-01,\n",
       "       -2.25529796e-03,  4.97617126e-02, -4.10923595e-03,  8.04579332e-02,\n",
       "        2.31503937e-02, -3.73204276e-02, -1.96964778e-02,  3.00365593e-03,\n",
       "       -3.45017985e-02,  4.91007008e-02,  8.96242727e-03,  3.92884128e-02,\n",
       "       -4.47407439e-02, -6.30735159e-02, -8.48383829e-02, -5.07570505e-02,\n",
       "       -2.32943124e-03, -8.58027637e-02,  4.60487790e-02,  1.95431840e-02,\n",
       "       -5.79259656e-02, -5.27696824e-03,  7.01382756e-02,  8.59257653e-02,\n",
       "        7.73073062e-02,  5.56806996e-02, -3.85864303e-02, -4.80513833e-03,\n",
       "        7.43801147e-03,  3.90804280e-03, -3.81827503e-02,  4.59263189e-04,\n",
       "       -4.62745056e-02,  1.05117513e-02,  3.22298221e-02,  5.86561188e-02,\n",
       "        4.43677716e-02, -3.63487378e-02, -2.65920740e-02, -3.41916736e-03,\n",
       "       -1.20500177e-02, -4.85158339e-02, -7.03006284e-04, -3.44349886e-04,\n",
       "        4.20500301e-02,  5.58414608e-02,  5.46269193e-02, -4.67384718e-02,\n",
       "       -1.52412271e-02, -3.09671313e-02, -3.39194201e-02,  5.76580806e-06,\n",
       "       -3.10979150e-02, -1.10035492e-02,  1.37717381e-01,  1.13847665e-03,\n",
       "        1.10042309e-02, -6.10110275e-02,  1.47857657e-02, -6.96269721e-02,\n",
       "        8.70885048e-03, -2.66069379e-02,  9.25725233e-03, -8.30555614e-03,\n",
       "       -2.34995745e-02,  3.28340754e-02,  4.81379293e-02, -1.80181619e-02,\n",
       "        8.02387111e-03, -4.35269549e-02, -8.19535460e-03,  8.89051110e-02,\n",
       "       -6.26864843e-03,  4.32330780e-02, -1.36464108e-02, -9.41018481e-03,\n",
       "        4.00011465e-02, -3.28788906e-02,  7.54035935e-02, -3.67811844e-02,\n",
       "       -2.04417910e-02,  2.19672304e-02, -2.91440375e-02,  1.59009844e-02,\n",
       "       -5.22429217e-03,  6.17646985e-02,  2.98369955e-02, -5.61221689e-02,\n",
       "        3.18650380e-02,  5.67827448e-02,  5.50061837e-02, -5.32068312e-01,\n",
       "        8.16754065e-03,  3.78920361e-02,  8.43927544e-03,  6.55038878e-02,\n",
       "        3.87364719e-03, -2.91993748e-02,  2.06179526e-02, -9.17904079e-03,\n",
       "       -2.48264715e-01,  1.39507167e-02,  5.85074499e-02, -4.15664650e-02,\n",
       "        1.19058844e-02,  1.97571516e-03, -8.04032385e-03,  9.71377455e-03,\n",
       "       -1.05220033e-02,  9.49112773e-02, -8.45430419e-03, -4.18085493e-02,\n",
       "        4.80352566e-02,  3.90694803e-03,  9.46249217e-02, -6.09362684e-02,\n",
       "        3.81895006e-02,  7.12281689e-02,  5.14167175e-02, -6.31502941e-02,\n",
       "        3.67798209e-02,  7.43916705e-02,  2.96531934e-02,  1.52878482e-02,\n",
       "        5.04828207e-02,  4.23691720e-02, -4.32863124e-02, -2.62488350e-02,\n",
       "        2.89344341e-02,  5.78966253e-02, -5.43270027e-03,  5.69251403e-02,\n",
       "        6.79904148e-02, -1.12647889e-02,  6.44370019e-02, -4.06223685e-02,\n",
       "        2.51758993e-02,  3.17509323e-02, -4.81805019e-02,  3.03096753e-02,\n",
       "       -6.56780899e-02, -2.18131170e-02,  1.81168951e-02, -2.40173601e-02,\n",
       "       -1.86750535e-02, -3.18484455e-02, -1.81678366e-02, -6.74995128e-03,\n",
       "       -6.47311732e-02,  1.72941461e-02,  5.78901265e-03,  2.85492036e-02,\n",
       "       -7.52573907e-02,  4.11216840e-02,  9.38218273e-03, -6.51069954e-02,\n",
       "        1.14047769e-02,  4.33656125e-04,  3.77404131e-02,  6.16276599e-02,\n",
       "        2.03996077e-02, -2.88447905e-02, -1.68027151e-02,  5.27024977e-02,\n",
       "        5.40098101e-02,  9.99787915e-03,  5.41124642e-02,  1.03870891e-01,\n",
       "        2.38555688e-02,  3.22545059e-02,  2.97194049e-02,  7.03892410e-02,\n",
       "        3.22022624e-02, -2.36950610e-02,  1.30551979e-01,  1.45290559e-02,\n",
       "        1.08528823e-01,  3.02549712e-02, -1.05996653e-01, -1.51601732e-02,\n",
       "        1.61061399e-02,  7.40466490e-02,  5.91750350e-03,  3.37452367e-02,\n",
       "        1.17579466e-02,  4.10103425e-02, -2.58320924e-02,  2.08451208e-02,\n",
       "        4.21864912e-02, -1.33828204e-02, -6.98442608e-02, -7.15151569e-03,\n",
       "        6.48494735e-02,  8.44309013e-03, -2.78600175e-02, -2.82020010e-02,\n",
       "        5.59602166e-03, -8.24631304e-02, -3.17516364e-02, -5.40284021e-03,\n",
       "       -6.18251488e-02,  8.84808227e-03, -1.42676271e-02, -8.31433386e-02,\n",
       "        2.82403547e-02,  1.53554454e-02,  5.32563366e-02, -9.85821337e-02],\n",
       "      dtype=float32)"
      ]
     },
     "execution_count": 336,
     "metadata": {},
     "output_type": "execute_result"
    }
   ],
   "source": [
    "model.get_embedding('Владимир путин заценил')"
   ]
  },
  {
   "cell_type": "code",
   "execution_count": 351,
   "id": "4cad8c9d-81f4-4148-9316-25532cbcd2c4",
   "metadata": {},
   "outputs": [
    {
     "data": {
      "text/plain": [
       "0.9052563309669495"
      ]
     },
     "execution_count": 351,
     "metadata": {},
     "output_type": "execute_result"
    }
   ],
   "source": [
    "model('Москва стала первой в Европе среди городов с инновациями по борьбе с COVID-19', \n",
    "      '''\n",
    "     \n",
    "Ежегодно в мае-июне Проектный офис Факультета экономических и социальных наук завершает работу над бизнес-проектами и представляет результаты заказчикам – российским и международным компаниям.\n",
    "Среди компаний-заказчиков были крупные российские компании и организации: Сбер, РЖД, ВЭБ, Минстрой РФ, Ростуризм, Правительство Москвы, киностудия им. Горького, холдинг САВООВ ФУДС, Альфа-Банк, ВТБ, Дом РФ, Очаково, Сегежа-Групп а также представительства зарубежных компаний: BMW, DeLonghi, L’Oreal, Pfizer, Ritter Sport, Xiaomi, Avon, Schneider Group и др.\n",
    "Проектный офис ФЭСН является крупнейшим университетским проектным центром не только по количеству и сложности проектов, и не только по количеству студентов-участников. Он уже создал и создает новые масштабные форматы проектной работы. Так, еще пять лет назад ФЭСН вовлек в проектную деятельность университеты пяти стран Европы и стал разрабатывать с ними полугодичные проекты для международных компаний на английском языке. Некоторые сложные проекты делались усилиями проектных групп нескольких стран; например, в проекте от генерального директора BMW Russia по «Разработке маркетинговой стратегии перехода компании BMW с бензиновых двигателей на электрические в России» бакалавры ФЭСН работали вместе с магистрами из Германии и Бельгии. А в одном из проектов участвовали команды из Германии, Бельгии, Италии, 4 проектные группы из Франции и 5 из Бразилии.''')"
   ]
  },
  {
   "cell_type": "code",
   "execution_count": 379,
   "id": "607491b6-cd6b-424a-89c5-1708cd56a3ee",
   "metadata": {},
   "outputs": [],
   "source": [
    "trainer = Trainer(\n",
    "    model=model,\n",
    "    loss_fn=CosLoss,\n",
    "    opt=optimizer,\n",
    "    # scheduler=lr_scheduler,\n",
    "    metric_callback=calc_acc,\n",
    "    plot_callback=plot_lc,\n",
    "    ckpt=ckpt\n",
    ")"
   ]
  },
  {
   "cell_type": "code",
   "execution_count": 380,
   "id": "1a208bc8-2e63-4d26-bfc6-e9366da2e677",
   "metadata": {
    "scrolled": true,
    "tags": []
   },
   "outputs": [
    {
     "name": "stdout",
     "output_type": "stream",
     "text": [
      "---TRAIN---\n",
      "loss: 0.06\n",
      "---VAL---\n",
      "accuracy: 0.65\n",
      "Наука_acc: 0.59\n",
      "Софт_acc: 0.84\n",
      "Интернет_acc: 0.73\n",
      "Гаджеты_acc: 0.76\n",
      "Космос_acc: 0.61\n",
      "Техника_acc: 0.82\n"
     ]
    },
    {
     "data": {
      "image/png": "[encoded data removed]",
      "text/plain": [
       "<Figure size 4608x432 with 8 Axes>"
      ]
     },
     "metadata": {
      "needs_background": "light"
     },
     "output_type": "display_data"
    },
    {
     "name": "stdout",
     "output_type": "stream",
     "text": [
      "Metric improved: 64.75%. Model saved\n",
      "\n"
     ]
    }
   ],
   "source": [
    "trainer.train(\n",
    "    train_loader,\n",
    "    num_epoch=15,\n",
    "    train_steps=150,\n",
    ")"
   ]
  },
  {
   "cell_type": "code",
   "execution_count": 54,
   "id": "8272dd77-22c5-4646-94bf-801bcb7e9fab",
   "metadata": {
    "tags": []
   },
   "outputs": [
    {
     "data": {
      "application/vnd.jupyter.widget-view+json": {
       "model_id": "",
       "version_major": 2,
       "version_minor": 0
      },
      "text/plain": [
       "  0%|          | 0/5785 [00:00<?, ?it/s]"
      ]
     },
     "metadata": {},
     "output_type": "display_data"
    }
   ],
   "source": [
    "embeds0 = get_embeddings(\n",
    "            titles[cat_indexes['Наука']],\n",
    "            model, \n",
    "            tokenizer\n",
    "        )"
   ]
  },
  {
   "cell_type": "code",
   "execution_count": 55,
   "id": "e52ff182-3800-4f6c-aea4-a8fc8dab4ef7",
   "metadata": {},
   "outputs": [
    {
     "data": {
      "application/vnd.jupyter.widget-view+json": {
       "model_id": "",
       "version_major": 2,
       "version_minor": 0
      },
      "text/plain": [
       "  0%|          | 0/5785 [00:00<?, ?it/s]"
      ]
     },
     "metadata": {},
     "output_type": "display_data"
    }
   ],
   "source": [
    "embeds = get_embeddings(\n",
    "            contents[cat_indexes['Наука']],\n",
    "            model, \n",
    "            tokenizer\n",
    "        )"
   ]
  },
  {
   "cell_type": "code",
   "execution_count": 56,
   "id": "4fae586c-d0b9-4630-bf10-9bd97c9c457a",
   "metadata": {},
   "outputs": [
    {
     "data": {
      "text/plain": [
       "0.22523768366464997"
      ]
     },
     "execution_count": 56,
     "metadata": {},
     "output_type": "execute_result"
    }
   ],
   "source": [
    "np.mean(cosine_similarity(embeds0, embeds).argmax(1) == np.arange(len(embeds0)))"
   ]
  },
  {
   "cell_type": "code",
   "execution_count": 49,
   "id": "9d33ec9f-0e4b-4760-9534-df768824d487",
   "metadata": {},
   "outputs": [
    {
     "data": {
      "text/plain": [
       "0.5178910976663785"
      ]
     },
     "execution_count": 49,
     "metadata": {},
     "output_type": "execute_result"
    }
   ],
   "source": [
    "np.mean(cosine_similarity(embeds0, embeds).argmax(1) == np.arange(len(embeds0)))"
   ]
  },
  {
   "cell_type": "code",
   "execution_count": 50,
   "id": "35ea4cd6-2d06-41d0-8a05-f34bfbaa5055",
   "metadata": {},
   "outputs": [
    {
     "name": "stderr",
     "output_type": "stream",
     "text": [
      "Some weights of the model checkpoint at cointegrated/rubert-tiny2 were not used when initializing BertModel: ['cls.predictions.transform.dense.bias', 'cls.predictions.decoder.weight', 'cls.predictions.transform.LayerNorm.bias', 'cls.seq_relationship.weight', 'cls.seq_relationship.bias', 'cls.predictions.bias', 'cls.predictions.transform.LayerNorm.weight', 'cls.predictions.decoder.bias', 'cls.predictions.transform.dense.weight']\n",
      "- This IS expected if you are initializing BertModel from the checkpoint of a model trained on another task or with another architecture (e.g. initializing a BertForSequenceClassification model from a BertForPreTraining model).\n",
      "- This IS NOT expected if you are initializing BertModel from the checkpoint of a model that you expect to be exactly identical (initializing a BertForSequenceClassification model from a BertForSequenceClassification model).\n"
     ]
    }
   ],
   "source": [
    "model = TextEncoder()"
   ]
  },
  {
   "cell_type": "code",
   "execution_count": 41,
   "id": "200b59fa-c36a-4e6d-bb36-2ec682933c62",
   "metadata": {},
   "outputs": [
    {
     "data": {
      "text/plain": [
       "array([[1.        , 0.733655  , 0.7304486 , ..., 0.7213632 , 0.70672715,\n",
       "        0.7665206 ],\n",
       "       [0.733655  , 0.99999994, 0.66138726, ..., 0.74151874, 0.71158385,\n",
       "        0.8116312 ],\n",
       "       [0.7304486 , 0.66138726, 1.0000001 , ..., 0.6855321 , 0.6953336 ,\n",
       "        0.7042901 ],\n",
       "       ...,\n",
       "       [0.7213632 , 0.74151874, 0.6855321 , ..., 0.99999994, 0.7572808 ,\n",
       "        0.7208147 ],\n",
       "       [0.70672715, 0.71158385, 0.6953336 , ..., 0.7572808 , 1.0000001 ,\n",
       "        0.7142964 ],\n",
       "       [0.7665206 , 0.8116312 , 0.7042901 , ..., 0.7208147 , 0.7142964 ,\n",
       "        0.9999999 ]], dtype=float32)"
      ]
     },
     "execution_count": 41,
     "metadata": {},
     "output_type": "execute_result"
    }
   ],
   "source": [
    "cosine_similarity(embeds[:32])"
   ]
  },
  {
   "cell_type": "code",
   "execution_count": null,
   "id": "ac7a60b5-33d6-4d05-9be2-0f8049d1fa6f",
   "metadata": {},
   "outputs": [],
   "source": [
    "get_embeddings(titles[indexes])"
   ]
  },
  {
   "cell_type": "code",
   "execution_count": 27,
   "id": "f4cbaeae-7524-41aa-8224-6dc67275bf10",
   "metadata": {},
   "outputs": [
    {
     "data": {
      "text/plain": [
       "'cointegrated/rubert-tiny2'"
      ]
     },
     "execution_count": 27,
     "metadata": {},
     "output_type": "execute_result"
    }
   ],
   "source": [
    "cfg.text_encoder_model"
   ]
  },
  {
   "cell_type": "code",
   "execution_count": 26,
   "id": "4d6e8e1a-1ac2-4e82-8279-bd8b4bf9a1b3",
   "metadata": {},
   "outputs": [
    {
     "data": {
      "text/plain": [
       "torch.Size([128, 200])"
      ]
     },
     "execution_count": 26,
     "metadata": {},
     "output_type": "execute_result"
    }
   ],
   "source": [
    "batch['text1']['input_ids'].shape"
   ]
  },
  {
   "cell_type": "code",
   "execution_count": 34,
   "id": "e2643145-707b-490f-bc19-4b693fdb7ec4",
   "metadata": {},
   "outputs": [
    {
     "data": {
      "text/plain": [
       "tensor(4.1032, device='cuda:0', grad_fn=<MeanBackward0>)"
      ]
     },
     "execution_count": 34,
     "metadata": {},
     "output_type": "execute_result"
    }
   ],
   "source": [
    "CosLoss(model, batch)"
   ]
  },
  {
   "cell_type": "code",
   "execution_count": 108,
   "id": "26592969-4fe2-46fe-9f06-0db7988e6695",
   "metadata": {},
   "outputs": [
    {
     "data": {
      "text/plain": [
       "['loss',\n",
       " 'accuracy',\n",
       " 'Наука_acc',\n",
       " 'Софт_acc',\n",
       " 'Интернет_acc',\n",
       " 'Гаджеты_acc',\n",
       " 'Космос_acc',\n",
       " 'Техника_acc']"
      ]
     },
     "execution_count": 108,
     "metadata": {},
     "output_type": "execute_result"
    }
   ],
   "source": [
    "trainer.metrics"
   ]
  },
  {
   "cell_type": "code",
   "execution_count": 95,
   "id": "0a686e68-0571-42e5-8960-96eb3f781b65",
   "metadata": {},
   "outputs": [
    {
     "data": {
      "text/plain": [
       "{'loss': {'train': [4.181393146514893], 'val': []},\n",
       " 'accuracy': {'train': [], 'val': [0.266089634664401]},\n",
       " 'Наука_acc': {'train': [], 'val': [0.22523768366464997]},\n",
       " 'Софт_acc': {'train': [], 'val': [0.6282051282051282]},\n",
       " 'Интернет_acc': {'train': [], 'val': [0.3740086266870739]},\n",
       " 'Гаджеты_acc': {'train': [], 'val': [0.35918367346938773]},\n",
       " 'Космос_acc': {'train': [], 'val': [0.213641488162345]},\n",
       " 'Техника_acc': {'train': [], 'val': [0.4597207303974221]}}"
      ]
     },
     "execution_count": 95,
     "metadata": {},
     "output_type": "execute_result"
    }
   ],
   "source": [
    "trainer.history"
   ]
  },
  {
   "cell_type": "code",
   "execution_count": 94,
   "id": "6bdf285e-3bc1-4931-8138-711f7b092766",
   "metadata": {},
   "outputs": [
    {
     "data": {
      "text/plain": [
       "{'Наука_acc': 0.22523768366464997,\n",
       " 'Софт_acc': 0.6282051282051282,\n",
       " 'Интернет_acc': 0.3740086266870739,\n",
       " 'Гаджеты_acc': 0.35918367346938773,\n",
       " 'Космос_acc': 0.213641488162345,\n",
       " 'Техника_acc': 0.4597207303974221,\n",
       " 'accuracy': 0.266089634664401}"
      ]
     },
     "execution_count": 94,
     "metadata": {},
     "output_type": "execute_result"
    }
   ],
   "source": [
    "metrics"
   ]
  },
  {
   "cell_type": "code",
   "execution_count": 110,
   "id": "7a99abe2-52f9-4b1c-a3d4-3e304fed0f1d",
   "metadata": {},
   "outputs": [],
   "source": [
    "trainer.print_stats = Trainer(model,CosLoss,optimizer).print_stats"
   ]
  },
  {
   "cell_type": "code",
   "execution_count": 111,
   "id": "7e4ebdba-e850-4975-a26b-46864ab83279",
   "metadata": {},
   "outputs": [
    {
     "name": "stdout",
     "output_type": "stream",
     "text": [
      "---TRAIN---\n",
      "loss train\n"
     ]
    },
    {
     "ename": "TypeError",
     "evalue": "'NoneType' object is not subscriptable",
     "output_type": "error",
     "traceback": [
      "\u001b[0;31m---------------------------------------------------------------------------\u001b[0m",
      "\u001b[0;31mTypeError\u001b[0m                                 Traceback (most recent call last)",
      "\u001b[0;32m<ipython-input-111-a0f356e0b4ea>\u001b[0m in \u001b[0;36m<module>\u001b[0;34m()\u001b[0m\n\u001b[1;32m      4\u001b[0m \u001b[0;31m# logging\u001b[0m\u001b[0;34m\u001b[0m\u001b[0;34m\u001b[0m\u001b[0;34m\u001b[0m\u001b[0m\n\u001b[1;32m      5\u001b[0m \u001b[0mclear_output\u001b[0m\u001b[0;34m(\u001b[0m\u001b[0;34m)\u001b[0m\u001b[0;34m\u001b[0m\u001b[0;34m\u001b[0m\u001b[0m\n\u001b[0;32m----> 6\u001b[0;31m \u001b[0mtrainer\u001b[0m\u001b[0;34m.\u001b[0m\u001b[0mprint_stats\u001b[0m\u001b[0;34m(\u001b[0m\u001b[0;34m)\u001b[0m\u001b[0;34m\u001b[0m\u001b[0;34m\u001b[0m\u001b[0m\n\u001b[0m\u001b[1;32m      7\u001b[0m \u001b[0;34m\u001b[0m\u001b[0m\n\u001b[1;32m      8\u001b[0m \u001b[0;31m# visualizations\u001b[0m\u001b[0;34m\u001b[0m\u001b[0;34m\u001b[0m\u001b[0;34m\u001b[0m\u001b[0m\n",
      "\u001b[0;32m<ipython-input-109-c31ee501bc9b>\u001b[0m in \u001b[0;36mprint_stats\u001b[0;34m(self)\u001b[0m\n\u001b[1;32m    102\u001b[0m             \u001b[0;32mfor\u001b[0m \u001b[0mmetric\u001b[0m \u001b[0;32min\u001b[0m \u001b[0mself\u001b[0m\u001b[0;34m.\u001b[0m\u001b[0mmetrics\u001b[0m\u001b[0;34m:\u001b[0m\u001b[0;34m\u001b[0m\u001b[0;34m\u001b[0m\u001b[0m\n\u001b[1;32m    103\u001b[0m                 \u001b[0mprint\u001b[0m\u001b[0;34m(\u001b[0m\u001b[0mmetric\u001b[0m\u001b[0;34m,\u001b[0m \u001b[0mphase\u001b[0m\u001b[0;34m)\u001b[0m\u001b[0;34m\u001b[0m\u001b[0;34m\u001b[0m\u001b[0m\n\u001b[0;32m--> 104\u001b[0;31m                 \u001b[0mstat\u001b[0m \u001b[0;34m=\u001b[0m \u001b[0mhistory\u001b[0m\u001b[0;34m[\u001b[0m\u001b[0mmetric\u001b[0m\u001b[0;34m]\u001b[0m\u001b[0;34m[\u001b[0m\u001b[0mphase\u001b[0m\u001b[0;34m]\u001b[0m\u001b[0;34m\u001b[0m\u001b[0;34m\u001b[0m\u001b[0m\n\u001b[0m\u001b[1;32m    105\u001b[0m                 \u001b[0;32mif\u001b[0m \u001b[0mstat\u001b[0m\u001b[0;34m:\u001b[0m\u001b[0;34m\u001b[0m\u001b[0;34m\u001b[0m\u001b[0m\n\u001b[1;32m    106\u001b[0m                     \u001b[0mprint\u001b[0m\u001b[0;34m(\u001b[0m\u001b[0;34mf'{metric}: {stat[-1]:.2f}'\u001b[0m\u001b[0;34m,\u001b[0m \u001b[0mfile\u001b[0m\u001b[0;34m=\u001b[0m\u001b[0mself\u001b[0m\u001b[0;34m.\u001b[0m\u001b[0mlog_file\u001b[0m\u001b[0;34m,\u001b[0m \u001b[0mflush\u001b[0m\u001b[0;34m=\u001b[0m\u001b[0;32mTrue\u001b[0m\u001b[0;34m)\u001b[0m\u001b[0;34m\u001b[0m\u001b[0;34m\u001b[0m\u001b[0m\n",
      "\u001b[0;31mTypeError\u001b[0m: 'NoneType' object is not subscriptable"
     ]
    }
   ],
   "source": [
    "# for metric, val in metrics.items():\n",
    "#     trainer.history[metric]['val'].append(val)\n",
    "\n",
    "# logging\n",
    "clear_output()\n",
    "trainer.print_stats()\n",
    "\n",
    "# visualizations\n",
    "if trainer.plot_callback is not None and epoch != 1:\n",
    "    trainer.plot_callback(self.history)\n",
    "\n",
    "# scheduler\n",
    "if trainer.scheduler is not None:\n",
    "    trainer.scheduler.step(trainer.history['loss']['val'][-1])\n",
    "\n",
    "# checkpoint\n",
    "if trainer.ckpt is not None:\n",
    "    if trainer.ckpt(trainer.history['accuracy']['val'][-1]):\n",
    "        print(f'Metric improved: {trainer.ckpt.best:.2%}. Model saved', file=trainer.log_file, flush=True)\n",
    "\n",
    "print(file=trainer.log_file, flush=True)"
   ]
  },
  {
   "cell_type": "code",
   "execution_count": 115,
   "id": "34e055c0-b211-4b91-a5cd-21e474353975",
   "metadata": {},
   "outputs": [
    {
     "data": {
      "text/plain": [
       "{'loss': {'train': [4.181393146514893], 'val': []},\n",
       " 'accuracy': {'train': [], 'val': [0.266089634664401, 0.266089634664401]},\n",
       " 'Наука_acc': {'train': [], 'val': [0.22523768366464997, 0.22523768366464997]},\n",
       " 'Софт_acc': {'train': [], 'val': [0.6282051282051282, 0.6282051282051282]},\n",
       " 'Интернет_acc': {'train': [],\n",
       "  'val': [0.3740086266870739, 0.3740086266870739]},\n",
       " 'Гаджеты_acc': {'train': [],\n",
       "  'val': [0.35918367346938773, 0.35918367346938773]},\n",
       " 'Космос_acc': {'train': [], 'val': [0.213641488162345, 0.213641488162345]},\n",
       " 'Техника_acc': {'train': [], 'val': [0.4597207303974221, 0.4597207303974221]}}"
      ]
     },
     "execution_count": 115,
     "metadata": {},
     "output_type": "execute_result"
    }
   ],
   "source": [
    "trainer.history"
   ]
  },
  {
   "cell_type": "code",
   "execution_count": 114,
   "id": "bdb57165-4972-4da2-9481-2f04b28a0343",
   "metadata": {},
   "outputs": [
    {
     "name": "stdout",
     "output_type": "stream",
     "text": [
      "---TRAIN---\n",
      "loss train\n"
     ]
    },
    {
     "ename": "TypeError",
     "evalue": "'NoneType' object is not subscriptable",
     "output_type": "error",
     "traceback": [
      "\u001b[0;31m---------------------------------------------------------------------------\u001b[0m",
      "\u001b[0;31mTypeError\u001b[0m                                 Traceback (most recent call last)",
      "\u001b[0;32m<ipython-input-114-9c4c4552cc17>\u001b[0m in \u001b[0;36m<module>\u001b[0;34m()\u001b[0m\n\u001b[0;32m----> 1\u001b[0;31m \u001b[0mtrainer\u001b[0m\u001b[0;34m.\u001b[0m\u001b[0mprint_stats\u001b[0m\u001b[0;34m(\u001b[0m\u001b[0;34m)\u001b[0m\u001b[0;34m\u001b[0m\u001b[0;34m\u001b[0m\u001b[0m\n\u001b[0m",
      "\u001b[0;32m<ipython-input-109-c31ee501bc9b>\u001b[0m in \u001b[0;36mprint_stats\u001b[0;34m(self)\u001b[0m\n\u001b[1;32m    102\u001b[0m             \u001b[0;32mfor\u001b[0m \u001b[0mmetric\u001b[0m \u001b[0;32min\u001b[0m \u001b[0mself\u001b[0m\u001b[0;34m.\u001b[0m\u001b[0mmetrics\u001b[0m\u001b[0;34m:\u001b[0m\u001b[0;34m\u001b[0m\u001b[0;34m\u001b[0m\u001b[0m\n\u001b[1;32m    103\u001b[0m                 \u001b[0mprint\u001b[0m\u001b[0;34m(\u001b[0m\u001b[0mmetric\u001b[0m\u001b[0;34m,\u001b[0m \u001b[0mphase\u001b[0m\u001b[0;34m)\u001b[0m\u001b[0;34m\u001b[0m\u001b[0;34m\u001b[0m\u001b[0m\n\u001b[0;32m--> 104\u001b[0;31m                 \u001b[0mstat\u001b[0m \u001b[0;34m=\u001b[0m \u001b[0mhistory\u001b[0m\u001b[0;34m[\u001b[0m\u001b[0mmetric\u001b[0m\u001b[0;34m]\u001b[0m\u001b[0;34m[\u001b[0m\u001b[0mphase\u001b[0m\u001b[0;34m]\u001b[0m\u001b[0;34m\u001b[0m\u001b[0;34m\u001b[0m\u001b[0m\n\u001b[0m\u001b[1;32m    105\u001b[0m                 \u001b[0;32mif\u001b[0m \u001b[0mstat\u001b[0m\u001b[0;34m:\u001b[0m\u001b[0;34m\u001b[0m\u001b[0;34m\u001b[0m\u001b[0m\n\u001b[1;32m    106\u001b[0m                     \u001b[0mprint\u001b[0m\u001b[0;34m(\u001b[0m\u001b[0;34mf'{metric}: {stat[-1]:.2f}'\u001b[0m\u001b[0;34m,\u001b[0m \u001b[0mfile\u001b[0m\u001b[0;34m=\u001b[0m\u001b[0mself\u001b[0m\u001b[0;34m.\u001b[0m\u001b[0mlog_file\u001b[0m\u001b[0;34m,\u001b[0m \u001b[0mflush\u001b[0m\u001b[0;34m=\u001b[0m\u001b[0;32mTrue\u001b[0m\u001b[0;34m)\u001b[0m\u001b[0;34m\u001b[0m\u001b[0;34m\u001b[0m\u001b[0m\n",
      "\u001b[0;31mTypeError\u001b[0m: 'NoneType' object is not subscriptable"
     ]
    }
   ],
   "source": [
    "trainer.print_stats()"
   ]
  },
  {
   "cell_type": "code",
   "execution_count": 113,
   "id": "d149b379-ff9b-4f6f-915b-83cb10992515",
   "metadata": {},
   "outputs": [
    {
     "data": {
      "text/plain": [
       "[4.181393146514893]"
      ]
     },
     "execution_count": 113,
     "metadata": {},
     "output_type": "execute_result"
    }
   ],
   "source": [
    "trainer.history['loss']['train']"
   ]
  },
  {
   "cell_type": "code",
   "execution_count": 107,
   "id": "7139b499-b564-4ae6-8448-c2b83a7afd3c",
   "metadata": {},
   "outputs": [
    {
     "name": "stdout",
     "output_type": "stream",
     "text": [
      "{'accuracy': {'train': [], 'val': [0.266089634664401, 0.266089634664401]},\n",
      " 'loss': {'train': [4.181393146514893], 'val': []},\n",
      " 'Гаджеты_acc': {'train': [],\n",
      "                 'val': [0.35918367346938773, 0.35918367346938773]},\n",
      " 'Интернет_acc': {'train': [], 'val': [0.3740086266870739, 0.3740086266870739]},\n",
      " 'Космос_acc': {'train': [], 'val': [0.213641488162345, 0.213641488162345]},\n",
      " 'Наука_acc': {'train': [], 'val': [0.22523768366464997, 0.22523768366464997]},\n",
      " 'Софт_acc': {'train': [], 'val': [0.6282051282051282, 0.6282051282051282]},\n",
      " 'Техника_acc': {'train': [], 'val': [0.4597207303974221, 0.4597207303974221]}}\n"
     ]
    }
   ],
   "source": [
    "from pprint import pprint\n",
    "pprint(trainer.history)"
   ]
  },
  {
   "cell_type": "code",
   "execution_count": 19,
   "id": "d7dfec0a-f026-4783-af3f-dde3cb298b0b",
   "metadata": {
    "collapsed": true,
    "jupyter": {
     "outputs_hidden": true
    },
    "tags": []
   },
   "outputs": [
    {
     "ename": "RuntimeError",
     "evalue": "Expected all tensors to be on the same device, but found at least two devices, cuda:0 and cpu! (when checking argument for argument index in method wrapper__index_select)",
     "output_type": "error",
     "traceback": [
      "\u001b[0;31m---------------------------------------------------------------------------\u001b[0m",
      "\u001b[0;31mRuntimeError\u001b[0m                              Traceback (most recent call last)",
      "\u001b[0;32m<ipython-input-19-cf0a80b95c7d>\u001b[0m in \u001b[0;36m<module>\u001b[0;34m()\u001b[0m\n\u001b[0;32m----> 1\u001b[0;31m \u001b[0mCosLoss\u001b[0m\u001b[0;34m(\u001b[0m\u001b[0mmodel\u001b[0m\u001b[0;34m,\u001b[0m \u001b[0mbatch\u001b[0m\u001b[0;34m)\u001b[0m\u001b[0;34m\u001b[0m\u001b[0;34m\u001b[0m\u001b[0m\n\u001b[0m",
      "\u001b[0;32m<ipython-input-18-861432d00c78>\u001b[0m in \u001b[0;36mCosLoss\u001b[0;34m(model, batch, temperature)\u001b[0m\n\u001b[1;32m      9\u001b[0m \u001b[0;32mdef\u001b[0m \u001b[0mCosLoss\u001b[0m\u001b[0;34m(\u001b[0m\u001b[0mmodel\u001b[0m\u001b[0;34m,\u001b[0m \u001b[0mbatch\u001b[0m\u001b[0;34m,\u001b[0m \u001b[0mtemperature\u001b[0m\u001b[0;34m=\u001b[0m\u001b[0mcfg\u001b[0m\u001b[0;34m.\u001b[0m\u001b[0mtemperature\u001b[0m\u001b[0;34m)\u001b[0m\u001b[0;34m:\u001b[0m\u001b[0;34m\u001b[0m\u001b[0;34m\u001b[0m\u001b[0m\n\u001b[1;32m     10\u001b[0m     \u001b[0mtitles_pred\u001b[0m \u001b[0;34m=\u001b[0m \u001b[0mmodel\u001b[0m\u001b[0;34m(\u001b[0m\u001b[0mbatch\u001b[0m\u001b[0;34m[\u001b[0m\u001b[0;34m'text1'\u001b[0m\u001b[0;34m]\u001b[0m\u001b[0;34m)\u001b[0m\u001b[0;34m\u001b[0m\u001b[0;34m\u001b[0m\u001b[0m\n\u001b[0;32m---> 11\u001b[0;31m     \u001b[0mcontents_pred\u001b[0m \u001b[0;34m=\u001b[0m \u001b[0mmodel\u001b[0m\u001b[0;34m(\u001b[0m\u001b[0mbatch\u001b[0m\u001b[0;34m[\u001b[0m\u001b[0;34m'text2'\u001b[0m\u001b[0;34m]\u001b[0m\u001b[0;34m)\u001b[0m\u001b[0;34m\u001b[0m\u001b[0;34m\u001b[0m\u001b[0m\n\u001b[0m\u001b[1;32m     12\u001b[0m \u001b[0;34m\u001b[0m\u001b[0m\n\u001b[1;32m     13\u001b[0m     \u001b[0mlogits\u001b[0m \u001b[0;34m=\u001b[0m \u001b[0;34m(\u001b[0m\u001b[0mtitles_pred\u001b[0m \u001b[0;34m@\u001b[0m \u001b[0mcontents_pred\u001b[0m\u001b[0;34m.\u001b[0m\u001b[0mT\u001b[0m\u001b[0;34m)\u001b[0m \u001b[0;34m/\u001b[0m \u001b[0mtemperature\u001b[0m\u001b[0;34m\u001b[0m\u001b[0;34m\u001b[0m\u001b[0m\n",
      "\u001b[0;32m/home/gorodion/go_venv/lib/python3.7/site-packages/torch/nn/modules/module.py\u001b[0m in \u001b[0;36m_call_impl\u001b[0;34m(self, *input, **kwargs)\u001b[0m\n\u001b[1;32m   1108\u001b[0m         if not (self._backward_hooks or self._forward_hooks or self._forward_pre_hooks or _global_backward_hooks\n\u001b[1;32m   1109\u001b[0m                 or _global_forward_hooks or _global_forward_pre_hooks):\n\u001b[0;32m-> 1110\u001b[0;31m             \u001b[0;32mreturn\u001b[0m \u001b[0mforward_call\u001b[0m\u001b[0;34m(\u001b[0m\u001b[0;34m*\u001b[0m\u001b[0minput\u001b[0m\u001b[0;34m,\u001b[0m \u001b[0;34m**\u001b[0m\u001b[0mkwargs\u001b[0m\u001b[0;34m)\u001b[0m\u001b[0;34m\u001b[0m\u001b[0;34m\u001b[0m\u001b[0m\n\u001b[0m\u001b[1;32m   1111\u001b[0m         \u001b[0;31m# Do not call functions when jit is used\u001b[0m\u001b[0;34m\u001b[0m\u001b[0;34m\u001b[0m\u001b[0;34m\u001b[0m\u001b[0m\n\u001b[1;32m   1112\u001b[0m         \u001b[0mfull_backward_hooks\u001b[0m\u001b[0;34m,\u001b[0m \u001b[0mnon_full_backward_hooks\u001b[0m \u001b[0;34m=\u001b[0m \u001b[0;34m[\u001b[0m\u001b[0;34m]\u001b[0m\u001b[0;34m,\u001b[0m \u001b[0;34m[\u001b[0m\u001b[0;34m]\u001b[0m\u001b[0;34m\u001b[0m\u001b[0;34m\u001b[0m\u001b[0m\n",
      "\u001b[0;32m<ipython-input-12-7a1465666d98>\u001b[0m in \u001b[0;36mforward\u001b[0;34m(self, inputs)\u001b[0m\n\u001b[1;32m     10\u001b[0m \u001b[0;34m\u001b[0m\u001b[0m\n\u001b[1;32m     11\u001b[0m     \u001b[0;32mdef\u001b[0m \u001b[0mforward\u001b[0m\u001b[0;34m(\u001b[0m\u001b[0mself\u001b[0m\u001b[0;34m,\u001b[0m \u001b[0minputs\u001b[0m\u001b[0;34m:\u001b[0m \u001b[0mdict\u001b[0m\u001b[0;34m)\u001b[0m\u001b[0;34m:\u001b[0m\u001b[0;34m\u001b[0m\u001b[0;34m\u001b[0m\u001b[0m\n\u001b[0;32m---> 12\u001b[0;31m         \u001b[0moutput\u001b[0m \u001b[0;34m=\u001b[0m \u001b[0mself\u001b[0m\u001b[0;34m.\u001b[0m\u001b[0mmodel\u001b[0m\u001b[0;34m(\u001b[0m\u001b[0;34m**\u001b[0m\u001b[0minputs\u001b[0m\u001b[0;34m)\u001b[0m\u001b[0;34m\u001b[0m\u001b[0;34m\u001b[0m\u001b[0m\n\u001b[0m\u001b[1;32m     13\u001b[0m         \u001b[0mlast_hidden_state\u001b[0m \u001b[0;34m=\u001b[0m \u001b[0moutput\u001b[0m\u001b[0;34m.\u001b[0m\u001b[0mlast_hidden_state\u001b[0m\u001b[0;34m\u001b[0m\u001b[0;34m\u001b[0m\u001b[0m\n\u001b[1;32m     14\u001b[0m         \u001b[0;32mreturn\u001b[0m \u001b[0mlast_hidden_state\u001b[0m\u001b[0;34m[\u001b[0m\u001b[0;34m:\u001b[0m\u001b[0;34m,\u001b[0m \u001b[0mself\u001b[0m\u001b[0;34m.\u001b[0m\u001b[0mtarget_token_idx\u001b[0m\u001b[0;34m,\u001b[0m \u001b[0;34m:\u001b[0m\u001b[0;34m]\u001b[0m\u001b[0;34m\u001b[0m\u001b[0;34m\u001b[0m\u001b[0m\n",
      "\u001b[0;32m/home/gorodion/go_venv/lib/python3.7/site-packages/torch/nn/modules/module.py\u001b[0m in \u001b[0;36m_call_impl\u001b[0;34m(self, *input, **kwargs)\u001b[0m\n\u001b[1;32m   1108\u001b[0m         if not (self._backward_hooks or self._forward_hooks or self._forward_pre_hooks or _global_backward_hooks\n\u001b[1;32m   1109\u001b[0m                 or _global_forward_hooks or _global_forward_pre_hooks):\n\u001b[0;32m-> 1110\u001b[0;31m             \u001b[0;32mreturn\u001b[0m \u001b[0mforward_call\u001b[0m\u001b[0;34m(\u001b[0m\u001b[0;34m*\u001b[0m\u001b[0minput\u001b[0m\u001b[0;34m,\u001b[0m \u001b[0;34m**\u001b[0m\u001b[0mkwargs\u001b[0m\u001b[0;34m)\u001b[0m\u001b[0;34m\u001b[0m\u001b[0;34m\u001b[0m\u001b[0m\n\u001b[0m\u001b[1;32m   1111\u001b[0m         \u001b[0;31m# Do not call functions when jit is used\u001b[0m\u001b[0;34m\u001b[0m\u001b[0;34m\u001b[0m\u001b[0;34m\u001b[0m\u001b[0m\n\u001b[1;32m   1112\u001b[0m         \u001b[0mfull_backward_hooks\u001b[0m\u001b[0;34m,\u001b[0m \u001b[0mnon_full_backward_hooks\u001b[0m \u001b[0;34m=\u001b[0m \u001b[0;34m[\u001b[0m\u001b[0;34m]\u001b[0m\u001b[0;34m,\u001b[0m \u001b[0;34m[\u001b[0m\u001b[0;34m]\u001b[0m\u001b[0;34m\u001b[0m\u001b[0;34m\u001b[0m\u001b[0m\n",
      "\u001b[0;32m/home/gorodion/go_venv/lib/python3.7/site-packages/transformers/models/bert/modeling_bert.py\u001b[0m in \u001b[0;36mforward\u001b[0;34m(self, input_ids, attention_mask, token_type_ids, position_ids, head_mask, inputs_embeds, encoder_hidden_states, encoder_attention_mask, past_key_values, use_cache, output_attentions, output_hidden_states, return_dict)\u001b[0m\n\u001b[1;32m   1013\u001b[0m             \u001b[0mtoken_type_ids\u001b[0m\u001b[0;34m=\u001b[0m\u001b[0mtoken_type_ids\u001b[0m\u001b[0;34m,\u001b[0m\u001b[0;34m\u001b[0m\u001b[0;34m\u001b[0m\u001b[0m\n\u001b[1;32m   1014\u001b[0m             \u001b[0minputs_embeds\u001b[0m\u001b[0;34m=\u001b[0m\u001b[0minputs_embeds\u001b[0m\u001b[0;34m,\u001b[0m\u001b[0;34m\u001b[0m\u001b[0;34m\u001b[0m\u001b[0m\n\u001b[0;32m-> 1015\u001b[0;31m             \u001b[0mpast_key_values_length\u001b[0m\u001b[0;34m=\u001b[0m\u001b[0mpast_key_values_length\u001b[0m\u001b[0;34m,\u001b[0m\u001b[0;34m\u001b[0m\u001b[0;34m\u001b[0m\u001b[0m\n\u001b[0m\u001b[1;32m   1016\u001b[0m         )\n\u001b[1;32m   1017\u001b[0m         encoder_outputs = self.encoder(\n",
      "\u001b[0;32m/home/gorodion/go_venv/lib/python3.7/site-packages/torch/nn/modules/module.py\u001b[0m in \u001b[0;36m_call_impl\u001b[0;34m(self, *input, **kwargs)\u001b[0m\n\u001b[1;32m   1108\u001b[0m         if not (self._backward_hooks or self._forward_hooks or self._forward_pre_hooks or _global_backward_hooks\n\u001b[1;32m   1109\u001b[0m                 or _global_forward_hooks or _global_forward_pre_hooks):\n\u001b[0;32m-> 1110\u001b[0;31m             \u001b[0;32mreturn\u001b[0m \u001b[0mforward_call\u001b[0m\u001b[0;34m(\u001b[0m\u001b[0;34m*\u001b[0m\u001b[0minput\u001b[0m\u001b[0;34m,\u001b[0m \u001b[0;34m**\u001b[0m\u001b[0mkwargs\u001b[0m\u001b[0;34m)\u001b[0m\u001b[0;34m\u001b[0m\u001b[0;34m\u001b[0m\u001b[0m\n\u001b[0m\u001b[1;32m   1111\u001b[0m         \u001b[0;31m# Do not call functions when jit is used\u001b[0m\u001b[0;34m\u001b[0m\u001b[0;34m\u001b[0m\u001b[0;34m\u001b[0m\u001b[0m\n\u001b[1;32m   1112\u001b[0m         \u001b[0mfull_backward_hooks\u001b[0m\u001b[0;34m,\u001b[0m \u001b[0mnon_full_backward_hooks\u001b[0m \u001b[0;34m=\u001b[0m \u001b[0;34m[\u001b[0m\u001b[0;34m]\u001b[0m\u001b[0;34m,\u001b[0m \u001b[0;34m[\u001b[0m\u001b[0;34m]\u001b[0m\u001b[0;34m\u001b[0m\u001b[0;34m\u001b[0m\u001b[0m\n",
      "\u001b[0;32m/home/gorodion/go_venv/lib/python3.7/site-packages/transformers/models/bert/modeling_bert.py\u001b[0m in \u001b[0;36mforward\u001b[0;34m(self, input_ids, token_type_ids, position_ids, inputs_embeds, past_key_values_length)\u001b[0m\n\u001b[1;32m    233\u001b[0m \u001b[0;34m\u001b[0m\u001b[0m\n\u001b[1;32m    234\u001b[0m         \u001b[0;32mif\u001b[0m \u001b[0minputs_embeds\u001b[0m \u001b[0;32mis\u001b[0m \u001b[0;32mNone\u001b[0m\u001b[0;34m:\u001b[0m\u001b[0;34m\u001b[0m\u001b[0;34m\u001b[0m\u001b[0m\n\u001b[0;32m--> 235\u001b[0;31m             \u001b[0minputs_embeds\u001b[0m \u001b[0;34m=\u001b[0m \u001b[0mself\u001b[0m\u001b[0;34m.\u001b[0m\u001b[0mword_embeddings\u001b[0m\u001b[0;34m(\u001b[0m\u001b[0minput_ids\u001b[0m\u001b[0;34m)\u001b[0m\u001b[0;34m\u001b[0m\u001b[0;34m\u001b[0m\u001b[0m\n\u001b[0m\u001b[1;32m    236\u001b[0m         \u001b[0mtoken_type_embeddings\u001b[0m \u001b[0;34m=\u001b[0m \u001b[0mself\u001b[0m\u001b[0;34m.\u001b[0m\u001b[0mtoken_type_embeddings\u001b[0m\u001b[0;34m(\u001b[0m\u001b[0mtoken_type_ids\u001b[0m\u001b[0;34m)\u001b[0m\u001b[0;34m\u001b[0m\u001b[0;34m\u001b[0m\u001b[0m\n\u001b[1;32m    237\u001b[0m \u001b[0;34m\u001b[0m\u001b[0m\n",
      "\u001b[0;32m/home/gorodion/go_venv/lib/python3.7/site-packages/torch/nn/modules/module.py\u001b[0m in \u001b[0;36m_call_impl\u001b[0;34m(self, *input, **kwargs)\u001b[0m\n\u001b[1;32m   1108\u001b[0m         if not (self._backward_hooks or self._forward_hooks or self._forward_pre_hooks or _global_backward_hooks\n\u001b[1;32m   1109\u001b[0m                 or _global_forward_hooks or _global_forward_pre_hooks):\n\u001b[0;32m-> 1110\u001b[0;31m             \u001b[0;32mreturn\u001b[0m \u001b[0mforward_call\u001b[0m\u001b[0;34m(\u001b[0m\u001b[0;34m*\u001b[0m\u001b[0minput\u001b[0m\u001b[0;34m,\u001b[0m \u001b[0;34m**\u001b[0m\u001b[0mkwargs\u001b[0m\u001b[0;34m)\u001b[0m\u001b[0;34m\u001b[0m\u001b[0;34m\u001b[0m\u001b[0m\n\u001b[0m\u001b[1;32m   1111\u001b[0m         \u001b[0;31m# Do not call functions when jit is used\u001b[0m\u001b[0;34m\u001b[0m\u001b[0;34m\u001b[0m\u001b[0;34m\u001b[0m\u001b[0m\n\u001b[1;32m   1112\u001b[0m         \u001b[0mfull_backward_hooks\u001b[0m\u001b[0;34m,\u001b[0m \u001b[0mnon_full_backward_hooks\u001b[0m \u001b[0;34m=\u001b[0m \u001b[0;34m[\u001b[0m\u001b[0;34m]\u001b[0m\u001b[0;34m,\u001b[0m \u001b[0;34m[\u001b[0m\u001b[0;34m]\u001b[0m\u001b[0;34m\u001b[0m\u001b[0;34m\u001b[0m\u001b[0m\n",
      "\u001b[0;32m/home/gorodion/go_venv/lib/python3.7/site-packages/torch/nn/modules/sparse.py\u001b[0m in \u001b[0;36mforward\u001b[0;34m(self, input)\u001b[0m\n\u001b[1;32m    158\u001b[0m         return F.embedding(\n\u001b[1;32m    159\u001b[0m             \u001b[0minput\u001b[0m\u001b[0;34m,\u001b[0m \u001b[0mself\u001b[0m\u001b[0;34m.\u001b[0m\u001b[0mweight\u001b[0m\u001b[0;34m,\u001b[0m \u001b[0mself\u001b[0m\u001b[0;34m.\u001b[0m\u001b[0mpadding_idx\u001b[0m\u001b[0;34m,\u001b[0m \u001b[0mself\u001b[0m\u001b[0;34m.\u001b[0m\u001b[0mmax_norm\u001b[0m\u001b[0;34m,\u001b[0m\u001b[0;34m\u001b[0m\u001b[0;34m\u001b[0m\u001b[0m\n\u001b[0;32m--> 160\u001b[0;31m             self.norm_type, self.scale_grad_by_freq, self.sparse)\n\u001b[0m\u001b[1;32m    161\u001b[0m \u001b[0;34m\u001b[0m\u001b[0m\n\u001b[1;32m    162\u001b[0m     \u001b[0;32mdef\u001b[0m \u001b[0mextra_repr\u001b[0m\u001b[0;34m(\u001b[0m\u001b[0mself\u001b[0m\u001b[0;34m)\u001b[0m \u001b[0;34m->\u001b[0m \u001b[0mstr\u001b[0m\u001b[0;34m:\u001b[0m\u001b[0;34m\u001b[0m\u001b[0;34m\u001b[0m\u001b[0m\n",
      "\u001b[0;32m/home/gorodion/go_venv/lib/python3.7/site-packages/torch/nn/functional.py\u001b[0m in \u001b[0;36membedding\u001b[0;34m(input, weight, padding_idx, max_norm, norm_type, scale_grad_by_freq, sparse)\u001b[0m\n\u001b[1;32m   2181\u001b[0m         \u001b[0;31m# remove once script supports set_grad_enabled\u001b[0m\u001b[0;34m\u001b[0m\u001b[0;34m\u001b[0m\u001b[0;34m\u001b[0m\u001b[0m\n\u001b[1;32m   2182\u001b[0m         \u001b[0m_no_grad_embedding_renorm_\u001b[0m\u001b[0;34m(\u001b[0m\u001b[0mweight\u001b[0m\u001b[0;34m,\u001b[0m \u001b[0minput\u001b[0m\u001b[0;34m,\u001b[0m \u001b[0mmax_norm\u001b[0m\u001b[0;34m,\u001b[0m \u001b[0mnorm_type\u001b[0m\u001b[0;34m)\u001b[0m\u001b[0;34m\u001b[0m\u001b[0;34m\u001b[0m\u001b[0m\n\u001b[0;32m-> 2183\u001b[0;31m     \u001b[0;32mreturn\u001b[0m \u001b[0mtorch\u001b[0m\u001b[0;34m.\u001b[0m\u001b[0membedding\u001b[0m\u001b[0;34m(\u001b[0m\u001b[0mweight\u001b[0m\u001b[0;34m,\u001b[0m \u001b[0minput\u001b[0m\u001b[0;34m,\u001b[0m \u001b[0mpadding_idx\u001b[0m\u001b[0;34m,\u001b[0m \u001b[0mscale_grad_by_freq\u001b[0m\u001b[0;34m,\u001b[0m \u001b[0msparse\u001b[0m\u001b[0;34m)\u001b[0m\u001b[0;34m\u001b[0m\u001b[0;34m\u001b[0m\u001b[0m\n\u001b[0m\u001b[1;32m   2184\u001b[0m \u001b[0;34m\u001b[0m\u001b[0m\n\u001b[1;32m   2185\u001b[0m \u001b[0;34m\u001b[0m\u001b[0m\n",
      "\u001b[0;31mRuntimeError\u001b[0m: Expected all tensors to be on the same device, but found at least two devices, cuda:0 and cpu! (when checking argument for argument index in method wrapper__index_select)"
     ]
    }
   ],
   "source": [
    "CosLoss(model, batch)"
   ]
  },
  {
   "cell_type": "markdown",
   "id": "67369c58-9cd3-490d-9094-7606ffb1f98d",
   "metadata": {},
   "source": [
    "todo drop_last"
   ]
  },
  {
   "cell_type": "code",
   "execution_count": 35,
   "id": "73f62349-4997-4b0f-bc87-7821096f167c",
   "metadata": {},
   "outputs": [],
   "source": [
    "def make_predictions(model, batch):\n",
    "    text_embeddings1 = model.text_encoder(batch['text1'])\n",
    "    text_embeddings2 = model.text_encoder(batch['text2'])\n",
    "\n",
    "    text_embeddings1 = F.normalize(text_embeddings1, p=2, dim=-1)\n",
    "    text_embeddings2 = F.normalize(text_embeddings2, p=2, dim=-1)\n",
    "    predicts = (text_embeddings1 @ text_embeddings2.T).argmax(1).cpu().numpy()\n",
    "    return predicts"
   ]
  },
  {
   "cell_type": "code",
   "execution_count": null,
   "id": "0bde2b0f-5118-4183-8e74-bcab28f0fe17",
   "metadata": {},
   "outputs": [],
   "source": [
    "make_predictions(model, batch['text1'], )"
   ]
  },
  {
   "cell_type": "code",
   "execution_count": null,
   "id": "d4afc4aa-b6cc-44ba-8921-ef8fcc0eb23b",
   "metadata": {},
   "outputs": [
    {
     "data": {
      "text/plain": [
       "dict_keys(['Наука', 'Софт', 'Интернет', 'Гаджеты', 'Космос', 'Техника'])"
      ]
     },
     "execution_count": 44,
     "metadata": {},
     "output_type": "execute_result"
    }
   ],
   "source": [
    "cat_indexes.keys()"
   ]
  },
  {
   "cell_type": "code",
   "execution_count": 156,
   "id": "7612776d-671b-4702-893a-dab4ab51e7f9",
   "metadata": {},
   "outputs": [
    {
     "data": {
      "application/vnd.jupyter.widget-view+json": {
       "model_id": "9281098cf9c74991bf69d68b39e2ba5b",
       "version_major": 2,
       "version_minor": 0
      },
      "text/plain": [
       "  0%|          | 0/3767 [00:00<?, ?it/s]"
      ]
     },
     "metadata": {},
     "output_type": "display_data"
    },
    {
     "data": {
      "application/vnd.jupyter.widget-view+json": {
       "model_id": "ffc89ce606ae42f6bffa1ff36165e508",
       "version_major": 2,
       "version_minor": 0
      },
      "text/plain": [
       "  0%|          | 0/15065 [00:00<?, ?it/s]"
      ]
     },
     "metadata": {},
     "output_type": "display_data"
    },
    {
     "ename": "KeyboardInterrupt",
     "evalue": "",
     "output_type": "error",
     "traceback": [
      "\u001b[0;31m---------------------------------------------------------------------------\u001b[0m",
      "\u001b[0;31mKeyboardInterrupt\u001b[0m                         Traceback (most recent call last)",
      "\u001b[0;32m<ipython-input-156-0064309f68e1>\u001b[0m in \u001b[0;36m<module>\u001b[0;34m()\u001b[0m\n\u001b[0;32m----> 1\u001b[0;31m \u001b[0mcalc_acc\u001b[0m\u001b[0;34m(\u001b[0m\u001b[0;34m)\u001b[0m\u001b[0;34m\u001b[0m\u001b[0;34m\u001b[0m\u001b[0m\n\u001b[0m",
      "\u001b[0;32m<ipython-input-155-0be6f01dfc04>\u001b[0m in \u001b[0;36mcalc_acc\u001b[0;34m()\u001b[0m\n\u001b[1;32m      1\u001b[0m \u001b[0;32mdef\u001b[0m \u001b[0mcalc_acc\u001b[0m\u001b[0;34m(\u001b[0m\u001b[0;34m)\u001b[0m\u001b[0;34m:\u001b[0m\u001b[0;34m\u001b[0m\u001b[0;34m\u001b[0m\u001b[0m\n\u001b[1;32m      2\u001b[0m     \u001b[0mtext_embeddings1\u001b[0m \u001b[0;34m=\u001b[0m \u001b[0mget_embeddings\u001b[0m\u001b[0;34m(\u001b[0m\u001b[0mtitles_val\u001b[0m\u001b[0;34m,\u001b[0m \u001b[0mmodel\u001b[0m\u001b[0;34m,\u001b[0m \u001b[0mtokenizer\u001b[0m\u001b[0;34m)\u001b[0m\u001b[0;34m\u001b[0m\u001b[0;34m\u001b[0m\u001b[0m\n\u001b[0;32m----> 3\u001b[0;31m     \u001b[0mtext_embeddings2\u001b[0m \u001b[0;34m=\u001b[0m \u001b[0mget_embeddings\u001b[0m\u001b[0;34m(\u001b[0m\u001b[0mcontents_val\u001b[0m\u001b[0;34m,\u001b[0m \u001b[0mmodel\u001b[0m\u001b[0;34m,\u001b[0m \u001b[0mtokenizer\u001b[0m\u001b[0;34m)\u001b[0m\u001b[0;34m\u001b[0m\u001b[0;34m\u001b[0m\u001b[0m\n\u001b[0m\u001b[1;32m      4\u001b[0m \u001b[0;34m\u001b[0m\u001b[0m\n\u001b[1;32m      5\u001b[0m     metrics = {\n",
      "\u001b[0;32m<ipython-input-152-d89596c166d4>\u001b[0m in \u001b[0;36mget_embeddings\u001b[0;34m(texts, model, tokenizer)\u001b[0m\n\u001b[1;32m      1\u001b[0m \u001b[0;32mdef\u001b[0m \u001b[0mget_embeddings\u001b[0m\u001b[0;34m(\u001b[0m\u001b[0mtexts\u001b[0m\u001b[0;34m,\u001b[0m \u001b[0mmodel\u001b[0m\u001b[0;34m,\u001b[0m \u001b[0mtokenizer\u001b[0m\u001b[0;34m)\u001b[0m\u001b[0;34m:\u001b[0m\u001b[0;34m\u001b[0m\u001b[0;34m\u001b[0m\u001b[0m\n\u001b[0;32m----> 2\u001b[0;31m     \u001b[0;32mreturn\u001b[0m \u001b[0mnp\u001b[0m\u001b[0;34m.\u001b[0m\u001b[0marray\u001b[0m\u001b[0;34m(\u001b[0m\u001b[0;34m[\u001b[0m\u001b[0mget_embedding\u001b[0m\u001b[0;34m(\u001b[0m\u001b[0mtext\u001b[0m\u001b[0;34m,\u001b[0m \u001b[0mmodel\u001b[0m\u001b[0;34m,\u001b[0m \u001b[0mtokenizer\u001b[0m\u001b[0;34m)\u001b[0m \u001b[0;32mfor\u001b[0m \u001b[0mtext\u001b[0m \u001b[0;32min\u001b[0m \u001b[0mtqdm\u001b[0m\u001b[0;34m(\u001b[0m\u001b[0mtexts\u001b[0m\u001b[0;34m)\u001b[0m\u001b[0;34m]\u001b[0m\u001b[0;34m)\u001b[0m\u001b[0;34m\u001b[0m\u001b[0;34m\u001b[0m\u001b[0m\n\u001b[0m",
      "\u001b[0;32m<ipython-input-152-d89596c166d4>\u001b[0m in \u001b[0;36m<listcomp>\u001b[0;34m(.0)\u001b[0m\n\u001b[1;32m      1\u001b[0m \u001b[0;32mdef\u001b[0m \u001b[0mget_embeddings\u001b[0m\u001b[0;34m(\u001b[0m\u001b[0mtexts\u001b[0m\u001b[0;34m,\u001b[0m \u001b[0mmodel\u001b[0m\u001b[0;34m,\u001b[0m \u001b[0mtokenizer\u001b[0m\u001b[0;34m)\u001b[0m\u001b[0;34m:\u001b[0m\u001b[0;34m\u001b[0m\u001b[0;34m\u001b[0m\u001b[0m\n\u001b[0;32m----> 2\u001b[0;31m     \u001b[0;32mreturn\u001b[0m \u001b[0mnp\u001b[0m\u001b[0;34m.\u001b[0m\u001b[0marray\u001b[0m\u001b[0;34m(\u001b[0m\u001b[0;34m[\u001b[0m\u001b[0mget_embedding\u001b[0m\u001b[0;34m(\u001b[0m\u001b[0mtext\u001b[0m\u001b[0;34m,\u001b[0m \u001b[0mmodel\u001b[0m\u001b[0;34m,\u001b[0m \u001b[0mtokenizer\u001b[0m\u001b[0;34m)\u001b[0m \u001b[0;32mfor\u001b[0m \u001b[0mtext\u001b[0m \u001b[0;32min\u001b[0m \u001b[0mtqdm\u001b[0m\u001b[0;34m(\u001b[0m\u001b[0mtexts\u001b[0m\u001b[0;34m)\u001b[0m\u001b[0;34m]\u001b[0m\u001b[0;34m)\u001b[0m\u001b[0;34m\u001b[0m\u001b[0;34m\u001b[0m\u001b[0m\n\u001b[0m",
      "\u001b[0;32m<ipython-input-151-f1757df82b6a>\u001b[0m in \u001b[0;36mget_embedding\u001b[0;34m(text, model, tokenizer, device)\u001b[0m\n\u001b[1;32m      3\u001b[0m     \u001b[0;32mwith\u001b[0m \u001b[0mtorch\u001b[0m\u001b[0;34m.\u001b[0m\u001b[0mno_grad\u001b[0m\u001b[0;34m(\u001b[0m\u001b[0;34m)\u001b[0m\u001b[0;34m:\u001b[0m\u001b[0;34m\u001b[0m\u001b[0;34m\u001b[0m\u001b[0m\n\u001b[1;32m      4\u001b[0m         \u001b[0minputs\u001b[0m \u001b[0;34m=\u001b[0m \u001b[0;34m{\u001b[0m\u001b[0mk\u001b[0m\u001b[0;34m:\u001b[0m \u001b[0mv\u001b[0m\u001b[0;34m.\u001b[0m\u001b[0mto\u001b[0m\u001b[0;34m(\u001b[0m\u001b[0mdevice\u001b[0m\u001b[0;34m)\u001b[0m \u001b[0;32mfor\u001b[0m \u001b[0mk\u001b[0m\u001b[0;34m,\u001b[0m \u001b[0mv\u001b[0m \u001b[0;32min\u001b[0m \u001b[0mt\u001b[0m\u001b[0;34m.\u001b[0m\u001b[0mitems\u001b[0m\u001b[0;34m(\u001b[0m\u001b[0;34m)\u001b[0m\u001b[0;34m}\u001b[0m\u001b[0;34m\u001b[0m\u001b[0;34m\u001b[0m\u001b[0m\n\u001b[0;32m----> 5\u001b[0;31m         \u001b[0mmodel_output\u001b[0m \u001b[0;34m=\u001b[0m \u001b[0mmodel\u001b[0m\u001b[0;34m(\u001b[0m\u001b[0minputs\u001b[0m\u001b[0;34m)\u001b[0m\u001b[0;34m\u001b[0m\u001b[0;34m\u001b[0m\u001b[0m\n\u001b[0m\u001b[1;32m      6\u001b[0m     \u001b[0membeddings\u001b[0m \u001b[0;34m=\u001b[0m \u001b[0mtorch\u001b[0m\u001b[0;34m.\u001b[0m\u001b[0mnn\u001b[0m\u001b[0;34m.\u001b[0m\u001b[0mfunctional\u001b[0m\u001b[0;34m.\u001b[0m\u001b[0mnormalize\u001b[0m\u001b[0;34m(\u001b[0m\u001b[0mmodel_output\u001b[0m\u001b[0;34m)\u001b[0m\u001b[0;34m\u001b[0m\u001b[0;34m\u001b[0m\u001b[0m\n\u001b[1;32m      7\u001b[0m     \u001b[0;32mreturn\u001b[0m \u001b[0membeddings\u001b[0m\u001b[0;34m[\u001b[0m\u001b[0;36m0\u001b[0m\u001b[0;34m]\u001b[0m\u001b[0;34m.\u001b[0m\u001b[0mcpu\u001b[0m\u001b[0;34m(\u001b[0m\u001b[0;34m)\u001b[0m\u001b[0;34m.\u001b[0m\u001b[0mnumpy\u001b[0m\u001b[0;34m(\u001b[0m\u001b[0;34m)\u001b[0m\u001b[0;34m\u001b[0m\u001b[0;34m\u001b[0m\u001b[0m\n",
      "\u001b[0;32m/home/gorodion/go_venv/lib/python3.7/site-packages/torch/nn/modules/module.py\u001b[0m in \u001b[0;36m_call_impl\u001b[0;34m(self, *input, **kwargs)\u001b[0m\n\u001b[1;32m   1108\u001b[0m         if not (self._backward_hooks or self._forward_hooks or self._forward_pre_hooks or _global_backward_hooks\n\u001b[1;32m   1109\u001b[0m                 or _global_forward_hooks or _global_forward_pre_hooks):\n\u001b[0;32m-> 1110\u001b[0;31m             \u001b[0;32mreturn\u001b[0m \u001b[0mforward_call\u001b[0m\u001b[0;34m(\u001b[0m\u001b[0;34m*\u001b[0m\u001b[0minput\u001b[0m\u001b[0;34m,\u001b[0m \u001b[0;34m**\u001b[0m\u001b[0mkwargs\u001b[0m\u001b[0;34m)\u001b[0m\u001b[0;34m\u001b[0m\u001b[0;34m\u001b[0m\u001b[0m\n\u001b[0m\u001b[1;32m   1111\u001b[0m         \u001b[0;31m# Do not call functions when jit is used\u001b[0m\u001b[0;34m\u001b[0m\u001b[0;34m\u001b[0m\u001b[0;34m\u001b[0m\u001b[0m\n\u001b[1;32m   1112\u001b[0m         \u001b[0mfull_backward_hooks\u001b[0m\u001b[0;34m,\u001b[0m \u001b[0mnon_full_backward_hooks\u001b[0m \u001b[0;34m=\u001b[0m \u001b[0;34m[\u001b[0m\u001b[0;34m]\u001b[0m\u001b[0;34m,\u001b[0m \u001b[0;34m[\u001b[0m\u001b[0;34m]\u001b[0m\u001b[0;34m\u001b[0m\u001b[0;34m\u001b[0m\u001b[0m\n",
      "\u001b[0;32m<ipython-input-16-ffc3370812cb>\u001b[0m in \u001b[0;36mforward\u001b[0;34m(self, inputs)\u001b[0m\n\u001b[1;32m     10\u001b[0m \u001b[0;34m\u001b[0m\u001b[0m\n\u001b[1;32m     11\u001b[0m     \u001b[0;32mdef\u001b[0m \u001b[0mforward\u001b[0m\u001b[0;34m(\u001b[0m\u001b[0mself\u001b[0m\u001b[0;34m,\u001b[0m \u001b[0minputs\u001b[0m\u001b[0;34m:\u001b[0m \u001b[0mdict\u001b[0m\u001b[0;34m)\u001b[0m\u001b[0;34m:\u001b[0m\u001b[0;34m\u001b[0m\u001b[0;34m\u001b[0m\u001b[0m\n\u001b[0;32m---> 12\u001b[0;31m         \u001b[0moutput\u001b[0m \u001b[0;34m=\u001b[0m \u001b[0mself\u001b[0m\u001b[0;34m.\u001b[0m\u001b[0mmodel\u001b[0m\u001b[0;34m(\u001b[0m\u001b[0;34m**\u001b[0m\u001b[0minputs\u001b[0m\u001b[0;34m)\u001b[0m\u001b[0;34m\u001b[0m\u001b[0;34m\u001b[0m\u001b[0m\n\u001b[0m\u001b[1;32m     13\u001b[0m         \u001b[0mlast_hidden_state\u001b[0m \u001b[0;34m=\u001b[0m \u001b[0moutput\u001b[0m\u001b[0;34m.\u001b[0m\u001b[0mlast_hidden_state\u001b[0m\u001b[0;34m[\u001b[0m\u001b[0;34m:\u001b[0m\u001b[0;34m,\u001b[0m \u001b[0mself\u001b[0m\u001b[0;34m.\u001b[0m\u001b[0mtarget_token_idx\u001b[0m\u001b[0;34m,\u001b[0m \u001b[0;34m:\u001b[0m\u001b[0;34m]\u001b[0m\u001b[0;34m\u001b[0m\u001b[0;34m\u001b[0m\u001b[0m\n\u001b[1;32m     14\u001b[0m         \u001b[0;32mreturn\u001b[0m \u001b[0mself\u001b[0m\u001b[0;34m.\u001b[0m\u001b[0mlayer_norm\u001b[0m\u001b[0;34m(\u001b[0m\u001b[0mlast_hidden_state\u001b[0m\u001b[0;34m)\u001b[0m\u001b[0;34m\u001b[0m\u001b[0;34m\u001b[0m\u001b[0m\n",
      "\u001b[0;32m/home/gorodion/go_venv/lib/python3.7/site-packages/torch/nn/modules/module.py\u001b[0m in \u001b[0;36m_call_impl\u001b[0;34m(self, *input, **kwargs)\u001b[0m\n\u001b[1;32m   1108\u001b[0m         if not (self._backward_hooks or self._forward_hooks or self._forward_pre_hooks or _global_backward_hooks\n\u001b[1;32m   1109\u001b[0m                 or _global_forward_hooks or _global_forward_pre_hooks):\n\u001b[0;32m-> 1110\u001b[0;31m             \u001b[0;32mreturn\u001b[0m \u001b[0mforward_call\u001b[0m\u001b[0;34m(\u001b[0m\u001b[0;34m*\u001b[0m\u001b[0minput\u001b[0m\u001b[0;34m,\u001b[0m \u001b[0;34m**\u001b[0m\u001b[0mkwargs\u001b[0m\u001b[0;34m)\u001b[0m\u001b[0;34m\u001b[0m\u001b[0;34m\u001b[0m\u001b[0m\n\u001b[0m\u001b[1;32m   1111\u001b[0m         \u001b[0;31m# Do not call functions when jit is used\u001b[0m\u001b[0;34m\u001b[0m\u001b[0;34m\u001b[0m\u001b[0;34m\u001b[0m\u001b[0m\n\u001b[1;32m   1112\u001b[0m         \u001b[0mfull_backward_hooks\u001b[0m\u001b[0;34m,\u001b[0m \u001b[0mnon_full_backward_hooks\u001b[0m \u001b[0;34m=\u001b[0m \u001b[0;34m[\u001b[0m\u001b[0;34m]\u001b[0m\u001b[0;34m,\u001b[0m \u001b[0;34m[\u001b[0m\u001b[0;34m]\u001b[0m\u001b[0;34m\u001b[0m\u001b[0;34m\u001b[0m\u001b[0m\n",
      "\u001b[0;32m/home/gorodion/go_venv/lib/python3.7/site-packages/transformers/models/bert/modeling_bert.py\u001b[0m in \u001b[0;36mforward\u001b[0;34m(self, input_ids, attention_mask, token_type_ids, position_ids, head_mask, inputs_embeds, encoder_hidden_states, encoder_attention_mask, past_key_values, use_cache, output_attentions, output_hidden_states, return_dict)\u001b[0m\n\u001b[1;32m   1028\u001b[0m         )\n\u001b[1;32m   1029\u001b[0m         \u001b[0msequence_output\u001b[0m \u001b[0;34m=\u001b[0m \u001b[0mencoder_outputs\u001b[0m\u001b[0;34m[\u001b[0m\u001b[0;36m0\u001b[0m\u001b[0;34m]\u001b[0m\u001b[0;34m\u001b[0m\u001b[0;34m\u001b[0m\u001b[0m\n\u001b[0;32m-> 1030\u001b[0;31m         \u001b[0mpooled_output\u001b[0m \u001b[0;34m=\u001b[0m \u001b[0mself\u001b[0m\u001b[0;34m.\u001b[0m\u001b[0mpooler\u001b[0m\u001b[0;34m(\u001b[0m\u001b[0msequence_output\u001b[0m\u001b[0;34m)\u001b[0m \u001b[0;32mif\u001b[0m \u001b[0mself\u001b[0m\u001b[0;34m.\u001b[0m\u001b[0mpooler\u001b[0m \u001b[0;32mis\u001b[0m \u001b[0;32mnot\u001b[0m \u001b[0;32mNone\u001b[0m \u001b[0;32melse\u001b[0m \u001b[0;32mNone\u001b[0m\u001b[0;34m\u001b[0m\u001b[0;34m\u001b[0m\u001b[0m\n\u001b[0m\u001b[1;32m   1031\u001b[0m \u001b[0;34m\u001b[0m\u001b[0m\n\u001b[1;32m   1032\u001b[0m         \u001b[0;32mif\u001b[0m \u001b[0;32mnot\u001b[0m \u001b[0mreturn_dict\u001b[0m\u001b[0;34m:\u001b[0m\u001b[0;34m\u001b[0m\u001b[0;34m\u001b[0m\u001b[0m\n",
      "\u001b[0;32m/home/gorodion/go_venv/lib/python3.7/site-packages/torch/nn/modules/module.py\u001b[0m in \u001b[0;36m_call_impl\u001b[0;34m(self, *input, **kwargs)\u001b[0m\n\u001b[1;32m   1108\u001b[0m         if not (self._backward_hooks or self._forward_hooks or self._forward_pre_hooks or _global_backward_hooks\n\u001b[1;32m   1109\u001b[0m                 or _global_forward_hooks or _global_forward_pre_hooks):\n\u001b[0;32m-> 1110\u001b[0;31m             \u001b[0;32mreturn\u001b[0m \u001b[0mforward_call\u001b[0m\u001b[0;34m(\u001b[0m\u001b[0;34m*\u001b[0m\u001b[0minput\u001b[0m\u001b[0;34m,\u001b[0m \u001b[0;34m**\u001b[0m\u001b[0mkwargs\u001b[0m\u001b[0;34m)\u001b[0m\u001b[0;34m\u001b[0m\u001b[0;34m\u001b[0m\u001b[0m\n\u001b[0m\u001b[1;32m   1111\u001b[0m         \u001b[0;31m# Do not call functions when jit is used\u001b[0m\u001b[0;34m\u001b[0m\u001b[0;34m\u001b[0m\u001b[0;34m\u001b[0m\u001b[0m\n\u001b[1;32m   1112\u001b[0m         \u001b[0mfull_backward_hooks\u001b[0m\u001b[0;34m,\u001b[0m \u001b[0mnon_full_backward_hooks\u001b[0m \u001b[0;34m=\u001b[0m \u001b[0;34m[\u001b[0m\u001b[0;34m]\u001b[0m\u001b[0;34m,\u001b[0m \u001b[0;34m[\u001b[0m\u001b[0;34m]\u001b[0m\u001b[0;34m\u001b[0m\u001b[0;34m\u001b[0m\u001b[0m\n",
      "\u001b[0;32m/home/gorodion/go_venv/lib/python3.7/site-packages/transformers/models/bert/modeling_bert.py\u001b[0m in \u001b[0;36mforward\u001b[0;34m(self, hidden_states)\u001b[0m\n\u001b[1;32m    656\u001b[0m         \u001b[0;31m# to the first token.\u001b[0m\u001b[0;34m\u001b[0m\u001b[0;34m\u001b[0m\u001b[0;34m\u001b[0m\u001b[0m\n\u001b[1;32m    657\u001b[0m         \u001b[0mfirst_token_tensor\u001b[0m \u001b[0;34m=\u001b[0m \u001b[0mhidden_states\u001b[0m\u001b[0;34m[\u001b[0m\u001b[0;34m:\u001b[0m\u001b[0;34m,\u001b[0m \u001b[0;36m0\u001b[0m\u001b[0;34m]\u001b[0m\u001b[0;34m\u001b[0m\u001b[0;34m\u001b[0m\u001b[0m\n\u001b[0;32m--> 658\u001b[0;31m         \u001b[0mpooled_output\u001b[0m \u001b[0;34m=\u001b[0m \u001b[0mself\u001b[0m\u001b[0;34m.\u001b[0m\u001b[0mdense\u001b[0m\u001b[0;34m(\u001b[0m\u001b[0mfirst_token_tensor\u001b[0m\u001b[0;34m)\u001b[0m\u001b[0;34m\u001b[0m\u001b[0;34m\u001b[0m\u001b[0m\n\u001b[0m\u001b[1;32m    659\u001b[0m         \u001b[0mpooled_output\u001b[0m \u001b[0;34m=\u001b[0m \u001b[0mself\u001b[0m\u001b[0;34m.\u001b[0m\u001b[0mactivation\u001b[0m\u001b[0;34m(\u001b[0m\u001b[0mpooled_output\u001b[0m\u001b[0;34m)\u001b[0m\u001b[0;34m\u001b[0m\u001b[0;34m\u001b[0m\u001b[0m\n\u001b[1;32m    660\u001b[0m         \u001b[0;32mreturn\u001b[0m \u001b[0mpooled_output\u001b[0m\u001b[0;34m\u001b[0m\u001b[0;34m\u001b[0m\u001b[0m\n",
      "\u001b[0;32m/home/gorodion/go_venv/lib/python3.7/site-packages/torch/nn/modules/module.py\u001b[0m in \u001b[0;36m_call_impl\u001b[0;34m(self, *input, **kwargs)\u001b[0m\n\u001b[1;32m   1108\u001b[0m         if not (self._backward_hooks or self._forward_hooks or self._forward_pre_hooks or _global_backward_hooks\n\u001b[1;32m   1109\u001b[0m                 or _global_forward_hooks or _global_forward_pre_hooks):\n\u001b[0;32m-> 1110\u001b[0;31m             \u001b[0;32mreturn\u001b[0m \u001b[0mforward_call\u001b[0m\u001b[0;34m(\u001b[0m\u001b[0;34m*\u001b[0m\u001b[0minput\u001b[0m\u001b[0;34m,\u001b[0m \u001b[0;34m**\u001b[0m\u001b[0mkwargs\u001b[0m\u001b[0;34m)\u001b[0m\u001b[0;34m\u001b[0m\u001b[0;34m\u001b[0m\u001b[0m\n\u001b[0m\u001b[1;32m   1111\u001b[0m         \u001b[0;31m# Do not call functions when jit is used\u001b[0m\u001b[0;34m\u001b[0m\u001b[0;34m\u001b[0m\u001b[0;34m\u001b[0m\u001b[0m\n\u001b[1;32m   1112\u001b[0m         \u001b[0mfull_backward_hooks\u001b[0m\u001b[0;34m,\u001b[0m \u001b[0mnon_full_backward_hooks\u001b[0m \u001b[0;34m=\u001b[0m \u001b[0;34m[\u001b[0m\u001b[0;34m]\u001b[0m\u001b[0;34m,\u001b[0m \u001b[0;34m[\u001b[0m\u001b[0;34m]\u001b[0m\u001b[0;34m\u001b[0m\u001b[0;34m\u001b[0m\u001b[0m\n",
      "\u001b[0;32m/home/gorodion/go_venv/lib/python3.7/site-packages/torch/nn/modules/linear.py\u001b[0m in \u001b[0;36mforward\u001b[0;34m(self, input)\u001b[0m\n\u001b[1;32m    101\u001b[0m \u001b[0;34m\u001b[0m\u001b[0m\n\u001b[1;32m    102\u001b[0m     \u001b[0;32mdef\u001b[0m \u001b[0mforward\u001b[0m\u001b[0;34m(\u001b[0m\u001b[0mself\u001b[0m\u001b[0;34m,\u001b[0m \u001b[0minput\u001b[0m\u001b[0;34m:\u001b[0m \u001b[0mTensor\u001b[0m\u001b[0;34m)\u001b[0m \u001b[0;34m->\u001b[0m \u001b[0mTensor\u001b[0m\u001b[0;34m:\u001b[0m\u001b[0;34m\u001b[0m\u001b[0;34m\u001b[0m\u001b[0m\n\u001b[0;32m--> 103\u001b[0;31m         \u001b[0;32mreturn\u001b[0m \u001b[0mF\u001b[0m\u001b[0;34m.\u001b[0m\u001b[0mlinear\u001b[0m\u001b[0;34m(\u001b[0m\u001b[0minput\u001b[0m\u001b[0;34m,\u001b[0m \u001b[0mself\u001b[0m\u001b[0;34m.\u001b[0m\u001b[0mweight\u001b[0m\u001b[0;34m,\u001b[0m \u001b[0mself\u001b[0m\u001b[0;34m.\u001b[0m\u001b[0mbias\u001b[0m\u001b[0;34m)\u001b[0m\u001b[0;34m\u001b[0m\u001b[0;34m\u001b[0m\u001b[0m\n\u001b[0m\u001b[1;32m    104\u001b[0m \u001b[0;34m\u001b[0m\u001b[0m\n\u001b[1;32m    105\u001b[0m     \u001b[0;32mdef\u001b[0m \u001b[0mextra_repr\u001b[0m\u001b[0;34m(\u001b[0m\u001b[0mself\u001b[0m\u001b[0;34m)\u001b[0m \u001b[0;34m->\u001b[0m \u001b[0mstr\u001b[0m\u001b[0;34m:\u001b[0m\u001b[0;34m\u001b[0m\u001b[0;34m\u001b[0m\u001b[0m\n",
      "\u001b[0;31mKeyboardInterrupt\u001b[0m: "
     ]
    }
   ],
   "source": [
    "calc_acc()"
   ]
  },
  {
   "cell_type": "code",
   "execution_count": 75,
   "id": "5b7cb0bc-679a-4469-a21f-63ea0db7e41f",
   "metadata": {},
   "outputs": [
    {
     "data": {
      "text/plain": [
       "0.9952740016992353"
      ]
     },
     "execution_count": 75,
     "metadata": {},
     "output_type": "execute_result"
    }
   ],
   "source": [
    "best_acc"
   ]
  },
  {
   "cell_type": "code",
   "execution_count": 72,
   "id": "43a4412b-104a-4c27-96af-520cd434be98",
   "metadata": {},
   "outputs": [],
   "source": [
    "cfg.save_path = 'best.pt'"
   ]
  }
 ],
 "metadata": {
  "kernelspec": {
   "display_name": "Python 3",
   "language": "python",
   "name": "python3"
  },
  "language_info": {
   "codemirror_mode": {
    "name": "ipython",
    "version": 3
   },
   "file_extension": ".py",
   "mimetype": "text/x-python",
   "name": "python",
   "nbconvert_exporter": "python",
   "pygments_lexer": "ipython3",
   "version": "3.7.3"
  }
 },
 "nbformat": 4,
 "nbformat_minor": 5
}
