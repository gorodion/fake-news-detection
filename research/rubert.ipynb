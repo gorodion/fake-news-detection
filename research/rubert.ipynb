{
 "cells": [
  {
   "cell_type": "raw",
   "id": "4f9a84cb-f1ef-4217-8bb9-0e78f47c49c4",
   "metadata": {},
   "source": [
    "!gdown --id 1fFNw2cqWIwOY0KJoW2DqqWpdKObfaW4A\n",
    "!unzip rubert.zip"
   ]
  },
  {
   "cell_type": "code",
   "execution_count": 3,
   "id": "41ba7471-f190-476a-aeba-e330e60d61ed",
   "metadata": {},
   "outputs": [
    {
     "name": "stderr",
     "output_type": "stream",
     "text": [
      "Some weights of the model checkpoint at cointegrated/rubert-tiny2 were not used when initializing BertModel: ['cls.seq_relationship.weight', 'cls.predictions.decoder.bias', 'cls.predictions.bias', 'cls.predictions.transform.LayerNorm.weight', 'cls.predictions.transform.dense.bias', 'cls.predictions.transform.dense.weight', 'cls.seq_relationship.bias', 'cls.predictions.transform.LayerNorm.bias', 'cls.predictions.decoder.weight']\n",
      "- This IS expected if you are initializing BertModel from the checkpoint of a model trained on another task or with another architecture (e.g. initializing a BertForSequenceClassification model from a BertForPreTraining model).\n",
      "- This IS NOT expected if you are initializing BertModel from the checkpoint of a model that you expect to be exactly identical (initializing a BertForSequenceClassification model from a BertForSequenceClassification model).\n"
     ]
    },
    {
     "name": "stdout",
     "output_type": "stream",
     "text": [
      "(312,)\n"
     ]
    }
   ],
   "source": [
    "import torch\n",
    "from transformers import AutoTokenizer, AutoModel\n",
    "\n",
    "DEVICE = torch.device('cuda')\n",
    "\n",
    "tokenizer = AutoTokenizer.from_pretrained(\"cointegrated/rubert-tiny2\", cache_dir='rubert')\n",
    "model = AutoModel.from_pretrained(\"cointegrated/rubert-tiny2\", cache_dir='rubert').to(DEVICE)\n",
    "# model.cuda()  # uncomment it if you have a GPU"
   ]
  },
  {
   "cell_type": "code",
   "execution_count": 11,
   "id": "45c188b6-2312-4bb7-8f46-f4204d476014",
   "metadata": {},
   "outputs": [],
   "source": [
    "def embed_bert_cls(text, model, tokenizer):\n",
    "    t = tokenizer(text, padding=True, truncation=True, return_tensors='pt')\n",
    "    with torch.no_grad():\n",
    "        model_output = model(**{k: v.to(model.device) for k, v in t.items()})\n",
    "    embeddings = model_output.last_hidden_state[:, 0, :]\n",
    "    embeddings = torch.nn.functional.normalize(embeddings)\n",
    "    return embeddings[0].cpu().numpy()"
   ]
  },
  {
   "cell_type": "markdown",
   "id": "499820ad-0947-4157-9f9c-1d13dca925ce",
   "metadata": {},
   "source": [
    "true embeds"
   ]
  },
  {
   "cell_type": "code",
   "execution_count": 171,
   "id": "f4067d63-c0ae-4581-bebf-24de20695963",
   "metadata": {},
   "outputs": [],
   "source": [
    "import pandas as pd\n",
    "\n",
    "df = pd.read_csv('lenta_tech.csv')"
   ]
  },
  {
   "cell_type": "code",
   "execution_count": 172,
   "id": "d349d62f-2335-406f-88df-39d0cf80064e",
   "metadata": {},
   "outputs": [],
   "source": [
    "from tqdm.notebook import tqdm"
   ]
  },
  {
   "cell_type": "code",
   "execution_count": 173,
   "id": "3cd406bd-dd73-4a08-a94e-0340f6676692",
   "metadata": {},
   "outputs": [
    {
     "data": {
      "application/vnd.jupyter.widget-view+json": {
       "model_id": "0d8d3563ac8b40e18093d0058b43df32",
       "version_major": 2,
       "version_minor": 0
      },
      "text/plain": [
       "  0%|          | 0/18832 [00:00<?, ?it/s]"
      ]
     },
     "metadata": {},
     "output_type": "display_data"
    }
   ],
   "source": [
    "embeds = []\n",
    "for text in tqdm(df.text.values):\n",
    "    embeds.append(embed_bert_cls(text, model, tokenizer))"
   ]
  },
  {
   "cell_type": "code",
   "execution_count": 174,
   "id": "f8635095-b65e-4900-9755-28e1276b722b",
   "metadata": {},
   "outputs": [],
   "source": [
    "import numpy as np\n",
    "embeds = np.array(embeds)"
   ]
  },
  {
   "cell_type": "code",
   "execution_count": 176,
   "id": "9fb83dfb-f2f0-4022-a186-96f2ca12f2dc",
   "metadata": {},
   "outputs": [],
   "source": [
    "np.save('title_embeds.npy', embeds)"
   ]
  },
  {
   "cell_type": "code",
   "execution_count": null,
   "id": "39deeb8c-638b-4d18-a492-0dec28e5d0b7",
   "metadata": {},
   "outputs": [],
   "source": [
    "print(embed_bert_cls('привет мир', model, tokenizer).shape)"
   ]
  },
  {
   "cell_type": "markdown",
   "id": "5e8aec6f-10f0-4c3e-b035-96f25f235e6e",
   "metadata": {},
   "source": [
    "gen embeds"
   ]
  },
  {
   "cell_type": "code",
   "execution_count": 56,
   "id": "ce9ef06c-f6c3-4583-bb00-e2529a373e83",
   "metadata": {},
   "outputs": [],
   "source": [
    "generated = pd.read_csv('generated.txt', header=None, squeeze=True)"
   ]
  },
  {
   "cell_type": "code",
   "execution_count": 58,
   "id": "83d9ba4e-f94d-4529-8802-f15f561a2117",
   "metadata": {},
   "outputs": [
    {
     "data": {
      "application/vnd.jupyter.widget-view+json": {
       "model_id": "fa9cf18d86c84d14966c860ef4551612",
       "version_major": 2,
       "version_minor": 0
      },
      "text/plain": [
       "  0%|          | 0/2000 [00:00<?, ?it/s]"
      ]
     },
     "metadata": {},
     "output_type": "display_data"
    }
   ],
   "source": [
    "gen_embeds = []\n",
    "for text in tqdm(generated.values):\n",
    "    gen_embeds.append(embed_bert_cls(text, model, tokenizer))"
   ]
  },
  {
   "cell_type": "code",
   "execution_count": 59,
   "id": "d7fac1e7-1134-47c5-b714-9b262e9a4c8b",
   "metadata": {},
   "outputs": [],
   "source": [
    "import numpy as np\n",
    "gen_embeds = np.array(gen_embeds)"
   ]
  },
  {
   "cell_type": "code",
   "execution_count": 60,
   "id": "70484c1b-fa1f-4b53-b060-7a73c5d48f06",
   "metadata": {},
   "outputs": [],
   "source": [
    "np.save('gen_embeds.npy', gen_embeds)"
   ]
  },
  {
   "cell_type": "markdown",
   "id": "d9fc60f1-6171-4e29-889c-edee6b57e2c9",
   "metadata": {},
   "source": [
    "comparing"
   ]
  },
  {
   "cell_type": "code",
   "execution_count": null,
   "id": "655cc2fd-90cd-4b0f-827a-0a3e80993a84",
   "metadata": {},
   "outputs": [],
   "source": []
  }
 ],
 "metadata": {
  "kernelspec": {
   "display_name": "Python 3",
   "language": "python",
   "name": "python3"
  },
  "language_info": {
   "codemirror_mode": {
    "name": "ipython",
    "version": 3
   },
   "file_extension": ".py",
   "mimetype": "text/x-python",
   "name": "python",
   "nbconvert_exporter": "python",
   "pygments_lexer": "ipython3",
   "version": "3.7.3"
  }
 },
 "nbformat": 4,
 "nbformat_minor": 5
}
